{
 "cells": [
  {
   "cell_type": "markdown",
   "metadata": {
    "id": "DDdpBHpxX8N5"
   },
   "source": [
    "## Starter code to read from PostgresSQL for further analysis."
   ]
  },
  {
   "cell_type": "code",
   "execution_count": 1,
   "metadata": {
    "colab": {
     "base_uri": "https://localhost:8080/"
    },
    "id": "H53vaWd6X30E",
    "outputId": "d25c7b25-1435-46fc-d6a8-23bee9a1f52c"
   },
   "outputs": [
    {
     "name": "stdout",
     "output_type": "stream",
     "text": [
      "Requirement already satisfied: psycopg2-binary in c:\\users\\rkota\\appdata\\roaming\\python\\python37\\site-packages (2.9.3)\n"
     ]
    }
   ],
   "source": [
    "!pip install psycopg2-binary\n"
   ]
  },
  {
   "cell_type": "code",
   "execution_count": null,
   "metadata": {
    "id": "jbjiPdPMYp8L"
   },
   "outputs": [],
   "source": []
  },
  {
   "cell_type": "markdown",
   "metadata": {
    "id": "7H_js56CX5Br"
   },
   "source": [
    "## Connection credentials dictionary is created."
   ]
  },
  {
   "cell_type": "code",
   "execution_count": 2,
   "metadata": {
    "id": "zThtyO8xYHgc"
   },
   "outputs": [],
   "source": [
    "\n",
    "import psycopg2 as posgresSql\n",
    "# define credentials \n",
    "credentials = {'POSTGRES_ADDRESS' : 'database-1.c1bq6ytovfoa.us-west-2.rds.amazonaws.com', # change to your endpoint\n",
    "               'POSTGRES_PORT' : '5432', # change to your port\n",
    "               'POSTGRES_USERNAME' : 'postgres', # change to your username\n",
    "               'POSTGRES_PASSWORD' : 'postgres', # change to your password\n",
    "               'POSTGRES_DBNAME' : 'postgres'} # change to your db name\n",
    "\n",
    "\n",
    "# create connection and cursor    \n",
    "conn = posgresSql.connect(host=credentials['POSTGRES_ADDRESS'],\n",
    "                  database=credentials['POSTGRES_DBNAME'],\n",
    "                  user=credentials['POSTGRES_USERNAME'],\n",
    "                  password=credentials['POSTGRES_PASSWORD'],\n",
    "                  port=credentials['POSTGRES_PORT'])\n",
    "\n",
    "table_conn = conn.cursor()"
   ]
  },
  {
   "cell_type": "code",
   "execution_count": 3,
   "metadata": {
    "id": "lN54RMNs0YLs"
   },
   "outputs": [],
   "source": [
    "\n",
    "import pandas as pd\n",
    "\n",
    "# tablename = 'CountryDemographics'\n",
    "# query = f\"\"\"SELECT * FROM {tablename};\"\"\"\n",
    "\n",
    "query = \"\"\"SELECT * FROM CountryDemographics;\"\"\"\n",
    "\n",
    "table_conn.execute(query=query)\n",
    "country_df = pd.DataFrame(table_conn.fetchall(), columns= ['country_name','country_code','latitude','longitude','GDP'])"
   ]
  },
  {
   "cell_type": "code",
   "execution_count": 4,
   "metadata": {
    "colab": {
     "base_uri": "https://localhost:8080/",
     "height": 424
    },
    "id": "Fhx8R3q_2J_m",
    "outputId": "4f546d3e-c869-4f6f-c096-582d010b229f"
   },
   "outputs": [],
   "source": [
    "country_df = country_df.set_index('country_name')\n",
    "country_df.to_csv(\"CountryDemographics.csv\")\n",
    "\n"
   ]
  }
 ],
 "metadata": {
  "colab": {
   "provenance": []
  },
  "kernelspec": {
   "display_name": "Python 3 (ipykernel)",
   "language": "python",
   "name": "python3"
  },
  "language_info": {
   "codemirror_mode": {
    "name": "ipython",
    "version": 3
   },
   "file_extension": ".py",
   "mimetype": "text/x-python",
   "name": "python",
   "nbconvert_exporter": "python",
   "pygments_lexer": "ipython3",
   "version": "3.7.13"
  },
  "vscode": {
   "interpreter": {
    "hash": "6ced8a6b768c7df028c0800f28c0973655bdee11e751a21eac6fa3c45a26571d"
   }
  }
 },
 "nbformat": 4,
 "nbformat_minor": 1
}
