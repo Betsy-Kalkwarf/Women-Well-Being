{
  "nbformat": 4,
  "nbformat_minor": 0,
  "metadata": {
    "colab": {
      "provenance": []
    },
    "kernelspec": {
      "name": "python3",
      "display_name": "Python 3"
    },
    "language_info": {
      "name": "python"
    },
    "gpuClass": "standard"
  },
  "cells": [
    {
      "cell_type": "markdown",
      "source": [
        "# Required Installations of Spark & Jave and set up of Environment Variables."
      ],
      "metadata": {
        "id": "MVIYYQM0NI2D"
      }
    },
    {
      "cell_type": "code",
      "execution_count": 1,
      "metadata": {
        "colab": {
          "base_uri": "https://localhost:8080/"
        },
        "id": "KCCChj51W1Zt",
        "outputId": "a1b1fd3e-bc37-4ef4-841b-c16deb67bec8"
      },
      "outputs": [
        {
          "output_type": "stream",
          "name": "stdout",
          "text": [
            "\r0% [Working]\r            \rHit:1 http://archive.ubuntu.com/ubuntu bionic InRelease\n",
            "\r            \rHit:2 http://ppa.launchpad.net/c2d4u.team/c2d4u4.0+/ubuntu bionic InRelease\n",
            "\r            \rHit:3 http://ppa.launchpad.net/cran/libgit2/ubuntu bionic InRelease\n",
            "\r0% [Waiting for headers] [Waiting for headers] [Connected to cloud.r-project.or\r                                                                               \rGet:4 http://archive.ubuntu.com/ubuntu bionic-updates InRelease [88.7 kB]\n",
            "\r                                                                               \rGet:5 http://security.ubuntu.com/ubuntu bionic-security InRelease [88.7 kB]\n",
            "\r                                                                               \rGet:6 https://cloud.r-project.org/bin/linux/ubuntu bionic-cran40/ InRelease [3,626 B]\n",
            "\r0% [4 InRelease 88.7 kB/88.7 kB 100%] [Waiting for headers] [Waiting for header\r                                                                               \rHit:7 http://ppa.launchpad.net/deadsnakes/ppa/ubuntu bionic InRelease\n",
            "\r0% [1 InRelease gpgv 242 kB] [Waiting for headers] [Waiting for headers] [Conne\r                                                                               \rGet:8 http://archive.ubuntu.com/ubuntu bionic-backports InRelease [83.3 kB]\n",
            "Hit:9 http://ppa.launchpad.net/graphics-drivers/ppa/ubuntu bionic InRelease\n",
            "Ign:10 https://developer.download.nvidia.com/compute/machine-learning/repos/ubuntu1804/x86_64  InRelease\n",
            "Hit:11 https://developer.download.nvidia.com/compute/cuda/repos/ubuntu1804/x86_64  InRelease\n",
            "Hit:12 https://developer.download.nvidia.com/compute/machine-learning/repos/ubuntu1804/x86_64  Release\n",
            "Get:13 http://security.ubuntu.com/ubuntu bionic-security/main amd64 Packages [3,100 kB]\n",
            "Get:14 http://security.ubuntu.com/ubuntu bionic-security/universe amd64 Packages [1,568 kB]\n",
            "Get:15 http://archive.ubuntu.com/ubuntu bionic-updates/universe amd64 Packages [2,344 kB]\n",
            "Get:16 http://archive.ubuntu.com/ubuntu bionic-updates/main amd64 Packages [3,525 kB]\n",
            "Fetched 10.8 MB in 3s (3,542 kB/s)\n",
            "Reading package lists... Done\n"
          ]
        }
      ],
      "source": [
        "import os\n",
        "# Find the latest version of spark 3.2 from http://www.apache.org/dist/spark/ and enter as the spark version\n",
        "# For example:\n",
        "# spark_version = 'spark-3.2.3'\n",
        "spark_version = 'spark-3.2.3'\n",
        "os.environ['SPARK_VERSION']=spark_version\n",
        "\n",
        "# Install Spark and Java\n",
        "!apt-get update\n",
        "!apt-get install openjdk-11-jdk-headless -qq > /dev/null\n",
        "!wget -q http://www.apache.org/dist/spark/$SPARK_VERSION/$SPARK_VERSION-bin-hadoop2.7.tgz\n",
        "!tar xf $SPARK_VERSION-bin-hadoop2.7.tgz\n",
        "!pip install -q findspark\n",
        "\n",
        "# Set Environment Variables\n",
        "import os\n",
        "os.environ[\"JAVA_HOME\"] = \"/usr/lib/jvm/java-11-openjdk-amd64\"\n",
        "os.environ[\"SPARK_HOME\"] = f\"/content/{spark_version}-bin-hadoop2.7\"\n",
        "\n",
        "# Start a SparkSession\n",
        "import findspark\n",
        "findspark.init()\n",
        "\n"
      ]
    },
    {
      "cell_type": "code",
      "source": [
        "# Download the Postgres driver that will allow Spark to interact with Postgres.\n",
        "!wget https://jdbc.postgresql.org/download/postgresql-42.5.1.jar"
      ],
      "metadata": {
        "colab": {
          "base_uri": "https://localhost:8080/"
        },
        "id": "XFw4dnCHoPa2",
        "outputId": "cca4deca-2e07-4e67-d84a-312ff49a3486"
      },
      "execution_count": 3,
      "outputs": [
        {
          "output_type": "stream",
          "name": "stdout",
          "text": [
            "--2023-01-04 23:44:29--  https://jdbc.postgresql.org/download/postgresql-42.5.1.jar\n",
            "Resolving jdbc.postgresql.org (jdbc.postgresql.org)... 72.32.157.228, 2001:4800:3e1:1::228\n",
            "Connecting to jdbc.postgresql.org (jdbc.postgresql.org)|72.32.157.228|:443... connected.\n",
            "HTTP request sent, awaiting response... 200 OK\n",
            "Length: 1046770 (1022K) [application/java-archive]\n",
            "Saving to: ‘postgresql-42.5.1.jar’\n",
            "\n",
            "postgresql-42.5.1.j 100%[===================>]   1022K  1.66MB/s    in 0.6s    \n",
            "\n",
            "2023-01-04 23:44:31 (1.66 MB/s) - ‘postgresql-42.5.1.jar’ saved [1046770/1046770]\n",
            "\n"
          ]
        }
      ]
    },
    {
      "cell_type": "markdown",
      "source": [
        "# Load Amazon Data into Spark DataFrame\n",
        "## Get the Country latitude and longitude details with GDP"
      ],
      "metadata": {
        "id": "gLiAb-d1N0jl"
      }
    },
    {
      "cell_type": "code",
      "source": [
        "from pyspark.sql import SparkSession\n",
        "spark = SparkSession.builder.appName(\"FinalProject-WomenWellBeing\").config(\"spark.driver.extraClassPath\",\"/content/postgresql-42.5.1.jar\").getOrCreate()\n"
      ],
      "metadata": {
        "id": "t996OTiFYemK"
      },
      "execution_count": 4,
      "outputs": []
    },
    {
      "cell_type": "code",
      "source": [
        "from pyspark import SparkFiles\n",
        "url = \"https://womenwellbeing.s3.us-west-1.amazonaws.com/world_country_and_usa_states_latitude_and_longitude_values.csv\"\n",
        "spark.sparkContext.addFile(url)\n",
        "\n",
        "\n",
        "\n",
        "from pyspark.sql.types import StructType,StructField,StringType,IntegerType,DoubleType\n",
        "schema = StructType([\n",
        "  StructField(\"country_code\", StringType(), False),  \n",
        "  StructField(\"latitude\", DoubleType(), True),\n",
        "  StructField(\"longitude\", DoubleType(), True),\n",
        "  StructField(\"country_name\", StringType(), False),\n",
        "  ])\n",
        "\n",
        "country_df = spark.read.option(\"encoding\", \"UTF-8\").schema(schema).csv(SparkFiles.get(\"world_country_and_usa_states_latitude_and_longitude_values.csv\"), sep=\",\", header=True, inferSchema=True)\n",
        "country_df.show()\n"
      ],
      "metadata": {
        "id": "Reda9E2NYwXu",
        "colab": {
          "base_uri": "https://localhost:8080/"
        },
        "outputId": "b36c16ff-9b1e-4cac-e237-79afb4a6b862"
      },
      "execution_count": 5,
      "outputs": [
        {
          "output_type": "stream",
          "name": "stdout",
          "text": [
            "+------------+----------+-----------+--------------------+\n",
            "|country_code|  latitude|  longitude|        country_name|\n",
            "+------------+----------+-----------+--------------------+\n",
            "|          AD| 42.546245|   1.601554|             Andorra|\n",
            "|          AE| 23.424076|  53.847818|United Arab Emirates|\n",
            "|          AF|  33.93911|  67.709953|         Afghanistan|\n",
            "|          AG| 17.060816| -61.796428| Antigua and Barbuda|\n",
            "|          AI| 18.220554| -63.068615|            Anguilla|\n",
            "|          AL| 41.153332|  20.168331|             Albania|\n",
            "|          AM| 40.069099|  45.038189|             Armenia|\n",
            "|          AN| 12.226079| -69.060087|Netherlands Antilles|\n",
            "|          AO|-11.202692|  17.873887|              Angola|\n",
            "|          AQ|-75.250973|  -0.071389|          Antarctica|\n",
            "|          AR|-38.416097| -63.616672|           Argentina|\n",
            "|          AS|-14.270972|-170.132217|      American Samoa|\n",
            "|          AT| 47.516231|  14.550072|             Austria|\n",
            "|          AU|-25.274398| 133.775136|           Australia|\n",
            "|          AW|  12.52111| -69.968338|               Aruba|\n",
            "|          AZ| 40.143105|  47.576927|          Azerbaijan|\n",
            "|          BA| 43.915886|  17.679076|Bosnia and Herzeg...|\n",
            "|          BB| 13.193887| -59.543198|            Barbados|\n",
            "|          BD| 23.684994|  90.356331|          Bangladesh|\n",
            "|          BE| 50.503887|   4.469936|             Belgium|\n",
            "+------------+----------+-----------+--------------------+\n",
            "only showing top 20 rows\n",
            "\n"
          ]
        }
      ]
    },
    {
      "cell_type": "markdown",
      "source": [
        "### Load the dataframe with required columns and clean the data."
      ],
      "metadata": {
        "id": "m7wZE5K7ORMZ"
      }
    },
    {
      "cell_type": "code",
      "source": [
        "country_clean_df  = country_df.select(country_df['country_code'],country_df['country_name'],country_df['latitude'],country_df['longitude'])\n",
        "country_clean_df.summary().show()\n",
        "\n",
        "country_clean_df.dropna().summary().show()\n",
        "\n",
        "CountryDemographics = country_clean_df.dropna()"
      ],
      "metadata": {
        "id": "RM_rbVYlZUvp",
        "colab": {
          "base_uri": "https://localhost:8080/"
        },
        "outputId": "8ec85dd6-79cb-4e14-e77f-603d98acc655"
      },
      "execution_count": 6,
      "outputs": [
        {
          "output_type": "stream",
          "name": "stdout",
          "text": [
            "+-------+------------+------------+------------------+------------------+\n",
            "|summary|country_code|country_name|          latitude|         longitude|\n",
            "+-------+------------+------------+------------------+------------------+\n",
            "|  count|         245|         245|               244|               244|\n",
            "|   mean|        null|        null|  16.2531093647541|13.294813586065576|\n",
            "| stddev|        null|        null|27.031206079229964| 73.97647657765005|\n",
            "|    min|          AD| Afghanistan|        -75.250973|       -177.156097|\n",
            "|    25%|        null|        null|         -0.522778|        -42.604303|\n",
            "|    50%|        null|        null|         16.742498|         17.873887|\n",
            "|    75%|        null|        null|         38.963745|         48.516388|\n",
            "|    max|          ZW|    Zimbabwe|         77.553604|        179.414413|\n",
            "+-------+------------+------------+------------------+------------------+\n",
            "\n",
            "+-------+------------+------------+------------------+------------------+\n",
            "|summary|country_code|country_name|          latitude|         longitude|\n",
            "+-------+------------+------------+------------------+------------------+\n",
            "|  count|         244|         244|               244|               244|\n",
            "|   mean|        null|        null|  16.2531093647541|13.294813586065576|\n",
            "| stddev|        null|        null|27.031206079229964| 73.97647657765005|\n",
            "|    min|          AD| Afghanistan|        -75.250973|       -177.156097|\n",
            "|    25%|        null|        null|         -0.522778|        -42.604303|\n",
            "|    50%|        null|        null|         16.742498|         17.873887|\n",
            "|    75%|        null|        null|         38.963745|         48.516388|\n",
            "|    max|          ZW|    Zimbabwe|         77.553604|        179.414413|\n",
            "+-------+------------+------------+------------------+------------------+\n",
            "\n"
          ]
        }
      ]
    },
    {
      "cell_type": "code",
      "source": [
        "CountryDemographics.show()"
      ],
      "metadata": {
        "id": "HqxSiEWht1C1",
        "colab": {
          "base_uri": "https://localhost:8080/"
        },
        "outputId": "e3509cf3-1092-4bc0-b6ea-124a51d2ab0f"
      },
      "execution_count": 7,
      "outputs": [
        {
          "output_type": "stream",
          "name": "stdout",
          "text": [
            "+------------+--------------------+----------+-----------+\n",
            "|country_code|        country_name|  latitude|  longitude|\n",
            "+------------+--------------------+----------+-----------+\n",
            "|          AD|             Andorra| 42.546245|   1.601554|\n",
            "|          AE|United Arab Emirates| 23.424076|  53.847818|\n",
            "|          AF|         Afghanistan|  33.93911|  67.709953|\n",
            "|          AG| Antigua and Barbuda| 17.060816| -61.796428|\n",
            "|          AI|            Anguilla| 18.220554| -63.068615|\n",
            "|          AL|             Albania| 41.153332|  20.168331|\n",
            "|          AM|             Armenia| 40.069099|  45.038189|\n",
            "|          AN|Netherlands Antilles| 12.226079| -69.060087|\n",
            "|          AO|              Angola|-11.202692|  17.873887|\n",
            "|          AQ|          Antarctica|-75.250973|  -0.071389|\n",
            "|          AR|           Argentina|-38.416097| -63.616672|\n",
            "|          AS|      American Samoa|-14.270972|-170.132217|\n",
            "|          AT|             Austria| 47.516231|  14.550072|\n",
            "|          AU|           Australia|-25.274398| 133.775136|\n",
            "|          AW|               Aruba|  12.52111| -69.968338|\n",
            "|          AZ|          Azerbaijan| 40.143105|  47.576927|\n",
            "|          BA|Bosnia and Herzeg...| 43.915886|  17.679076|\n",
            "|          BB|            Barbados| 13.193887| -59.543198|\n",
            "|          BD|          Bangladesh| 23.684994|  90.356331|\n",
            "|          BE|             Belgium| 50.503887|   4.469936|\n",
            "+------------+--------------------+----------+-----------+\n",
            "only showing top 20 rows\n",
            "\n"
          ]
        }
      ]
    },
    {
      "cell_type": "markdown",
      "source": [
        "### Load the Country GDP csv.\n",
        "### Drop the unnecessary columns and drop the null values and store the clean data into a new dataframe."
      ],
      "metadata": {
        "id": "wbWyOpFWObav"
      }
    },
    {
      "cell_type": "code",
      "source": [
        "\n",
        "from pyspark import SparkFiles\n",
        "url = \"https://womenwellbeing.s3.us-west-1.amazonaws.com/Country_GDP.csv\"\n",
        "spark.sparkContext.addFile(url)\n",
        "\n",
        "\n",
        "from pyspark.sql.types import StructType,StructField,StringType,IntegerType,DoubleType\n",
        "schema = StructType([\n",
        "  StructField(\"country_code\", StringType(), False),\n",
        "  StructField(\"country_name\", StringType(), False),\n",
        "  \n",
        "  StructField(\"2000\", IntegerType(), True),\n",
        "  StructField(\"2001\", IntegerType(), True),\n",
        "  StructField(\"2002\", IntegerType(), True),\n",
        "  StructField(\"2003\", IntegerType(), True),\n",
        "  StructField(\"2004\", IntegerType(), True),\n",
        "  StructField(\"2005\", IntegerType(), True),\n",
        "  StructField(\"2006\", IntegerType(), True),\n",
        "  StructField(\"2007\", IntegerType(), True),\n",
        "  StructField(\"2008\", IntegerType(), True),\n",
        "  StructField(\"2009\", IntegerType(), True),\n",
        "  StructField(\"2010\", IntegerType(), True),\n",
        "  StructField(\"2011\", IntegerType(), True),\n",
        "  StructField(\"2012\", IntegerType(), True),\n",
        "  StructField(\"2013\", IntegerType(), True),\n",
        "  StructField(\"2014\", IntegerType(), True),\n",
        "  StructField(\"2015\", IntegerType(), True),\n",
        "  StructField(\"2016\", IntegerType(), True),\n",
        "  StructField(\"2017\", IntegerType(), True),\n",
        "  StructField(\"2018\", IntegerType(), True),\n",
        "  StructField(\"2019\", IntegerType(), True),\n",
        "  StructField(\"2020\", IntegerType(), True),\n",
        "  StructField(\"2021\", IntegerType(), True),\n",
        "  ])\n",
        "\n",
        "\n",
        "\n",
        "\n"
      ],
      "metadata": {
        "id": "bg2RIsxeXKVb"
      },
      "execution_count": 8,
      "outputs": []
    },
    {
      "cell_type": "code",
      "source": [
        "\n",
        "Country_GDP_df = spark.read.option(\"encoding\", \"UTF-8\").csv(SparkFiles.get(\"Country_GDP.csv\"), sep=\",\", header=True, inferSchema=True)\n",
        "Country_GDP_df.show()\n",
        "\n",
        "Country_GDP_df.dtypes"
      ],
      "metadata": {
        "id": "o2z62UGj_Vij",
        "colab": {
          "base_uri": "https://localhost:8080/"
        },
        "outputId": "637022ca-7b88-48e3-fa5e-230ee3c4f206"
      },
      "execution_count": 9,
      "outputs": [
        {
          "output_type": "stream",
          "name": "stdout",
          "text": [
            "+--------------------+------------+-----------------+--------------+---------------+---------------+---------------+---------------+---------------+---------------+---------------+---------------+---------------+---------------+---------------+---------------+---------------+---------------+---------------+---------------+---------------+---------------+---------------+---------------+---------------+---------------+---------------+---------------+---------------+---------------+---------------+---------------+---------------+---------------+---------------+---------------+---------------+---------------+---------------+---------------+---------------+---------------+---------------+---------------+-------------+-------------+---------------+---------------+---------------+---------------+---------------+---------------+---------------+---------------+---------------+---------------+---------------+---------------+---------------+---------------+---------------+---------------+---------------+---------------+---------------+---------------+\n",
            "|        Country Name|Country Code|   Indicator Name|Indicator Code|           1960|           1961|           1962|           1963|           1964|           1965|           1966|           1967|           1968|           1969|           1970|           1971|           1972|           1973|           1974|           1975|           1976|           1977|           1978|           1979|           1980|           1981|           1982|           1983|           1984|           1985|           1986|           1987|           1988|           1989|           1990|           1991|           1992|           1993|           1994|           1995|           1996|           1997|           1998|           1999|         2000|         2001|           2002|           2003|           2004|           2005|           2006|           2007|           2008|           2009|           2010|           2011|           2012|           2013|           2014|           2015|           2016|           2017|           2018|           2019|           2020|           2021|\n",
            "+--------------------+------------+-----------------+--------------+---------------+---------------+---------------+---------------+---------------+---------------+---------------+---------------+---------------+---------------+---------------+---------------+---------------+---------------+---------------+---------------+---------------+---------------+---------------+---------------+---------------+---------------+---------------+---------------+---------------+---------------+---------------+---------------+---------------+---------------+---------------+---------------+---------------+---------------+---------------+---------------+---------------+---------------+---------------+---------------+-------------+-------------+---------------+---------------+---------------+---------------+---------------+---------------+---------------+---------------+---------------+---------------+---------------+---------------+---------------+---------------+---------------+---------------+---------------+---------------+---------------+---------------+\n",
            "|               Aruba|         ABW|GDP (current US$)|NY.GDP.MKTP.CD|           null|           null|           null|           null|           null|           null|           null|           null|           null|           null|           null|           null|           null|           null|           null|           null|           null|           null|           null|           null|           null|           null|           null|           null|           null|           null|  4.055865922E8|  4.877094972E8|  5.966480447E8|  6.955307263E8|  7.648044693E8|  8.720670391E8|  9.586592179E8|  1.083240223E9|  1.245810056E9|  1.320670391E9|  1.379888268E9|  1.531843575E9|  1.665363128E9|  1.722905028E9|1.873184358E9|1.896648045E9|  1.962011173E9|  2.044134078E9|  2.254748603E9|  2.359776536E9|  2.469832402E9|  2.677653631E9|   2.84301676E9|  2.553631285E9|  2.453631285E9|  2.637988827E9|  2.615083799E9|  2.727932961E9|  2.791061453E9|  2.963128492E9|  2.983798883E9|  3.092178771E9|  3.202234637E9|  3.368970253E9|  2.610038938E9|  3.126019399E9|\n",
            "|Africa Eastern an...|         AFE|GDP (current US$)|NY.GDP.MKTP.CD|2.1290811194E10|2.1808704493E10|2.3707266143E10|2.8210335256E10|2.6119063726E10|  2.96824867E10|3.2239462541E10|3.3514906532E10|3.6521869225E10|4.1828778632E10|4.4863079905E10|4.9479440038E10|5.3515410561E10| 6.960152428E10|8.6058687786E10|9.1650122062E10|9.1125515752E10|     1.03417E11|     1.15346E11|     1.34673E11|     1.70656E11|     1.74389E11|     1.67268E11|      1.7492E11|     1.60136E11|     1.36299E11|      1.5252E11|     1.86147E11|     2.04142E11|     2.17541E11|     2.53227E11|     2.73406E11|     2.38258E11|     2.36529E11|     2.40123E11|      2.6964E11|     2.68417E11|     2.82188E11|     2.65817E11|     2.62175E11|   2.83928E11|   2.58821E11|     2.64873E11|     3.52662E11|     4.38838E11|     5.12217E11|     5.75703E11|     6.60805E11|     7.08095E11|     7.19071E11|     8.60332E11|     9.64181E11|     9.72573E11|     9.83473E11|     1.00377E12|     9.24523E11|     8.82721E11|     1.02112E12|     1.00724E12|     1.00102E12|     9.27484E11|     1.08071E12|\n",
            "|         Afghanistan|         AFG|GDP (current US$)|NY.GDP.MKTP.CD|  5.377778111E8|  5.488888956E8|  5.466666778E8|  7.511111911E8|  8.000000444E8|  1.006666638E9|  1.399999967E9|  1.673333418E9|  1.373333367E9|  1.408888922E9|  1.748886596E9|  1.831108971E9|  1.595555476E9|  1.733333264E9|  2.155555498E9|  2.366666616E9|  2.555555567E9|  2.953333418E9|  3.300000109E9|   3.69794041E9|  3.641723322E9|  3.478787909E9|           null|           null|           null|           null|           null|           null|           null|           null|           null|           null|           null|           null|           null|           null|           null|           null|           null|           null|         null|         null|  3.854235264E9|  4.539500884E9|  5.220823685E9|  6.226199249E9|  6.971379033E9|   9.71576165E9|1.0249767311E10|1.2154835708E10|1.5633856787E10|1.8190410821E10| 2.020357296E10|2.0564485419E10|2.0550582747E10|1.9998156214E10|1.8019558182E10|1.8896352022E10|  1.84188483E10|1.8904490263E10|2.0143442151E10|1.4786861638E10|\n",
            "|Africa Western an...|         AFW|GDP (current US$)|NY.GDP.MKTP.CD|1.0404135069E10|1.1127894641E10|1.1943187848E10|1.2676330765E10|1.3838369295E10| 1.486222576E10|1.5832591204E10| 1.442603823E10| 1.488034928E10|1.6882092549E10|2.3504605476E10|2.0832817218E10|2.5264953766E10|3.1273819026E10|4.4214484997E10|5.1444731784E10|6.2129390375E10|6.5315008068E10|7.1199708192E10|8.8628401269E10|     1.12031E11|     2.11003E11|     1.87164E11|     1.38115E11|     1.14263E11|     1.16507E11|     1.07498E11|     1.10322E11|     1.08943E11|     1.01769E11|     1.21802E11|     1.17457E11|     1.18282E11|9.8826369836E10|8.6281743753E10|     1.08221E11|     1.25763E11|     1.27064E11|     1.30107E11|     1.37521E11|    1.4041E11|    1.4678E11|     1.76606E11|     2.04471E11|     2.53472E11|     3.10094E11|     3.95656E11|     4.64426E11|     5.66479E11|      5.0703E11|     5.97129E11|     6.80456E11|      7.3604E11|     8.32217E11|     8.92498E11|     7.66958E11|     6.90545E11|     6.83748E11|      7.6636E11|     7.94719E11|       7.848E11|     8.40187E11|\n",
            "|              Angola|         AGO|GDP (current US$)|NY.GDP.MKTP.CD|           null|           null|           null|           null|           null|           null|           null|           null|           null|           null|           null|           null|           null|           null|           null|           null|           null|           null|           null|           null|  5.930503401E9|  5.550483036E9|  5.550483036E9|  5.784341596E9|  6.131475065E9|  7.553560459E9|  7.072063346E9|  8.083872012E9|   8.76925055E9|1.0201099039E10|1.1228764963E10|1.0603784541E10|  8.307810974E9|  5.768720422E9|  4.438321017E9|   5.53874926E9|  7.526446606E9|  7.648377413E9|  6.506229607E9|  6.152922943E9|9.129594819E9|8.936063723E9|1.5285594828E10|1.7812704825E10|2.3552047248E10|3.6970918699E10|5.2381006892E10|6.5266452081E10|8.8538610805E10|7.0307166934E10|8.1699526881E10|     1.09437E11|     1.24998E11|     1.33402E11|     1.37244E11|8.7219300385E10|4.9840491178E10|6.8972769396E10|7.7792944472E10|6.9309110146E10|5.3619073505E10| 6.740428726E10|\n",
            "|             Albania|         ALB|GDP (current US$)|NY.GDP.MKTP.CD|           null|           null|           null|           null|           null|           null|           null|           null|           null|           null|           null|           null|           null|           null|           null|           null|           null|           null|           null|           null|           null|           null|           null|           null|  1.857338012E9|  1.897050133E9|   2.09732625E9|   2.08079625E9|   2.05123625E9|      2.25309E9|   2.02855375E9|  1.099559028E9|  6.521749908E8|  1.185315468E9|   1.88095152E9|  2.392764853E9|  3.199641336E9|  2.258513974E9|  2.545964541E9|  3.212121651E9|3.480355258E9|3.922100794E9|  4.348068242E9|  5.611496257E9|  7.184685782E9|  8.052073539E9|  8.896072919E9|1.0677324144E10|1.2881353508E10|1.2044208086E10|1.1926922829E10|1.2890764531E10|1.2319830437E10|1.2776220507E10|1.3228147516E10| 1.138685013E10|1.1861199831E10|1.3019689337E10| 1.515643231E10|1.5401830754E10|1.5131866271E10|1.8255787479E10|\n",
            "|             Andorra|         AND|GDP (current US$)|NY.GDP.MKTP.CD|           null|           null|           null|           null|           null|           null|           null|           null|           null|           null|  7.861920609E7|  8.940982036E7|  1.134082319E8|  1.508201028E8|  1.865586963E8|  2.201272464E8|  2.272810246E8|  2.540201533E8|  3.080088976E8|  4.115783342E8|  4.464161058E8|  3.889587313E8|  3.758959564E8|  3.278618329E8|  3.300706893E8|  3.467379648E8|   4.82000594E8|  6.113163994E8|  7.214259392E8|  7.954493324E8|  1.029048482E9|  1.106928583E9|  1.210013652E9|  1.007025755E9|  1.017549124E9|  1.178738991E9|  1.223945357E9|  1.180597273E9|  1.211932398E9|  1.239876305E9|1.429049198E9|1.546926174E9|  1.755910032E9|  2.361726862E9|  2.894921778E9|  3.159905484E9|  3.456442103E9|  3.952600602E9|  4.085630584E9|  3.674409558E9|  3.449966857E9|  3.629203786E9|  3.188808943E9|  3.193704343E9|  3.271808157E9|  2.789870188E9|  2.896679212E9|   3.00018075E9|  3.218316013E9|  3.155065488E9|  2.891022273E9|  3.330281524E9|\n",
            "|          Arab World|         ARB|GDP (current US$)|NY.GDP.MKTP.CD|           null|           null|           null|           null|           null|           null|           null|           null| 3.501972748E10|3.8162991696E10|4.3149825508E10|4.9841484048E10|5.9381286567E10|7.5329791104E10|     1.42816E11|     1.57909E11|     1.96559E11|     2.26978E11|      2.4911E11|     3.38625E11|      4.5981E11|     4.74023E11|      4.4413E11|     4.18462E11|     4.25898E11|     4.19499E11|     4.06984E11|     4.40606E11|       4.249E11|     4.55823E11|     6.44066E11|     4.71524E11|     4.73813E11|     4.82767E11|     5.07767E11|     5.56058E11|     6.14193E11|     6.62317E11|     6.44494E11|     7.12837E11|   8.16019E11|   7.98505E11|     8.03123E11|     8.87852E11|     1.05625E12|     1.29789E12|     1.53829E12|     1.79004E12|     2.25373E12|      1.9788E12|       2.327E12|     2.54186E12|     2.78717E12|     2.84353E12|     2.89546E12|     2.53893E12|     2.51649E12|     2.59809E12|     2.80043E12|      2.8185E12|     2.49081E12|     2.86072E12|\n",
            "|United Arab Emirates|         ARE|GDP (current US$)|NY.GDP.MKTP.CD|           null|           null|           null|           null|           null|           null|           null|           null|           null|           null|           null|           null|           null|           null|           null|1.4720672507E10|1.9213022691E10|2.4871775165E10|2.3775831783E10|3.1225463218E10|4.3598748449E10|4.9333424135E10|4.6622718605E10|4.2803323345E10|4.1807954236E10|4.0603650232E10|3.3943612095E10|3.6384908744E10|3.6275674203E10|4.1464995914E10|5.0701443748E10|5.1552165622E10|5.4239171888E10|5.5625170253E10| 5.930509398E10|6.5743666576E10|7.3571233996E10|7.8839008445E10|7.5674336283E10|8.4445473111E10|   1.04337E11|   1.03312E11|     1.09816E11|     1.24346E11|     1.47824E11|     1.80617E11|     2.22117E11|     2.57916E11|     3.15475E11|     2.53547E11|     2.89787E11|     3.50666E11|      3.8461E11|     4.00219E11|     4.14105E11|     3.70275E11|     3.69255E11|     3.90517E11|     4.27049E11|      4.1799E11|     3.49473E11|     4.15022E11|\n",
            "|           Argentina|         ARG|GDP (current US$)|NY.GDP.MKTP.CD|           null|           null|2.4450604878E10|1.8272123664E10|2.5605249382E10|2.8344705967E10|2.8630474728E10|2.4256667553E10|2.6436857247E10|3.1256284544E10|3.1584210366E10|3.3293199095E10|3.4733000536E10|5.2544000117E10|7.2436777342E10|5.2438647922E10|5.1169499892E10|5.6781000101E10|5.8082870156E10|6.9252328952E10|7.6961923741E10|7.8676842367E10|8.4307486837E10|     1.03979E11|7.9092001998E10|  8.84166689E10|     1.10934E11|     1.11106E11|     1.26207E11|7.6636898036E10|     1.41352E11|      1.8972E11|     2.28789E11|     2.36742E11|      2.5744E11|     2.58032E11|      2.7215E11|     2.92859E11|     2.98948E11|     2.83523E11|   2.84204E11|   2.68697E11|9.7724004252E10|     1.27587E11|     1.64658E11|     1.98737E11|     2.32557E11|     2.87531E11|     3.61558E11|     3.32976E11|     4.23627E11|     5.30163E11|     5.45982E11|     5.52025E11|      5.2632E11|     5.94749E11|     5.57531E11|     6.43629E11|      5.2482E11|     4.47755E11|      3.8554E11|     4.87227E11|\n",
            "|             Armenia|         ARM|GDP (current US$)|NY.GDP.MKTP.CD|           null|           null|           null|           null|           null|           null|           null|           null|           null|           null|           null|           null|           null|           null|           null|           null|           null|           null|           null|           null|           null|           null|           null|           null|           null|           null|           null|           null|           null|           null|  2.256838858E9|   2.06987013E9|  1.272835453E9|  1.201312829E9|  1.315158637E9|  1.468317435E9|  1.596968946E9|  1.639492445E9|  1.893726437E9|  1.845482173E9|1.911563669E9|2.118467913E9|  2.376335048E9|  2.807061009E9|   3.57661524E9|   4.90046995E9|  6.384451606E9|    9.2063017E9|1.1662040714E10|  8.647936748E9|  9.260284938E9|1.0142111334E10|1.0619320049E10|1.1121465767E10| 1.160951294E10|1.0553337673E10| 1.054613516E10|1.1527458566E10|1.2457941907E10|1.3619291361E10|1.2641697523E10|1.3861409969E10|\n",
            "|      American Samoa|         ASM|GDP (current US$)|NY.GDP.MKTP.CD|           null|           null|           null|           null|           null|           null|           null|           null|           null|           null|           null|           null|           null|           null|           null|           null|           null|           null|           null|           null|           null|           null|           null|           null|           null|           null|           null|           null|           null|           null|           null|           null|           null|           null|           null|           null|           null|           null|           null|           null|         null|         null|         5.12E8|         5.24E8|         5.09E8|          5.0E8|         4.93E8|         5.18E8|          5.6E8|         6.75E8|         5.73E8|          5.7E8|          6.4E8|         6.38E8|         6.43E8|         6.73E8|         6.71E8|         6.12E8|         6.39E8|         6.47E8|         7.16E8|         7.09E8|\n",
            "| Antigua and Barbuda|         ATG|GDP (current US$)|NY.GDP.MKTP.CD|           null|           null|           null|           null|           null|           null|           null|           null|           null|           null|           null|           null|           null|           null|           null|           null|           null|   7.74967537E7|  8.787934148E7|  1.090799789E8|  1.314310267E8|  1.478417344E8|  1.643692789E8|   1.82144093E8|  2.083728463E8|  2.409239248E8|  2.904401407E8|  3.371748619E8|  3.986377278E8|  4.387947885E8|  4.594703704E8|  4.817074074E8|  4.992814815E8|  5.351740741E8|  5.894296296E8|  5.772814815E8|  6.337296296E8|  6.806185185E8|  7.278592593E8|        7.662E8|8.263703704E8|8.004814815E8|  8.143814815E8|  8.563962963E8|  9.197296296E8|  1.022962963E9|  1.157662963E9|  1.312759259E9|   1.37007037E9|   1.22832963E9|       1.1487E9|  1.137637037E9|  1.199948148E9|  1.181448148E9|  1.249733333E9|  1.336692593E9|  1.436585185E9|  1.467977778E9|  1.605944444E9|  1.687533333E9|  1.370281481E9|  1.471125926E9|\n",
            "|           Australia|         AUS|GDP (current US$)|NY.GDP.MKTP.CD|1.8605666928E10|1.9681935267E10|1.9921603763E10|2.1538806137E10|2.3799977601E10|2.5974913204E10|2.7306529287E10| 3.044125882E10|  3.27125098E10|3.6681599283E10|4.1331616082E10|4.5214469705E10|5.2042056075E10|6.3832158873E10|8.8963890936E10|9.7304383449E10|     1.05066E11|     1.10351E11|     1.18495E11|     1.34898E11|     1.49984E11|     1.76892E11|     1.94037E11|     1.77267E11|     1.93519E11|     1.80634E11|     1.82472E11|     1.89488E11|     2.36154E11|     2.99878E11|     3.11434E11|     3.25987E11|     3.25532E11|     3.12138E11|     3.22809E11|     3.68141E11|     4.01311E11|     4.35614E11|     3.99661E11|      3.8939E11|   4.15851E11|   3.79358E11|     3.95581E11|     4.67498E11|     6.14326E11|     6.95329E11|     7.47907E11|     8.54427E11|     1.05564E12|     9.28627E11|     1.14861E12|     1.39841E12|     1.54689E12|     1.57638E12|     1.46755E12|     1.35062E12|     1.20654E12|     1.32652E12|     1.42829E12|     1.39223E12|      1.3269E12|     1.55267E12|\n",
            "|             Austria|         AUT|GDP (current US$)|NY.GDP.MKTP.CD|  6.592693841E9|  7.311749633E9|   7.75611021E9|  8.374175258E9|  9.169983886E9|  9.994070616E9|1.0887682273E10|1.1579431669E10|1.2440625313E10|1.3582798556E10|1.5373005557E10|1.7858486067E10|2.2059612477E10|2.9515467707E10|3.5189299912E10|4.0059206763E10|4.2959976222E10|5.1545758888E10|6.2052259073E10|7.3937296963E10|8.2058912997E10|7.1034228443E10| 7.127528757E10|7.2121016547E10|6.7985344887E10|6.9386774408E10|9.9036164939E10|     1.24168E11|     1.33339E11|     1.33106E11|     1.66463E11|     1.73794E11|     1.95078E11|      1.9038E11|     2.03535E11|     2.41038E11|     2.37251E11|      2.1279E11|      2.1826E11|     2.17259E11|    1.9729E11|   1.97509E11|     2.14395E11|     2.62274E11|     3.01458E11|     3.16092E11|      3.3628E11|     3.89186E11|     4.32052E11|     4.01759E11|     3.92275E11|     4.31685E11|     4.09402E11|     4.30191E11|     4.42585E11|     3.81971E11|     3.95837E11|     4.17261E11|     4.54991E11|     4.44621E11|     4.35225E11|     4.80368E11|\n",
            "|          Azerbaijan|         AZE|GDP (current US$)|NY.GDP.MKTP.CD|           null|           null|           null|           null|           null|           null|           null|           null|           null|           null|           null|           null|           null|           null|           null|           null|           null|           null|           null|           null|           null|           null|           null|           null|           null|           null|           null|           null|           null|           null|  8.858006036E9|  8.792365811E9|  4.463055556E8|         1.57E9|  1.193312102E9|   2.41735584E9|  3.176333837E9|  3.962238113E9|  4.446368571E9|  4.581432039E9|5.272798391E9|5.707720391E9|   6.23585682E9|  7.276753895E9|  8.680370408E9|1.3245716099E10|2.0982986344E10|3.3050343783E10| 4.885248296E10|4.4291490421E10|5.2909294792E10|  6.59516272E10|6.9683935845E10|7.4164435946E10|7.5244294275E10|5.3074370486E10|3.7867518957E10|4.0865558912E10|4.7112941176E10|4.8174235294E10|      4.2693E10|5.4622176471E10|\n",
            "|             Burundi|         BDI|GDP (current US$)|NY.GDP.MKTP.CD|    1.9599999E8|   2.02999992E8|   2.13500006E8|   2.32749998E8|   2.60750008E8|   1.58994963E8|  1.654445714E8|  1.782971429E8|        1.832E8|  1.902057143E8|  2.427325714E8|  2.528422857E8|  2.468045714E8|  3.043398396E8|  3.452634921E8|  4.209866667E8|  4.484127536E8|  5.475355556E8|  6.102255556E8|  7.824966667E8|  9.197266667E8|  9.690466667E8|  1.013222222E9|  1.082926304E9|  9.871439312E8|  1.149979286E9|  1.201725497E9|  1.131466494E9|  1.082403219E9|   1.11392413E9|  1.132101253E9|  1.167398478E9|  1.083037671E9|   9.38632612E8|  9.250305902E8|  1.000428394E9|  8.690338563E8|  9.728962679E8|  8.937708061E8|  8.080772234E8|8.704860659E8|8.767947231E8|  8.253944902E8|  7.846544236E8|  9.152573234E8|  1.117113046E9|   1.27337502E9|  1.356199365E9|  1.611835902E9|  1.781455092E9|  2.032135247E9|  2.235820868E9|  2.333341375E9|  2.451606684E9|  2.705783272E9|  3.104003611E9|  2.639321161E9|  2.712324134E9|  2.660123598E9|  2.576518846E9|  2.649671999E9|  2.779813489E9|\n",
            "|             Belgium|         BEL|GDP (current US$)|NY.GDP.MKTP.CD|1.1658722591E10|1.2400145222E10|1.3264015675E10|1.4260017387E10|1.5960106681E10|1.7371457608E10|1.8651883472E10|1.9992040788E10|2.1376353113E10|2.3710735895E10|2.6706196047E10| 2.982166187E10|3.7209418019E10| 4.774380149E10|5.6033077879E10|6.5678189097E10|7.1113882968E10|8.2839905459E10|     1.01247E11|     1.16315E11|     1.26829E11|      1.0473E11|9.2095926188E10|8.7184239053E10|8.3349530159E10|8.6268264148E10|     1.20019E11|     1.49394E11|     1.62299E11|     1.64221E11|     2.05332E11|     2.10511E11|     2.34782E11|     2.24722E11|     2.44884E11|     2.88026E11|     2.79201E11|     2.52708E11|     2.58528E11|     2.58246E11|   2.36792E11|   2.36746E11|     2.58384E11|     3.18083E11|     3.69215E11|     3.85715E11|      4.0826E11|     4.70922E11|     5.17328E11|     4.83254E11|     4.81421E11|      5.2333E11|     4.96153E11|     5.21791E11|      5.3539E11|     4.62336E11|     4.76063E11|     5.02765E11|     5.43299E11|     5.35831E11|     5.25212E11|     5.94104E11|\n",
            "|               Benin|         BEN|GDP (current US$)|NY.GDP.MKTP.CD|  2.261955794E8|  2.356682224E8|  2.364349068E8|  2.539276465E8|  2.698189883E8|  2.899087206E8|  3.029252808E8|  3.062220004E8|  3.263230974E8|  3.307482115E8|  3.336277582E8|  3.350729752E8|   4.10331901E8|  5.043760357E8|   5.54654787E8|  6.768701403E8|  6.984082444E8|  7.500497392E8|  9.288433048E8|  1.186231265E9|  1.405251547E9|  1.291119965E9|  1.267778489E9|  1.095348303E9|  1.051133927E9|  1.045712703E9|  1.336102041E9|   1.56241203E9|  1.620246187E9|  1.502294411E9|  1.959965244E9|   1.98643786E9|  1.695315306E9|  2.274557914E9|  1.598075932E9|  2.169627251E9|  2.361116588E9|  2.268301538E9|  2.455092582E9|  3.677394292E9|3.519991326E9|  3.6662226E9|  4.194342849E9|  5.349258334E9|  6.190270756E9|  6.567654494E9|  7.034111651E9|   8.16904869E9|  9.787735426E9|  9.738626993E9|  9.535345011E9| 1.069332137E10|1.1141358106E10|1.2517845128E10| 1.328452785E10|1.1388160997E10|1.1821065852E10|1.2701655846E10| 1.426240808E10|1.4391686309E10|1.5651545209E10|1.7144918952E10|\n",
            "|        Burkina Faso|         BFA|GDP (current US$)|NY.GDP.MKTP.CD|  3.304428172E8|  3.502472371E8|  3.795670233E8|  3.940405883E8|  4.103216182E8|  4.229168484E8|  4.338898316E8|  4.507539932E8|  4.604426782E8|  4.782985976E8|  4.584043301E8|  4.824111038E8|   5.78595584E8|  6.747735184E8|  7.511333306E8|  9.399727035E8|  9.765471635E8|  1.131224818E9|  1.475583383E9|  1.748480982E9|  1.928719477E9|  1.775842026E9|  1.754449845E9|  1.600278756E9|  1.459880019E9|  1.552493068E9|  2.036303381E9|   2.36983465E9|  2.616040646E9|  2.615587726E9|  3.101300642E9|  3.135045684E9|  3.356692518E9|  3.199536228E9|  1.895290623E9|  2.379518099E9|  2.586550747E9|  2.447668985E9|  2.804902248E9|  3.389566983E9|2.968369991E9| 3.19037105E9|  3.622350204E9|  4.740768355E9|  5.451688868E9|  6.146352742E9|  6.547420134E9|  7.625723124E9|  9.451436359E9|  9.450697336E9|1.0109618964E10|1.2080296644E10|1.2561016091E10|1.3444301139E10|1.3943016924E10|1.1832159276E10| 1.283336337E10| 1.410695683E10| 1.589006502E10| 1.617816203E10|1.7933606353E10|1.9737615114E10|\n",
            "+--------------------+------------+-----------------+--------------+---------------+---------------+---------------+---------------+---------------+---------------+---------------+---------------+---------------+---------------+---------------+---------------+---------------+---------------+---------------+---------------+---------------+---------------+---------------+---------------+---------------+---------------+---------------+---------------+---------------+---------------+---------------+---------------+---------------+---------------+---------------+---------------+---------------+---------------+---------------+---------------+---------------+---------------+---------------+---------------+-------------+-------------+---------------+---------------+---------------+---------------+---------------+---------------+---------------+---------------+---------------+---------------+---------------+---------------+---------------+---------------+---------------+---------------+---------------+---------------+---------------+---------------+\n",
            "only showing top 20 rows\n",
            "\n"
          ]
        },
        {
          "output_type": "execute_result",
          "data": {
            "text/plain": [
              "[('Country Name', 'string'),\n",
              " ('Country Code', 'string'),\n",
              " ('Indicator Name', 'string'),\n",
              " ('Indicator Code', 'string'),\n",
              " ('1960', 'double'),\n",
              " ('1961', 'double'),\n",
              " ('1962', 'double'),\n",
              " ('1963', 'double'),\n",
              " ('1964', 'double'),\n",
              " ('1965', 'double'),\n",
              " ('1966', 'double'),\n",
              " ('1967', 'double'),\n",
              " ('1968', 'double'),\n",
              " ('1969', 'double'),\n",
              " ('1970', 'double'),\n",
              " ('1971', 'double'),\n",
              " ('1972', 'double'),\n",
              " ('1973', 'double'),\n",
              " ('1974', 'double'),\n",
              " ('1975', 'double'),\n",
              " ('1976', 'double'),\n",
              " ('1977', 'double'),\n",
              " ('1978', 'double'),\n",
              " ('1979', 'double'),\n",
              " ('1980', 'double'),\n",
              " ('1981', 'double'),\n",
              " ('1982', 'double'),\n",
              " ('1983', 'double'),\n",
              " ('1984', 'double'),\n",
              " ('1985', 'double'),\n",
              " ('1986', 'double'),\n",
              " ('1987', 'double'),\n",
              " ('1988', 'double'),\n",
              " ('1989', 'double'),\n",
              " ('1990', 'double'),\n",
              " ('1991', 'double'),\n",
              " ('1992', 'double'),\n",
              " ('1993', 'double'),\n",
              " ('1994', 'double'),\n",
              " ('1995', 'double'),\n",
              " ('1996', 'double'),\n",
              " ('1997', 'double'),\n",
              " ('1998', 'double'),\n",
              " ('1999', 'double'),\n",
              " ('2000', 'double'),\n",
              " ('2001', 'double'),\n",
              " ('2002', 'double'),\n",
              " ('2003', 'double'),\n",
              " ('2004', 'double'),\n",
              " ('2005', 'double'),\n",
              " ('2006', 'double'),\n",
              " ('2007', 'double'),\n",
              " ('2008', 'double'),\n",
              " ('2009', 'double'),\n",
              " ('2010', 'double'),\n",
              " ('2011', 'double'),\n",
              " ('2012', 'double'),\n",
              " ('2013', 'double'),\n",
              " ('2014', 'double'),\n",
              " ('2015', 'double'),\n",
              " ('2016', 'double'),\n",
              " ('2017', 'double'),\n",
              " ('2018', 'double'),\n",
              " ('2019', 'double'),\n",
              " ('2020', 'double'),\n",
              " ('2021', 'double')]"
            ]
          },
          "metadata": {},
          "execution_count": 9
        }
      ]
    },
    {
      "cell_type": "code",
      "source": [
        "Country_GDP_df = Country_GDP_df.drop(Country_GDP_df[\"Indicator Name\"])\n",
        "Country_GDP_df = Country_GDP_df.drop(Country_GDP_df[\"Indicator Code\"])\n",
        "Country_GDP_df = Country_GDP_df.withColumnRenamed(\"Country Name\",\"country_name\")\n",
        "Country_GDP_df = Country_GDP_df.withColumnRenamed(\"Country Code\",\"country_code\")\n",
        "Country_GDP_df.printSchema()"
      ],
      "metadata": {
        "id": "oJxLOG_F_j4D",
        "colab": {
          "base_uri": "https://localhost:8080/"
        },
        "outputId": "c6736dd7-3018-4f2b-a53a-53fb2dbae7f6"
      },
      "execution_count": 10,
      "outputs": [
        {
          "output_type": "stream",
          "name": "stdout",
          "text": [
            "root\n",
            " |-- country_name: string (nullable = true)\n",
            " |-- country_code: string (nullable = true)\n",
            " |-- 1960: double (nullable = true)\n",
            " |-- 1961: double (nullable = true)\n",
            " |-- 1962: double (nullable = true)\n",
            " |-- 1963: double (nullable = true)\n",
            " |-- 1964: double (nullable = true)\n",
            " |-- 1965: double (nullable = true)\n",
            " |-- 1966: double (nullable = true)\n",
            " |-- 1967: double (nullable = true)\n",
            " |-- 1968: double (nullable = true)\n",
            " |-- 1969: double (nullable = true)\n",
            " |-- 1970: double (nullable = true)\n",
            " |-- 1971: double (nullable = true)\n",
            " |-- 1972: double (nullable = true)\n",
            " |-- 1973: double (nullable = true)\n",
            " |-- 1974: double (nullable = true)\n",
            " |-- 1975: double (nullable = true)\n",
            " |-- 1976: double (nullable = true)\n",
            " |-- 1977: double (nullable = true)\n",
            " |-- 1978: double (nullable = true)\n",
            " |-- 1979: double (nullable = true)\n",
            " |-- 1980: double (nullable = true)\n",
            " |-- 1981: double (nullable = true)\n",
            " |-- 1982: double (nullable = true)\n",
            " |-- 1983: double (nullable = true)\n",
            " |-- 1984: double (nullable = true)\n",
            " |-- 1985: double (nullable = true)\n",
            " |-- 1986: double (nullable = true)\n",
            " |-- 1987: double (nullable = true)\n",
            " |-- 1988: double (nullable = true)\n",
            " |-- 1989: double (nullable = true)\n",
            " |-- 1990: double (nullable = true)\n",
            " |-- 1991: double (nullable = true)\n",
            " |-- 1992: double (nullable = true)\n",
            " |-- 1993: double (nullable = true)\n",
            " |-- 1994: double (nullable = true)\n",
            " |-- 1995: double (nullable = true)\n",
            " |-- 1996: double (nullable = true)\n",
            " |-- 1997: double (nullable = true)\n",
            " |-- 1998: double (nullable = true)\n",
            " |-- 1999: double (nullable = true)\n",
            " |-- 2000: double (nullable = true)\n",
            " |-- 2001: double (nullable = true)\n",
            " |-- 2002: double (nullable = true)\n",
            " |-- 2003: double (nullable = true)\n",
            " |-- 2004: double (nullable = true)\n",
            " |-- 2005: double (nullable = true)\n",
            " |-- 2006: double (nullable = true)\n",
            " |-- 2007: double (nullable = true)\n",
            " |-- 2008: double (nullable = true)\n",
            " |-- 2009: double (nullable = true)\n",
            " |-- 2010: double (nullable = true)\n",
            " |-- 2011: double (nullable = true)\n",
            " |-- 2012: double (nullable = true)\n",
            " |-- 2013: double (nullable = true)\n",
            " |-- 2014: double (nullable = true)\n",
            " |-- 2015: double (nullable = true)\n",
            " |-- 2016: double (nullable = true)\n",
            " |-- 2017: double (nullable = true)\n",
            " |-- 2018: double (nullable = true)\n",
            " |-- 2019: double (nullable = true)\n",
            " |-- 2020: double (nullable = true)\n",
            " |-- 2021: double (nullable = true)\n",
            "\n"
          ]
        }
      ]
    },
    {
      "cell_type": "code",
      "source": [
        "Country_GDP_df.count()\n",
        "Country_GDP_df= Country_GDP_df.dropna()\n",
        "Country_GDP_df.count()\n"
      ],
      "metadata": {
        "id": "rxvwY2kxCBzS",
        "colab": {
          "base_uri": "https://localhost:8080/"
        },
        "outputId": "2f95ba9e-1c98-4bd6-c1af-95a1d0580eb0"
      },
      "execution_count": 11,
      "outputs": [
        {
          "output_type": "execute_result",
          "data": {
            "text/plain": [
              "123"
            ]
          },
          "metadata": {},
          "execution_count": 11
        }
      ]
    },
    {
      "cell_type": "code",
      "source": [
        "#select the years from the past two decades.\n",
        "Country_GDPdecade_df = Country_GDP_df.select(\"country_name\",\"country_code\",\"2000\",\"2001\",\"2002\",\"2003\",\"2004\",\"2005\",\"2006\",\"2007\",\"2008\",\"2009\",\"2010\",\"2011\",\"2012\",\"2013\",\"2014\",\"2015\",\"2016\",\"2017\",\"2018\",\"2019\",\"2020\",\"2021\")\n",
        "\n",
        "Country_GDPdecade_df.show(5)\n"
      ],
      "metadata": {
        "id": "b-YBNPXJEz_a",
        "colab": {
          "base_uri": "https://localhost:8080/"
        },
        "outputId": "65f5e3eb-81a2-45fc-aca5-4c042bdeb00b"
      },
      "execution_count": 12,
      "outputs": [
        {
          "output_type": "stream",
          "name": "stdout",
          "text": [
            "+--------------------+------------+-------------+-------------+-------------+-------------+-------------+-------------+------------+-------------+-------------+-------------+-------------+-------------+-------------+-------------+-------------+-------------+-------------+-------------+-------------+-------------+-------------+-------------+\n",
            "|        country_name|country_code|         2000|         2001|         2002|         2003|         2004|         2005|        2006|         2007|         2008|         2009|         2010|         2011|         2012|         2013|         2014|         2015|         2016|         2017|         2018|         2019|         2020|         2021|\n",
            "+--------------------+------------+-------------+-------------+-------------+-------------+-------------+-------------+------------+-------------+-------------+-------------+-------------+-------------+-------------+-------------+-------------+-------------+-------------+-------------+-------------+-------------+-------------+-------------+\n",
            "|Africa Eastern an...|         AFE|   2.83928E11|   2.58821E11|   2.64873E11|   3.52662E11|   4.38838E11|   5.12217E11|  5.75703E11|   6.60805E11|   7.08095E11|   7.19071E11|   8.60332E11|   9.64181E11|   9.72573E11|   9.83473E11|   1.00377E12|   9.24523E11|   8.82721E11|   1.02112E12|   1.00724E12|   1.00102E12|   9.27484E11|   1.08071E12|\n",
            "|Africa Western an...|         AFW|    1.4041E11|    1.4678E11|   1.76606E11|   2.04471E11|   2.53472E11|   3.10094E11|  3.95656E11|   4.64426E11|   5.66479E11|    5.0703E11|   5.97129E11|   6.80456E11|    7.3604E11|   8.32217E11|   8.92498E11|   7.66958E11|   6.90545E11|   6.83748E11|    7.6636E11|   7.94719E11|     7.848E11|   8.40187E11|\n",
            "|           Australia|         AUS|   4.15851E11|   3.79358E11|   3.95581E11|   4.67498E11|   6.14326E11|   6.95329E11|  7.47907E11|   8.54427E11|   1.05564E12|   9.28627E11|   1.14861E12|   1.39841E12|   1.54689E12|   1.57638E12|   1.46755E12|   1.35062E12|   1.20654E12|   1.32652E12|   1.42829E12|   1.39223E12|    1.3269E12|   1.55267E12|\n",
            "|             Austria|         AUT|    1.9729E11|   1.97509E11|   2.14395E11|   2.62274E11|   3.01458E11|   3.16092E11|   3.3628E11|   3.89186E11|   4.32052E11|   4.01759E11|   3.92275E11|   4.31685E11|   4.09402E11|   4.30191E11|   4.42585E11|   3.81971E11|   3.95837E11|   4.17261E11|   4.54991E11|   4.44621E11|   4.35225E11|   4.80368E11|\n",
            "|             Burundi|         BDI|8.704860659E8|8.767947231E8|8.253944902E8|7.846544236E8|9.152573234E8|1.117113046E9|1.27337502E9|1.356199365E9|1.611835902E9|1.781455092E9|2.032135247E9|2.235820868E9|2.333341375E9|2.451606684E9|2.705783272E9|3.104003611E9|2.639321161E9|2.712324134E9|2.660123598E9|2.576518846E9|2.649671999E9|2.779813489E9|\n",
            "+--------------------+------------+-------------+-------------+-------------+-------------+-------------+-------------+------------+-------------+-------------+-------------+-------------+-------------+-------------+-------------+-------------+-------------+-------------+-------------+-------------+-------------+-------------+-------------+\n",
            "only showing top 5 rows\n",
            "\n"
          ]
        }
      ]
    },
    {
      "cell_type": "code",
      "source": [
        "#Perform the aggregation of each country GDP row wise.\n",
        "\n",
        "from pyspark.sql.functions import mean as _mean, stddev as _stddev, col\n",
        "\n",
        "total_cols = len(Country_GDPdecade_df.columns)\n",
        "total_cols = total_cols -2 \n",
        "rowMean  = (sum(col(year) for year in Country_GDPdecade_df.columns[2:]) /total_cols )\n",
        "rowMean\n",
        "Country_GDP_mean_df = Country_GDPdecade_df.select(\n",
        "    [\"country_name\",rowMean.alias(\"GDP\")]\n",
        "    # _stddev(col('columnName')).alias('std')\n",
        ")\n",
        "Country_GDP_mean_df.printSchema()\n"
      ],
      "metadata": {
        "id": "TgTGIyi9Flb0",
        "colab": {
          "base_uri": "https://localhost:8080/"
        },
        "outputId": "c40c987b-b057-4381-8fdd-b69d47ed63e8"
      },
      "execution_count": 13,
      "outputs": [
        {
          "output_type": "stream",
          "name": "stdout",
          "text": [
            "root\n",
            " |-- country_name: string (nullable = true)\n",
            " |-- GDP: double (nullable = true)\n",
            "\n"
          ]
        }
      ]
    },
    {
      "cell_type": "markdown",
      "source": [
        "### Perform inner join between the two dataframes grouping by country_name.\n",
        "### Avoid creating the duplicate columns."
      ],
      "metadata": {
        "id": "OQ50iNLPPYL0"
      }
    },
    {
      "cell_type": "code",
      "source": [
        "# \n",
        "\n",
        "CountryDemographics_clean_df =CountryDemographics.join(Country_GDP_mean_df,['country_name'])\n",
        "CountryDemographics_clean_df.printSchema()\n",
        "\n",
        "CountryDemographics_clean_df.show()\n"
      ],
      "metadata": {
        "id": "WwVYKGYaK-nG",
        "colab": {
          "base_uri": "https://localhost:8080/"
        },
        "outputId": "3695dd69-a642-45b1-daa8-753e269a3602"
      },
      "execution_count": 14,
      "outputs": [
        {
          "output_type": "stream",
          "name": "stdout",
          "text": [
            "root\n",
            " |-- country_name: string (nullable = true)\n",
            " |-- country_code: string (nullable = true)\n",
            " |-- latitude: double (nullable = true)\n",
            " |-- longitude: double (nullable = true)\n",
            " |-- GDP: double (nullable = true)\n",
            "\n",
            "+--------------------+------------+----------+-----------+--------------------+\n",
            "|        country_name|country_code|  latitude|  longitude|                 GDP|\n",
            "+--------------------+------------+----------+-----------+--------------------+\n",
            "|             Austria|          AT| 47.516231|  14.550072|3.711230454545455E11|\n",
            "|           Australia|          AU|-25.274398| 133.775136|         1.058007E12|\n",
            "|          Bangladesh|          BD| 23.684994|  90.356331|1.645153556962272...|\n",
            "|             Belgium|          BE| 50.503887|   4.469936|4.491997272727273E11|\n",
            "|        Burkina Faso|          BF| 12.238333|  -1.561593|1.044751617809091E10|\n",
            "|             Burundi|          BI| -3.373056|  29.918886|1.9224104425090907E9|\n",
            "|               Benin|          BJ|   9.30769|   2.315834| 9.943231901318182E9|\n",
            "|             Bermuda|          BM| 32.321384|  -64.75737| 6.041336681818182E9|\n",
            "|             Bolivia|          BO|-16.290154| -63.588653|2.302090355195454...|\n",
            "|              Brazil|          BR|-14.235004|  -51.92528|1.565462772727272...|\n",
            "|            Botswana|          BW|-22.328474|  24.684866|1.212859157213636...|\n",
            "|              Belize|          BZ| 17.189877|  -88.49765|1.8197272727272727E9|\n",
            "|              Canada|          CA| 56.130366|-106.346771|1.444623409090909...|\n",
            "|Central African R...|          CF|  6.611111|  20.939444|1.7898307931454544E9|\n",
            "|               Chile|          CL|-35.675147| -71.542969|1.990695756291818...|\n",
            "|            Cameroon|          CM|  7.369722|  12.354722|2.795539490381818E10|\n",
            "|               China|          CN|  35.86166| 104.195397|7.424554090909091E12|\n",
            "|            Colombia|          CO|  4.570868| -74.297333|2.446231231556818...|\n",
            "|          Costa Rica|          CR|  9.748917| -83.753428|3.974279719754545...|\n",
            "|  Dominican Republic|          DO| 18.735693| -70.162651|5.507558599413636E10|\n",
            "+--------------------+------------+----------+-----------+--------------------+\n",
            "only showing top 20 rows\n",
            "\n"
          ]
        }
      ]
    },
    {
      "cell_type": "markdown",
      "source": [
        "### Check the summary of all the dataframes so far created."
      ],
      "metadata": {
        "id": "giQKPaxkPM4x"
      }
    },
    {
      "cell_type": "code",
      "source": [
        "Country_GDP_df.summary().show()\n",
        "CountryDemographics.summary().show()\n",
        "\n",
        "CountryDemographics_clean_df.summary().show()"
      ],
      "metadata": {
        "colab": {
          "base_uri": "https://localhost:8080/"
        },
        "id": "2ob7ZLciLqie",
        "outputId": "12ae3895-b1e3-45c2-e647-d00e92b2b51b"
      },
      "execution_count": 19,
      "outputs": [
        {
          "output_type": "stream",
          "name": "stdout",
          "text": [
            "+-------+--------------------+------------+--------------------+--------------------+--------------------+--------------------+--------------------+--------------------+--------------------+--------------------+--------------------+--------------------+--------------------+--------------------+--------------------+--------------------+--------------------+--------------------+--------------------+--------------------+--------------------+--------------------+--------------------+--------------------+--------------------+--------------------+--------------------+--------------------+--------------------+--------------------+--------------------+--------------------+--------------------+--------------------+--------------------+--------------------+--------------------+--------------------+--------------------+--------------------+--------------------+--------------------+--------------------+--------------------+--------------------+--------------------+--------------------+--------------------+--------------------+--------------------+--------------------+--------------------+--------------------+--------------------+--------------------+--------------------+--------------------+--------------------+--------------------+--------------------+--------------------+--------------------+--------------------+--------------------+\n",
            "|summary|        country_name|country_code|                1960|                1961|                1962|                1963|                1964|                1965|                1966|                1967|                1968|                1969|                1970|                1971|                1972|                1973|                1974|                1975|                1976|                1977|                1978|                1979|                1980|                1981|                1982|                1983|                1984|                1985|                1986|                1987|                1988|                1989|                1990|                1991|                1992|                1993|                1994|                1995|                1996|                1997|                1998|                1999|                2000|                2001|                2002|                2003|                2004|                2005|                2006|                2007|                2008|                2009|                2010|                2011|                2012|                2013|                2014|                2015|                2016|                2017|                2018|                2019|                2020|                2021|\n",
            "+-------+--------------------+------------+--------------------+--------------------+--------------------+--------------------+--------------------+--------------------+--------------------+--------------------+--------------------+--------------------+--------------------+--------------------+--------------------+--------------------+--------------------+--------------------+--------------------+--------------------+--------------------+--------------------+--------------------+--------------------+--------------------+--------------------+--------------------+--------------------+--------------------+--------------------+--------------------+--------------------+--------------------+--------------------+--------------------+--------------------+--------------------+--------------------+--------------------+--------------------+--------------------+--------------------+--------------------+--------------------+--------------------+--------------------+--------------------+--------------------+--------------------+--------------------+--------------------+--------------------+--------------------+--------------------+--------------------+--------------------+--------------------+--------------------+--------------------+--------------------+--------------------+--------------------+--------------------+--------------------+\n",
            "|  count|                 123|         123|                 123|                 123|                 123|                 123|                 123|                 123|                 123|                 123|                 123|                 123|                 123|                 123|                 123|                 123|                 123|                 123|                 123|                 123|                 123|                 123|                 123|                 123|                 123|                 123|                 123|                 123|                 123|                 123|                 123|                 123|                 123|                 123|                 123|                 123|                 123|                 123|                 123|                 123|                 123|                 123|                 123|                 123|                 123|                 123|                 123|                 123|                 123|                 123|                 123|                 123|                 123|                 123|                 123|                 123|                 123|                 123|                 123|                 123|                 123|                 123|                 123|                 123|\n",
            "|   mean|                null|        null|7.698782108463998E10|7.903378541968529E10|8.404843057465056E10|9.070730380180226E10|9.960371639167041E10|1.088286219076895...|1.175289425511827...|1.242216690776833...|1.336440390792954...|1.477716671526370...|1.618003564978429E11|1.777849075254612E11|2.038347214722548E11|2.500431830475081...|2.912926096145542E11|3.238653348051225...|3.506288275071033...|3.957467029552814E11|4.599085683316341...|5.345671010226323E11|6.065201859985665E11|6.407950865650576E11|6.323777619590773E11|6.374105804843494E11|6.589965655412495E11|6.895404440621521E11|7.968857759246974E11|8.957784559776644E11|9.974065904237926E11|1.044521056006180...|1.177514450066248E12| 1.22554736868082E12|1.307334196082703...|1.340866637606235...|1.453799104156711...|1.619123265327754...|1.669228312265789...|1.677359579477622...|1.669940780568857E12|1.724251388889684...|1.796231870361379...|1.787705000801536...|1.851717976023488...|2.071628077655449E12|2.343859043623172E12|2.566578963887003E12|2.813304438359251...|3.206027457566958...|3.564199553714891E12|3.421268918173492E12|3.821640399429466E12|4.285371525622965...|4.417512992345563E12| 4.57620049735129E12|4.722292733792321E12|4.485813019327263E12|4.557681765869889E12| 4.88589511620984E12|5.192622791584896E12|5.277450010546274E12|5.123853271355947E12|5.854561654265891E12|\n",
            "| stddev|                null|        null|2.216619663026365...|2.311531360410037...|2.481015967898323...|2.668928720482385...|2.918724911704148E11|3.175311881477013E11|3.463129791551212E11|3.695091547723247...|3.999672001297743...|4.401232587215225E11|4.795548966821124E11|5.300077913134723E11|  6.1112134634954E11|7.401681094500443E11|8.413263588942234E11|9.380134986603307E11|1.019632751044921...|1.151981991521239...|1.364795804819982...|1.578450955046181...|1.766460888250256...|1.817129555466488E12|1.802214586076004...|1.853407183822920...|1.934673825684853...|2.034408003584303...|2.421554773517995E12|2.772222278614787...|3.108438806369651E12| 3.25078695931818E12|3.651981260092281...|3.837470858587768...|4.116795235966931E12|4.178296575953443E12|4.501255976527173E12|4.990376165841271E12|5.060862585032878E12| 5.01373584766686E12|5.026997670663495E12|5.253728636571592E12|5.403666209122088E12|5.366321890927703E12|5.580363112419195E12|6.236562875823788E12|6.972151526333654E12|7.461499533553413E12|7.992583567850638E12|8.900336565762918E12|9.677483641088025E12|9.171679865244719E12| 9.95136359107247E12|1.099897095601145E13| 1.12357086315467E13|1.154947707843452...|1.186443343116798E13|1.125382291257974...|1.145293771284591...|1.218224340251160...|1.296397504711621E13|1.315957135811237...|1.281980518178955E13|1.455117210176884...|\n",
            "|    min|Africa Eastern an...|         AFE|       1.201201201E7|       1.159201159E7|       1.254156215E7|       1.283322639E7|       1.341655486E7|       1.359393232E7|       1.446907818E7|       1.583517793E7|              1.46E7|             1.585E7|              1.63E7|       1.962474645E7|       2.294484912E7|       2.419601838E7|       3.151485631E7|       3.323716472E7|       3.009560229E7|        4.44962963E7|       4.943333333E7|       5.884074074E7|       6.845925926E7|       8.088888889E7|       8.602222222E7|       8.687407407E7|        9.86037037E7|       1.110074074E8|       1.306851852E8|       1.477481481E8|       1.726925926E8|       1.925185185E8|       2.172592593E8|       2.205407407E8|        2.42137037E8|       2.637555556E8|        2.89437037E8|       3.134851852E8|       3.314888889E8|       3.477703704E8|       3.736185185E8|       3.907185185E8|       4.216957698E8|        4.58643829E8|       4.810773737E8|       4.698698699E8|             5.069E8|       5.472037037E8|       6.435011481E8|       6.892851852E8|       7.326632593E8|       7.143002593E8|       7.204478889E8|       7.137963704E8|       7.300325926E8|       7.647812593E8|       7.709014444E8|       7.865545926E8|       8.143022593E8|       8.476202222E8|       8.843281852E8|       9.101497037E8|       8.721345556E8|       8.608407407E8|\n",
            "|    25%|                null|        null|       4.495268726E8|       4.857852349E8|       4.791808243E8|       5.119021368E8|       5.425783672E8|       6.733836042E8|       7.022961844E8|       7.558080808E8|       7.722286434E8|       7.886419654E8|       8.659753086E8|       8.967543167E8|       1.083381044E9|       1.299105241E9|       1.666544754E9|       2.157592937E9|       2.412555426E9|             2.483E9|       2.644449232E9|       3.030251116E9|            3.8295E9|        3.49299701E9|       3.293533288E9|       3.216307692E9|       3.485165161E9|       3.339914759E9|       3.923232122E9|       3.851213728E9|       3.834503378E9|       4.323058824E9|       4.592224067E9|       4.106199176E9|        4.37798051E9|       4.669488516E9|       4.642280682E9|       5.329214163E9|       5.694040337E9|       5.737751332E9|       6.217806273E9|       5.998563258E9|       6.193246837E9|       6.331961555E9|       6.178563591E9|       7.511582173E9|       8.773451752E9|       9.582783318E9|     1.0327598801E10|     1.2361257681E10|     1.3881701034E10|     1.2854985464E10|     1.4372591916E10|     1.7814284622E10|     1.7692912613E10|     1.8918668644E10|     1.9756494435E10|      1.996312061E10|     2.0759069103E10|     2.2742613554E10|     2.4109509853E10|     2.3398811424E10|     2.1509698406E10|      2.560241921E10|\n",
            "|    50%|                null|        null|       3.193200404E9|       3.034043574E9|       3.308912797E9|        3.90573446E9|       3.889129942E9|       4.388937649E9|       5.135387846E9|       5.203135937E9|       5.736083835E9|       6.450175214E9|        7.19836046E9|       7.820380971E9|       8.177884553E9|       8.707847924E9|      1.251246052E10|     1.3098633902E10|     1.3168080808E10|     1.5126060606E10|     1.7811515152E10|     2.1803696985E10|     2.8861759209E10|     3.1055409443E10|     3.0527754793E10|     2.8691889764E10|     3.1151825467E10|     3.1144920844E10|     3.1899070056E10|     3.3920518493E10|     3.8472742808E10|       3.95400802E10|      4.784409071E10|     4.9118433048E10|     5.2130263966E10|     5.2417477614E10|     5.7097656066E10|     7.3447063319E10|     7.8574385336E10|     8.5728899954E10|     7.4492325248E10|     7.9148421053E10|     8.3669693589E10|     7.9484403985E10|     9.2537752709E10|     9.4641378693E10|          1.15035E11|          1.27808E11|           1.5384E11|          1.80942E11|          1.93612E11|          1.94152E11|          2.21914E11|          2.45118E11|          2.42029E11|          2.38908E11|          2.59171E11|          2.42497E11|          2.65236E11|          2.93755E11|          3.21379E11|          3.20909E11|          2.71892E11|          3.17059E11|\n",
            "|    75%|                null|        null|     3.6887548794E10|     3.8951365492E10|     4.1975155374E10|     4.5029988561E10|     4.6056153251E10|     5.1768862668E10|     4.7271082794E10|     5.0134942204E10|     5.3085455871E10|     5.8447995017E10|     6.7415812726E10|     6.8822690769E10|      7.740537928E10|     9.8950086849E10|          1.26935E11|          1.41404E11|          1.52564E11|          1.67528E11|          1.84991E11|          2.21338E11|          2.37393E11|          3.06215E11|          2.89626E11|          2.73951E11|          2.72677E11|          2.53727E11|          2.60479E11|           2.9628E11|          3.12446E11|          3.47028E11|          3.90726E11|          3.86364E11|          3.63158E11|          3.80987E11|          4.63617E11|          4.79707E11|          5.24815E11|          5.50549E11|          5.58259E11|          5.98146E11|          6.30242E11|           6.2783E11|          6.77427E11|          7.29336E11|          7.93175E11|          9.34901E11|          1.10764E12|          1.39708E12|          1.52761E12|          1.46958E12|          1.67562E12|          1.79333E12|          1.82764E12|          1.85672E12|          2.03913E12|          1.80221E12|           1.7957E12|           1.9618E12|          1.91695E12|          1.87327E12|          1.71228E12|          1.98834E12|\n",
            "|    max|            Zimbabwe|         ZWE|          1.39228E12|          1.44863E12|          1.55055E12|          1.67161E12|          1.83029E12|          1.99391E12|           2.1639E12|          2.30253E12|          2.48522E12|          2.74118E12|          2.99723E12|          3.31078E12|          3.81715E12|          4.65698E12|          5.36759E12|          5.97892E12|          6.49938E12|           7.3508E12|          8.65656E12|          1.00542E13|          1.13366E13|          1.17276E13|          1.16098E13|          1.18401E13|          1.22716E13|          1.28622E13|          1.52078E13|          1.73103E13|          1.93412E13|          2.01975E13|          2.27838E13|          2.37636E13|          2.54103E13|          2.58263E13|          2.78768E13|          3.10485E13|          3.17419E13|          3.16278E13|          3.15466E13|          3.27455E13|          3.38396E13|           3.3624E13|           3.4918E13|          3.91523E13|           4.4124E13|          4.77844E13|          5.17802E13|          5.83495E13|          6.41208E13|          6.08041E13|          6.66058E13|          7.38576E13|          7.55012E13|          7.76072E13|          7.97332E13|          7.51878E13|          7.64615E13|          8.14007E13|          8.64569E13|          8.76453E13|          8.51056E13|          9.65131E13|\n",
            "+-------+--------------------+------------+--------------------+--------------------+--------------------+--------------------+--------------------+--------------------+--------------------+--------------------+--------------------+--------------------+--------------------+--------------------+--------------------+--------------------+--------------------+--------------------+--------------------+--------------------+--------------------+--------------------+--------------------+--------------------+--------------------+--------------------+--------------------+--------------------+--------------------+--------------------+--------------------+--------------------+--------------------+--------------------+--------------------+--------------------+--------------------+--------------------+--------------------+--------------------+--------------------+--------------------+--------------------+--------------------+--------------------+--------------------+--------------------+--------------------+--------------------+--------------------+--------------------+--------------------+--------------------+--------------------+--------------------+--------------------+--------------------+--------------------+--------------------+--------------------+--------------------+--------------------+--------------------+--------------------+\n",
            "\n",
            "+-------+------------+------------+------------------+------------------+\n",
            "|summary|country_code|country_name|          latitude|         longitude|\n",
            "+-------+------------+------------+------------------+------------------+\n",
            "|  count|         244|         244|               244|               244|\n",
            "|   mean|        null|        null|  16.2531093647541|13.294813586065576|\n",
            "| stddev|        null|        null|27.031206079229964| 73.97647657765005|\n",
            "|    min|          AD| Afghanistan|        -75.250973|       -177.156097|\n",
            "|    25%|        null|        null|         -0.522778|        -42.604303|\n",
            "|    50%|        null|        null|         16.742498|         17.873887|\n",
            "|    75%|        null|        null|         38.963745|         48.516388|\n",
            "|    max|          ZW|    Zimbabwe|         77.553604|        179.414413|\n",
            "+-------+------------+------------+------------------+------------------+\n",
            "\n",
            "+-------+------------+------------+------------------+-----------------+--------------------+\n",
            "|summary|country_name|country_code|          latitude|        longitude|                 GDP|\n",
            "+-------+------------+------------+------------------+-----------------+--------------------+\n",
            "|  count|          80|          80|                80|               80|                  80|\n",
            "|   mean|        null|        null|14.787777600000007|3.388046312500001|6.313338309249963E11|\n",
            "| stddev|        null|        null| 24.53579146020456| 65.6780177116553|2.046634435734993...|\n",
            "|    min|     Algeria|          AT|        -35.675147|      -106.346771|1.1177411508363638E9|\n",
            "|    25%|        null|        null|         -0.803689|       -61.222503|1.161560291813636...|\n",
            "|    50%|        null|        null|         12.862807|         5.291266|5.153637221868181...|\n",
            "|    75%|        null|        null|         31.791702|        29.918886|2.613462272727272...|\n",
            "|    max|    Zimbabwe|          ZW|         64.963051|       179.414413|1.590805454545454...|\n",
            "+-------+------------+------------+------------------+-----------------+--------------------+\n",
            "\n"
          ]
        }
      ]
    },
    {
      "cell_type": "markdown",
      "source": [
        "# Configure the RDS settings to write the cleaned dataframe into the CountryDemographics table."
      ],
      "metadata": {
        "id": "yQAABGbkPvIs"
      }
    },
    {
      "cell_type": "code",
      "source": [
        "# Configure settings for RDS\n",
        "\n",
        "mode = \"append\"\n",
        "jdbc_url=\"jdbc:postgresql://database-1.c1bq6ytovfoa.us-west-2.rds.amazonaws.com:5432/postgres\"\n",
        "config = {\"user\":\"postgres\", \n",
        "          \"password\": \"postgres\", \n",
        "           \"driver\":\"org.postgresql.Driver\"\n",
        "         }\n",
        "# Write country_clean_df to table in RDS\n",
        "CountryDemographics_clean_df.printSchema()\n",
        "\n",
        "\n",
        "CountryDemographics_clean_df.write.jdbc(url=jdbc_url, table='countrydemographics', mode=mode, properties=config)\n",
        "CountryDemographics_clean_df.show()"
      ],
      "metadata": {
        "id": "Cb7piTp6t9cB",
        "colab": {
          "base_uri": "https://localhost:8080/"
        },
        "outputId": "b4665f3c-2cb4-47e4-cc00-7576dd4894c3"
      },
      "execution_count": 22,
      "outputs": [
        {
          "output_type": "stream",
          "name": "stdout",
          "text": [
            "root\n",
            " |-- country_name: string (nullable = true)\n",
            " |-- country_code: string (nullable = true)\n",
            " |-- latitude: double (nullable = true)\n",
            " |-- longitude: double (nullable = true)\n",
            " |-- GDP: double (nullable = true)\n",
            "\n",
            "+--------------------+------------+----------+-----------+--------------------+\n",
            "|        country_name|country_code|  latitude|  longitude|                 GDP|\n",
            "+--------------------+------------+----------+-----------+--------------------+\n",
            "|             Austria|          AT| 47.516231|  14.550072|3.711230454545455E11|\n",
            "|           Australia|          AU|-25.274398| 133.775136|         1.058007E12|\n",
            "|          Bangladesh|          BD| 23.684994|  90.356331|1.645153556962272...|\n",
            "|             Belgium|          BE| 50.503887|   4.469936|4.491997272727273E11|\n",
            "|        Burkina Faso|          BF| 12.238333|  -1.561593|1.044751617809091E10|\n",
            "|             Burundi|          BI| -3.373056|  29.918886|1.9224104425090907E9|\n",
            "|               Benin|          BJ|   9.30769|   2.315834| 9.943231901318182E9|\n",
            "|             Bermuda|          BM| 32.321384|  -64.75737| 6.041336681818182E9|\n",
            "|             Bolivia|          BO|-16.290154| -63.588653|2.302090355195454...|\n",
            "|              Brazil|          BR|-14.235004|  -51.92528|1.565462772727272...|\n",
            "|            Botswana|          BW|-22.328474|  24.684866|1.212859157213636...|\n",
            "|              Belize|          BZ| 17.189877|  -88.49765|1.8197272727272727E9|\n",
            "|              Canada|          CA| 56.130366|-106.346771|1.444623409090909...|\n",
            "|Central African R...|          CF|  6.611111|  20.939444|1.7898307931454544E9|\n",
            "|               Chile|          CL|-35.675147| -71.542969|1.990695756291818...|\n",
            "|            Cameroon|          CM|  7.369722|  12.354722|2.795539490381818E10|\n",
            "|               China|          CN|  35.86166| 104.195397|7.424554090909091E12|\n",
            "|            Colombia|          CO|  4.570868| -74.297333|2.446231231556818...|\n",
            "|          Costa Rica|          CR|  9.748917| -83.753428|3.974279719754545...|\n",
            "|  Dominican Republic|          DO| 18.735693| -70.162651|5.507558599413636E10|\n",
            "+--------------------+------------+----------+-----------+--------------------+\n",
            "only showing top 20 rows\n",
            "\n"
          ]
        }
      ]
    }
  ]
}