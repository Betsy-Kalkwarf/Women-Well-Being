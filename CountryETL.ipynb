{
  "nbformat": 4,
  "nbformat_minor": 0,
  "metadata": {
    "colab": {
      "provenance": []
    },
    "kernelspec": {
      "name": "python3",
      "display_name": "Python 3"
    },
    "language_info": {
      "name": "python"
    },
    "gpuClass": "standard"
  },
  "cells": [
    {
      "cell_type": "markdown",
      "source": [
        "# Required Installations of Spark & Jave and set up of Environment Variables."
      ],
      "metadata": {
        "id": "MVIYYQM0NI2D"
      }
    },
    {
      "cell_type": "code",
      "execution_count": 1,
      "metadata": {
        "colab": {
          "base_uri": "https://localhost:8080/"
        },
        "id": "KCCChj51W1Zt",
        "outputId": "79867729-61ea-41e3-d756-1664a4048206"
      },
      "outputs": [
        {
          "output_type": "stream",
          "name": "stdout",
          "text": [
            "\r0% [Working]\r            \rHit:1 http://archive.ubuntu.com/ubuntu focal InRelease\n",
            "\r0% [Waiting for headers] [Connecting to security.ubuntu.com (185.125.190.39)] [\r                                                                               \rGet:2 http://archive.ubuntu.com/ubuntu focal-updates InRelease [114 kB]\n",
            "\r                                                                               \rGet:3 http://security.ubuntu.com/ubuntu focal-security InRelease [114 kB]\n",
            "\r                                                                               \rGet:4 https://cloud.r-project.org/bin/linux/ubuntu focal-cran40/ InRelease [3,622 B]\n",
            "\r                                                                               \rHit:5 https://developer.download.nvidia.com/compute/cuda/repos/ubuntu2004/x86_64  InRelease\n",
            "\r0% [2 InRelease 101 kB/114 kB 89%] [3 InRelease 14.2 kB/114 kB 12%] [Waiting fo\r                                                                               \rGet:6 http://ppa.launchpad.net/c2d4u.team/c2d4u4.0+/ubuntu focal InRelease [18.1 kB]\n",
            "Get:7 http://archive.ubuntu.com/ubuntu focal-backports InRelease [108 kB]\n",
            "Hit:8 http://ppa.launchpad.net/cran/libgit2/ubuntu focal InRelease\n",
            "Get:9 http://ppa.launchpad.net/deadsnakes/ppa/ubuntu focal InRelease [18.1 kB]\n",
            "Hit:10 http://ppa.launchpad.net/graphics-drivers/ppa/ubuntu focal InRelease\n",
            "Get:11 http://archive.ubuntu.com/ubuntu focal-updates/main amd64 Packages [3,065 kB]\n",
            "Hit:12 http://ppa.launchpad.net/ubuntugis/ppa/ubuntu focal InRelease\n",
            "Get:13 http://archive.ubuntu.com/ubuntu focal-updates/universe amd64 Packages [1,320 kB]\n",
            "Get:14 http://archive.ubuntu.com/ubuntu focal-updates/restricted amd64 Packages [2,198 kB]\n",
            "Get:15 http://ppa.launchpad.net/c2d4u.team/c2d4u4.0+/ubuntu focal/main Sources [2,405 kB]\n",
            "Get:16 http://security.ubuntu.com/ubuntu focal-security/universe amd64 Packages [1,022 kB]\n",
            "Get:17 http://ppa.launchpad.net/c2d4u.team/c2d4u4.0+/ubuntu focal/main amd64 Packages [1,139 kB]\n",
            "Get:18 http://security.ubuntu.com/ubuntu focal-security/main amd64 Packages [2,549 kB]\n",
            "Get:19 http://ppa.launchpad.net/deadsnakes/ppa/ubuntu focal/main amd64 Packages [29.5 kB]\n",
            "Fetched 14.1 MB in 4s (3,268 kB/s)\n",
            "Reading package lists... Done\n"
          ]
        }
      ],
      "source": [
        "import os\n",
        "# Find the latest version of spark 3.2 from http://www.apache.org/dist/spark/ and enter as the spark version\n",
        "# For example:\n",
        "# spark_version = 'spark-3.2.3'\n",
        "spark_version = 'spark-3.2.3'\n",
        "os.environ['SPARK_VERSION']=spark_version\n",
        "\n",
        "# Install Spark and Java\n",
        "!apt-get update\n",
        "!apt-get install openjdk-11-jdk-headless -qq > /dev/null\n",
        "!wget -q http://www.apache.org/dist/spark/$SPARK_VERSION/$SPARK_VERSION-bin-hadoop2.7.tgz\n",
        "!tar xf $SPARK_VERSION-bin-hadoop2.7.tgz\n",
        "!pip install -q findspark\n",
        "\n",
        "# Set Environment Variables\n",
        "import os\n",
        "os.environ[\"JAVA_HOME\"] = \"/usr/lib/jvm/java-11-openjdk-amd64\"\n",
        "os.environ[\"SPARK_HOME\"] = f\"/content/{spark_version}-bin-hadoop2.7\"\n",
        "\n",
        "# Start a SparkSession\n",
        "import findspark\n",
        "findspark.init()\n",
        "\n"
      ]
    },
    {
      "cell_type": "code",
      "source": [
        "# Download the Postgres driver that will allow Spark to interact with Postgres.\n",
        "!wget https://jdbc.postgresql.org/download/postgresql-42.5.1.jar"
      ],
      "metadata": {
        "colab": {
          "base_uri": "https://localhost:8080/"
        },
        "id": "XFw4dnCHoPa2",
        "outputId": "f934a3ce-caf9-4447-a289-576e344efa96"
      },
      "execution_count": 2,
      "outputs": [
        {
          "output_type": "stream",
          "name": "stdout",
          "text": [
            "--2023-03-27 19:11:48--  https://jdbc.postgresql.org/download/postgresql-42.5.1.jar\n",
            "Resolving jdbc.postgresql.org (jdbc.postgresql.org)... 72.32.157.228, 2001:4800:3e1:1::228\n",
            "Connecting to jdbc.postgresql.org (jdbc.postgresql.org)|72.32.157.228|:443... connected.\n",
            "HTTP request sent, awaiting response... 200 OK\n",
            "Length: 1046770 (1022K) [application/java-archive]\n",
            "Saving to: ‘postgresql-42.5.1.jar’\n",
            "\n",
            "postgresql-42.5.1.j 100%[===================>]   1022K  6.28MB/s    in 0.2s    \n",
            "\n",
            "2023-03-27 19:11:48 (6.28 MB/s) - ‘postgresql-42.5.1.jar’ saved [1046770/1046770]\n",
            "\n"
          ]
        }
      ]
    },
    {
      "cell_type": "markdown",
      "source": [
        "# Load Amazon Data into Spark DataFrame\n",
        "## Get the Country latitude and longitude details with GDP"
      ],
      "metadata": {
        "id": "gLiAb-d1N0jl"
      }
    },
    {
      "cell_type": "code",
      "source": [
        "from pyspark.sql import SparkSession\n",
        "spark = SparkSession.builder.appName(\"FinalProject-WomenWellBeing\").config(\"spark.driver.extraClassPath\",\"/content/postgresql-42.5.1.jar\").getOrCreate()\n"
      ],
      "metadata": {
        "id": "t996OTiFYemK"
      },
      "execution_count": 3,
      "outputs": []
    },
    {
      "cell_type": "code",
      "source": [
        "from pyspark import SparkFiles\n",
        "url = \"https://mywomenwellbeing.s3.us-west-1.amazonaws.com/world_country_and_usa_states_latitude_and_longitude_values.csv\"\n",
        "spark.sparkContext.addFile(url)\n",
        "\n",
        "\n",
        "\n",
        "from pyspark.sql.types import StructType,StructField,StringType,IntegerType,DoubleType\n",
        "schema = StructType([\n",
        "  StructField(\"country_code\", StringType(), False),  \n",
        "  StructField(\"latitude\", DoubleType(), True),\n",
        "  StructField(\"longitude\", DoubleType(), True),\n",
        "  StructField(\"country_name\", StringType(), False),\n",
        "  ])\n",
        "\n",
        "# country_df = spark.read.csv(SparkFiles.get(\"world_country_and_usa_states_latitude_and_longitude_values.csv\"), sep=\",\", header=True)\n",
        "country_df = spark.read.option(\"encoding\", \"UTF-8\").schema(schema).csv(SparkFiles.get(\"world_country_and_usa_states_latitude_and_longitude_values.csv\"), sep=\",\", header=True, inferSchema=True)\n",
        "country_df.show()\n"
      ],
      "metadata": {
        "id": "Reda9E2NYwXu",
        "colab": {
          "base_uri": "https://localhost:8080/"
        },
        "outputId": "3946fff2-768a-4555-c951-67a1dfbf962a"
      },
      "execution_count": 4,
      "outputs": [
        {
          "output_type": "stream",
          "name": "stdout",
          "text": [
            "+------------+----------+-----------+--------------------+\n",
            "|country_code|  latitude|  longitude|        country_name|\n",
            "+------------+----------+-----------+--------------------+\n",
            "|          AD| 42.546245|   1.601554|             Andorra|\n",
            "|          AE| 23.424076|  53.847818|United Arab Emirates|\n",
            "|          AF|  33.93911|  67.709953|         Afghanistan|\n",
            "|          AG| 17.060816| -61.796428| Antigua and Barbuda|\n",
            "|          AI| 18.220554| -63.068615|            Anguilla|\n",
            "|          AL| 41.153332|  20.168331|             Albania|\n",
            "|          AM| 40.069099|  45.038189|             Armenia|\n",
            "|          AN| 12.226079| -69.060087|Netherlands Antilles|\n",
            "|          AO|-11.202692|  17.873887|              Angola|\n",
            "|          AQ|-75.250973|  -0.071389|          Antarctica|\n",
            "|          AR|-38.416097| -63.616672|           Argentina|\n",
            "|          AS|-14.270972|-170.132217|      American Samoa|\n",
            "|          AT| 47.516231|  14.550072|             Austria|\n",
            "|          AU|-25.274398| 133.775136|           Australia|\n",
            "|          AW|  12.52111| -69.968338|               Aruba|\n",
            "|          AZ| 40.143105|  47.576927|          Azerbaijan|\n",
            "|          BA| 43.915886|  17.679076|Bosnia and Herzeg...|\n",
            "|          BB| 13.193887| -59.543198|            Barbados|\n",
            "|          BD| 23.684994|  90.356331|          Bangladesh|\n",
            "|          BE| 50.503887|   4.469936|             Belgium|\n",
            "+------------+----------+-----------+--------------------+\n",
            "only showing top 20 rows\n",
            "\n"
          ]
        }
      ]
    },
    {
      "cell_type": "markdown",
      "source": [
        "### Load the dataframe with required columns and clean the data."
      ],
      "metadata": {
        "id": "m7wZE5K7ORMZ"
      }
    },
    {
      "cell_type": "code",
      "source": [
        "country_clean_df  = country_df.select(country_df['country_code'],country_df['country_name'],country_df['latitude'],country_df['longitude'])\n",
        "country_clean_df.describe().show()\n",
        "country_clean_df.dropna().describe().show()\n",
        "\n",
        "CountryDemographics = country_clean_df.dropna()"
      ],
      "metadata": {
        "id": "RM_rbVYlZUvp",
        "colab": {
          "base_uri": "https://localhost:8080/"
        },
        "outputId": "9c77a587-558d-4edb-b362-ee7642d692ce"
      },
      "execution_count": 5,
      "outputs": [
        {
          "output_type": "stream",
          "name": "stdout",
          "text": [
            "+-------+------------+------------+------------------+------------------+\n",
            "|summary|country_code|country_name|          latitude|         longitude|\n",
            "+-------+------------+------------+------------------+------------------+\n",
            "|  count|         245|         245|               244|               244|\n",
            "|   mean|        null|        null|  16.2531093647541|13.294813586065576|\n",
            "| stddev|        null|        null|27.031206079229964| 73.97647657765005|\n",
            "|    min|          AD| Afghanistan|        -75.250973|       -177.156097|\n",
            "|    max|          ZW|    Zimbabwe|         77.553604|        179.414413|\n",
            "+-------+------------+------------+------------------+------------------+\n",
            "\n",
            "+-------+------------+------------+------------------+------------------+\n",
            "|summary|country_code|country_name|          latitude|         longitude|\n",
            "+-------+------------+------------+------------------+------------------+\n",
            "|  count|         244|         244|               244|               244|\n",
            "|   mean|        null|        null|  16.2531093647541|13.294813586065576|\n",
            "| stddev|        null|        null|27.031206079229964| 73.97647657765005|\n",
            "|    min|          AD| Afghanistan|        -75.250973|       -177.156097|\n",
            "|    max|          ZW|    Zimbabwe|         77.553604|        179.414413|\n",
            "+-------+------------+------------+------------------+------------------+\n",
            "\n"
          ]
        }
      ]
    },
    {
      "cell_type": "code",
      "source": [
        "CountryDemographics.show()"
      ],
      "metadata": {
        "id": "HqxSiEWht1C1",
        "colab": {
          "base_uri": "https://localhost:8080/"
        },
        "outputId": "26cf05a6-f3fc-44f8-80a2-67262131aa20"
      },
      "execution_count": 6,
      "outputs": [
        {
          "output_type": "stream",
          "name": "stdout",
          "text": [
            "+------------+--------------------+----------+-----------+\n",
            "|country_code|        country_name|  latitude|  longitude|\n",
            "+------------+--------------------+----------+-----------+\n",
            "|          AD|             Andorra| 42.546245|   1.601554|\n",
            "|          AE|United Arab Emirates| 23.424076|  53.847818|\n",
            "|          AF|         Afghanistan|  33.93911|  67.709953|\n",
            "|          AG| Antigua and Barbuda| 17.060816| -61.796428|\n",
            "|          AI|            Anguilla| 18.220554| -63.068615|\n",
            "|          AL|             Albania| 41.153332|  20.168331|\n",
            "|          AM|             Armenia| 40.069099|  45.038189|\n",
            "|          AN|Netherlands Antilles| 12.226079| -69.060087|\n",
            "|          AO|              Angola|-11.202692|  17.873887|\n",
            "|          AQ|          Antarctica|-75.250973|  -0.071389|\n",
            "|          AR|           Argentina|-38.416097| -63.616672|\n",
            "|          AS|      American Samoa|-14.270972|-170.132217|\n",
            "|          AT|             Austria| 47.516231|  14.550072|\n",
            "|          AU|           Australia|-25.274398| 133.775136|\n",
            "|          AW|               Aruba|  12.52111| -69.968338|\n",
            "|          AZ|          Azerbaijan| 40.143105|  47.576927|\n",
            "|          BA|Bosnia and Herzeg...| 43.915886|  17.679076|\n",
            "|          BB|            Barbados| 13.193887| -59.543198|\n",
            "|          BD|          Bangladesh| 23.684994|  90.356331|\n",
            "|          BE|             Belgium| 50.503887|   4.469936|\n",
            "+------------+--------------------+----------+-----------+\n",
            "only showing top 20 rows\n",
            "\n"
          ]
        }
      ]
    },
    {
      "cell_type": "markdown",
      "source": [
        "### Load the Country GDP csv.\n",
        "### Drop the unnecessary columns and drop the null values and store the clean data into a new dataframe."
      ],
      "metadata": {
        "id": "wbWyOpFWObav"
      }
    },
    {
      "cell_type": "code",
      "source": [
        "\n",
        "from pyspark import SparkFiles\n",
        "url = \"https://mywomenwellbeing.s3.us-west-1.amazonaws.com/Country_GDP.csv\"\n",
        "\n",
        "spark.sparkContext.addFile(url)\n",
        "\n",
        "\n",
        "from pyspark.sql.types import StructType,StructField,StringType,IntegerType,DoubleType\n",
        "countryGDPSchema = StructType([\n",
        "  StructField(\"country_code\", StringType(), False),\n",
        "  StructField(\"country_name\", StringType(), False),\n",
        "  \n",
        "  StructField(\"2000\", IntegerType(), True),\n",
        "  StructField(\"2001\", IntegerType(), True),\n",
        "  StructField(\"2002\", IntegerType(), True),\n",
        "  StructField(\"2003\", IntegerType(), True),\n",
        "  StructField(\"2004\", IntegerType(), True),\n",
        "  StructField(\"2005\", IntegerType(), True),\n",
        "  StructField(\"2006\", IntegerType(), True),\n",
        "  StructField(\"2007\", IntegerType(), True),\n",
        "  StructField(\"2008\", IntegerType(), True),\n",
        "  StructField(\"2009\", IntegerType(), True),\n",
        "  StructField(\"2010\", IntegerType(), True),\n",
        "  StructField(\"2011\", IntegerType(), True),\n",
        "  StructField(\"2012\", IntegerType(), True),\n",
        "  StructField(\"2013\", IntegerType(), True),\n",
        "  StructField(\"2014\", IntegerType(), True),\n",
        "  StructField(\"2015\", IntegerType(), True),\n",
        "  StructField(\"2016\", IntegerType(), True),\n",
        "  StructField(\"2017\", IntegerType(), True)\n",
        "  ])\n",
        "\n",
        "\n",
        "\n",
        "\n"
      ],
      "metadata": {
        "id": "bg2RIsxeXKVb"
      },
      "execution_count": 7,
      "outputs": []
    },
    {
      "cell_type": "code",
      "source": [
        "\n",
        "Country_GDP_df = spark.read.option(\"encoding\", \"UTF-8\").csv(SparkFiles.get(\"Country_GDP.csv\"), sep=\",\", header=True, inferSchema=True)\n",
        "# Country_GDP_df.show()\n",
        "\n",
        "print(Country_GDP_df.columns)\n",
        "# Shape of the DF in spark\n",
        "# print((Country_GDP_df.count(), len(Country_GDP_df.columns)))"
      ],
      "metadata": {
        "id": "o2z62UGj_Vij",
        "colab": {
          "base_uri": "https://localhost:8080/"
        },
        "outputId": "87c6aaf1-b7a6-40b6-a77d-6d5b21cc9340"
      },
      "execution_count": 8,
      "outputs": [
        {
          "output_type": "stream",
          "name": "stdout",
          "text": [
            "['Country Name', 'Country Code', 'Indicator Name', 'Indicator Code', '1960', '1961', '1962', '1963', '1964', '1965', '1966', '1967', '1968', '1969', '1970', '1971', '1972', '1973', '1974', '1975', '1976', '1977', '1978', '1979', '1980', '1981', '1982', '1983', '1984', '1985', '1986', '1987', '1988', '1989', '1990', '1991', '1992', '1993', '1994', '1995', '1996', '1997', '1998', '1999', '2000', '2001', '2002', '2003', '2004', '2005', '2006', '2007', '2008', '2009', '2010', '2011', '2012', '2013', '2014', '2015', '2016', '2017']\n"
          ]
        }
      ]
    },
    {
      "cell_type": "code",
      "source": [
        "Country_GDP_df = Country_GDP_df.drop(Country_GDP_df[\"Indicator Name\"])\n",
        "Country_GDP_df = Country_GDP_df.drop(Country_GDP_df[\"Indicator Code\"])\n",
        "Country_GDP_df = Country_GDP_df.withColumnRenamed(\"Country Name\",\"country_name\")\n",
        "Country_GDP_df = Country_GDP_df.withColumnRenamed(\"Country Code\",\"country_code\")"
      ],
      "metadata": {
        "id": "oJxLOG_F_j4D"
      },
      "execution_count": 9,
      "outputs": []
    },
    {
      "cell_type": "code",
      "source": [
        "\n",
        "import numpy as np\n",
        "Country_GDP_df.show()"
      ],
      "metadata": {
        "id": "rxvwY2kxCBzS",
        "colab": {
          "base_uri": "https://localhost:8080/"
        },
        "outputId": "77c72eb9-86e6-455e-cb56-bc8d0f4ce791"
      },
      "execution_count": 10,
      "outputs": [
        {
          "output_type": "stream",
          "name": "stdout",
          "text": [
            "+--------------------+------------+---------------+---------------+---------------+---------------+---------------+---------------+---------------+---------------+---------------+---------------+---------------+---------------+---------------+---------------+---------------+---------------+---------------+---------------+---------------+---------------+---------------+---------------+---------------+---------------+---------------+---------------+---------------+---------------+---------------+---------------+---------------+---------------+---------------+---------------+---------------+---------------+---------------+---------------+---------------+---------------+---------------+---------------+---------------+---------------+---------------+---------------+---------------+---------------+---------------+---------------+---------------+---------------+---------------+---------------+---------------+---------------+---------------+---------------+\n",
            "|        country_name|country_code|           1960|           1961|           1962|           1963|           1964|           1965|           1966|           1967|           1968|           1969|           1970|           1971|           1972|           1973|           1974|           1975|           1976|           1977|           1978|           1979|           1980|           1981|           1982|           1983|           1984|           1985|           1986|           1987|           1988|           1989|           1990|           1991|           1992|           1993|           1994|           1995|           1996|           1997|           1998|           1999|           2000|           2001|           2002|           2003|           2004|           2005|           2006|           2007|           2008|           2009|           2010|           2011|           2012|           2013|           2014|           2015|           2016|           2017|\n",
            "+--------------------+------------+---------------+---------------+---------------+---------------+---------------+---------------+---------------+---------------+---------------+---------------+---------------+---------------+---------------+---------------+---------------+---------------+---------------+---------------+---------------+---------------+---------------+---------------+---------------+---------------+---------------+---------------+---------------+---------------+---------------+---------------+---------------+---------------+---------------+---------------+---------------+---------------+---------------+---------------+---------------+---------------+---------------+---------------+---------------+---------------+---------------+---------------+---------------+---------------+---------------+---------------+---------------+---------------+---------------+---------------+---------------+---------------+---------------+---------------+\n",
            "|               Aruba|         ABW|           null|           null|           null|           null|           null|           null|           null|           null|           null|           null|           null|           null|           null|           null|           null|           null|           null|           null|           null|           null|           null|           null|           null|           null|           null|           null|           null|           null|           null|           null|           null|           null|           null|           null|  1.330167598E9|  1.320670391E9|  1.379888268E9|  1.531843575E9|  1.665363128E9|  1.722798883E9|  1.873452514E9|   1.92026257E9|  1.941094972E9|  2.021301676E9|   2.22827933E9|  2.331005587E9|   2.42147486E9|  2.623726257E9|  2.791960894E9|  2.498932961E9|  2.467703911E9|  2.584463687E9|           null|           null|           null|           null|           null|           null|\n",
            "|         Afghanistan|         AFG|  5.377778111E8|  5.488888956E8|  5.466666778E8|  7.511111911E8|  8.000000444E8|  1.006666638E9|  1.399999967E9|  1.673333418E9|  1.373333367E9|  1.408888922E9|  1.748886596E9|  1.831108971E9|  1.595555476E9|  1.733333264E9|  2.155555498E9|  2.366666616E9|  2.555555567E9|  2.953333418E9|  3.300000109E9|   3.69794041E9|  3.641723322E9|  3.478787909E9|           null|           null|           null|           null|           null|           null|           null|           null|           null|           null|           null|           null|           null|           null|           null|           null|           null|           null|           null|  2.461665938E9|  4.128820723E9|  4.583644246E9|  5.285465686E9|  6.275073572E9|  7.057598407E9|  9.843842455E9|1.0190529882E10|1.2486943506E10|1.5936800636E10|  1.79302394E10|2.0536542737E10|2.0264253974E10|2.0616104298E10|1.9215562179E10|1.9469022208E10| 2.081530022E10|\n",
            "|              Angola|         AGO|           null|           null|           null|           null|           null|           null|           null|           null|           null|           null|           null|           null|           null|           null|           null|           null|           null|           null|           null|           null|  5.934073604E9|  5.553824464E9|  5.553824464E9|  5.787823809E9|  6.135166254E9|  7.558613008E9|  7.076793823E9|  8.089279285E9|  8.775116269E9|1.0207922517E10|1.1236275843E10|           null|           null|           null|       3.3905E9|  5.561222222E9|  6.537503912E9|  7.676533742E9|  6.506619145E9|  6.152936539E9|  9.129634978E9|  8.936063723E9|1.2497347956E10|1.4188949398E10|1.9640853734E10|2.8233712738E10|4.1789479932E10|6.0448924662E10|8.4178035579E10|7.5492385928E10|8.2526143645E10|        1.04E11|        1.14E11|        1.25E11|        1.27E11|        1.03E11|9.5337203468E10|        1.24E11|\n",
            "|             Albania|         ALB|           null|           null|           null|           null|           null|           null|           null|           null|           null|           null|           null|           null|           null|           null|           null|           null|           null|           null|           null|           null|           null|           null|           null|           null|  1.924242453E9|  1.965384586E9|  2.173750013E9|    2.1566249E9|        2.126E9|  2.335124988E9|  2.101624963E9|  1.139166646E9|  7.094525839E8|  1.228071038E9|  1.985673798E9|  2.424499009E9|  3.314898292E9|  2.359903108E9|  2.707123772E9|  3.414760915E9|  3.632043908E9|  4.060758804E9|  4.435078648E9|  5.746945913E9|  7.314865176E9|  8.158548717E9|  8.992642349E9|1.0701011897E10|1.2881352688E10|1.2044212904E10|1.1926953259E10|1.2890867539E10|1.2319784787E10|1.2776277515E10|1.3228244357E10| 1.138693149E10|1.1883682171E10|1.3039352744E10|\n",
            "|             Andorra|         AND|           null|           null|           null|           null|           null|           null|           null|           null|           null|           null|  7.861920609E7|  8.940982036E7|  1.134082319E8|  1.508201028E8|  1.865586963E8|  2.201272464E8|  2.272810246E8|  2.540201533E8|  3.080088976E8|  4.115783342E8|  4.464161058E8|  3.889587313E8|  3.758959564E8|  3.278618329E8|  3.300706893E8|  3.467379648E8|   4.82000594E8|  6.113163994E8|  7.214259392E8|  7.954493324E8|  1.029048482E9|  1.106928583E9|  1.210013652E9|  1.007025755E9|  1.017549124E9|  1.178738991E9|  1.223945357E9|  1.180597273E9|  1.211932398E9|  1.239876305E9|  1.434429703E9|  1.496912752E9|  1.733116883E9|  2.398645598E9|    2.9356593E9|  3.255789081E9|  3.543256806E9|  4.016972351E9|  4.007353157E9|  3.660530703E9|  3.355695364E9|   3.44206283E9|  3.164615187E9|  3.281585236E9|  3.350736367E9|  2.811489409E9|  2.877311947E9|  3.012914131E9|\n",
            "|          Arab World|         ARB|           null|           null|           null|           null|           null|           null|           null|           null|2.5760683041E10|2.8434203615E10|3.1385499664E10|3.6426909888E10|4.3316056615E10|5.5018394945E10|        1.05E11|        1.16E11|        1.45E11|        1.67E11|        1.84E11|        2.49E11|        3.38E11|        3.49E11|        3.24E11|        3.04E11|        3.08E11|        3.04E11|        2.89E11|        3.13E11|        3.08E11|        3.22E11|        4.47E11|         4.4E11|        4.71E11|        4.77E11|        4.88E11|        5.24E11|        5.78E11|        6.13E11|        5.92E11|        6.44E11|        7.35E11|        7.23E11|        7.29E11|        8.23E11|        9.64E11|        1.18E12|         1.4E12|        1.64E12|        2.08E12|         1.8E12|        2.11E12|         2.5E12|        2.79E12|        2.87E12|        2.91E12|        2.55E12|         2.5E12|        2.59E12|\n",
            "|United Arab Emirates|         ARE|           null|           null|           null|           null|           null|           null|           null|           null|           null|           null|           null|           null|           null|           null|           null|1.4720672507E10|1.9213022691E10|2.4871775165E10|2.3775831783E10|3.1225463218E10|4.3598748449E10|4.9333424135E10|4.6622718605E10|4.2803323345E10|4.1807954236E10|4.0603650232E10|3.3943612095E10|3.6384908744E10|3.6275674203E10|4.1464995914E10|5.0701443748E10|5.1552165622E10|5.4239171888E10|5.5625170253E10| 5.930509398E10|6.5743666576E10|7.3571233996E10|7.8839008445E10|7.5674336283E10|8.4445473111E10|        1.04E11|        1.03E11|         1.1E11|        1.24E11|        1.48E11|        1.81E11|        2.22E11|        2.58E11|        3.15E11|        2.54E11|         2.9E11|        3.51E11|        3.75E11|         3.9E11|        4.03E11|        3.58E11|        3.57E11|        3.83E11|\n",
            "|           Argentina|         ARG|           null|           null|           null|           null|           null|           null|           null|           null|           null|           null|           null| 1.664659977E10|2.7786400318E10|4.7289600372E10|6.5193099976E10|4.8505749703E10|5.1169498444E10|5.6780999756E10|5.8082870734E10|6.9252330274E10|7.6961921891E10|7.8676840049E10|8.4307484568E10|        1.04E11|      7.9092E10|8.8416666667E10|        1.11E11|        1.11E11|        1.26E11|7.6636898126E10|        1.41E11|         1.9E11|        2.29E11|        2.37E11|        2.57E11|        2.58E11|        2.72E11|        2.93E11|        2.99E11|        2.84E11|        2.84E11|        2.69E11|9.7724004252E10|        1.28E11|        1.65E11|        1.99E11|        2.33E11|        2.88E11|        3.62E11|        3.33E11|        4.24E11|         5.3E11|        5.46E11|        5.52E11|        5.26E11|        5.95E11|        5.55E11|        6.38E11|\n",
            "|             Armenia|         ARM|           null|           null|           null|           null|           null|           null|           null|           null|           null|           null|           null|           null|           null|           null|           null|           null|           null|           null|           null|           null|           null|           null|           null|           null|           null|           null|           null|           null|           null|           null|  2.256838858E9|   2.06987013E9|  1.272835453E9|  1.201312829E9|  1.315158637E9|  1.468317435E9|  1.596968946E9|  1.639492445E9|  1.893726437E9|  1.845482173E9|  1.911563669E9|  2.118467913E9|  2.376335048E9|  2.807061009E9|   3.57661524E9|   4.90046995E9|  6.384451606E9|    9.2063017E9|1.1662040714E10|  8.647936748E9|  9.260284938E9|1.0142111334E10|1.0619320049E10|1.1121465767E10| 1.160951294E10|1.0553337673E10| 1.054613516E10|1.1536590636E10|\n",
            "|      American Samoa|         ASM|           null|           null|           null|           null|           null|           null|           null|           null|           null|           null|           null|           null|           null|           null|           null|           null|           null|           null|           null|           null|           null|           null|           null|           null|           null|           null|           null|           null|           null|           null|           null|           null|           null|           null|           null|           null|           null|           null|           null|           null|           null|           null|         5.14E8|         5.27E8|         5.12E8|         5.03E8|         4.96E8|          5.2E8|         5.63E8|         6.78E8|         5.76E8|         5.74E8|         6.44E8|         6.41E8|         6.43E8|         6.59E8|         6.58E8|           null|\n",
            "| Antigua and Barbuda|         ATG|           null|           null|           null|           null|           null|           null|           null|           null|           null|           null|           null|           null|           null|           null|           null|           null|           null|  7.749674074E7|  8.787933333E7|   1.09079963E8|   1.31431037E8|  1.478417407E8|  1.643692963E8|  1.821441111E8|  2.083728519E8|  2.409239259E8|  2.904401481E8|  3.371748519E8|  3.986377407E8|  4.387947778E8|  4.594690741E8|  4.817063333E8|  4.992811481E8|  5.351727778E8|  5.894295926E8|  5.772807407E8|  6.337306296E8|  6.806171111E8|  7.278605926E8|  7.661989259E8|  8.301587778E8|  8.007402593E8|  8.146153333E8|  8.556431111E8|  9.195771481E8|  1.022191296E9|  1.157005444E9|  1.311401333E9|  1.368431037E9|     1.224253E9|  1.152469074E9|  1.142042926E9|  1.211411704E9|  1.192925407E9|  1.280133333E9|  1.364863037E9|  1.460144704E9|  1.532397556E9|\n",
            "|           Australia|         AUS|1.8573188487E10| 1.964833688E10|1.9888005376E10|2.1501847911E10| 2.375853959E10|2.5931235301E10|2.7261731437E10|3.0389741292E10|3.2657632434E10| 3.662000224E10|4.1261059469E10|4.5138313361E10|5.1954439252E10|6.3721973094E10|8.8809137804E10|9.7147343985E10|        1.05E11|         1.1E11|        1.18E11|        1.35E11|         1.5E11|        1.77E11|        1.94E11|        1.77E11|        1.93E11|         1.8E11|        1.82E11|        1.89E11|        2.36E11|        2.99E11|        3.11E11|        3.25E11|        3.25E11|        3.12E11|        3.22E11|        3.67E11|         4.0E11|        4.35E11|        3.99E11|        3.88E11|        4.15E11|        3.78E11|        3.94E11|        4.66E11|        6.12E11|        6.93E11|        7.46E11|        8.52E11|        1.05E12|        9.26E11|        1.14E12|        1.39E12|        1.54E12|        1.57E12|        1.46E12|        1.35E12|        1.21E12|        1.32E12|\n",
            "|             Austria|         AUT|  6.592693841E9|  7.311749633E9|   7.75611021E9|  8.374175258E9|  9.169983886E9|  9.994070616E9|1.0887682273E10|1.1579431669E10|1.2440625313E10|1.3582798556E10|1.5373005769E10|1.7858485957E10|2.2059612417E10|2.9515467988E10|3.5189299985E10|4.0059206763E10|4.2959976068E10|5.1545759221E10|6.2052258694E10|7.3937296655E10|8.2058912465E10|7.1034228097E10|7.1275287328E10|7.2121016623E10|6.7985345162E10|6.9386774475E10| 9.903616521E10|        1.24E11|        1.33E11|        1.33E11|        1.66E11|        1.74E11|        1.95E11|         1.9E11|        2.04E11|        2.41E11|        2.37E11|        2.13E11|        2.18E11|        2.17E11|        1.97E11|        1.97E11|        2.13E11|        2.62E11|        3.01E11|        3.16E11|        3.36E11|        3.89E11|         4.3E11|         4.0E11|        3.92E11|        4.31E11|        4.09E11|         4.3E11|        4.42E11|        3.82E11|        3.91E11|        4.17E11|\n",
            "|          Azerbaijan|         AZE|           null|           null|           null|           null|           null|           null|           null|           null|           null|           null|           null|           null|           null|           null|           null|           null|           null|           null|           null|           null|           null|           null|           null|           null|           null|           null|           null|           null|           null|           null|  8.858006042E9|        5.344E9|       4.8201E9|  3.976759494E9|  3.312797524E9|  3.052646638E9|  3.176749593E9|  3.962710163E9|  4.446394417E9|  4.581407767E9|  5.272798391E9|  5.707720391E9|  6.235795104E9|  7.276013032E9|  8.680472169E9|1.3245716099E10|2.0982986344E10|3.3050343783E10| 4.885248296E10|4.4291490421E10|5.2902703376E10|  6.59516272E10|6.9683935845E10|7.4164435946E10|7.5244294275E10|5.3074370486E10|3.7867518957E10|4.0747792238E10|\n",
            "|             Burundi|         BDI|    1.9599999E8|   2.02999992E8|   2.13500006E8|   2.32749998E8|   2.60750008E8|   1.58994963E8|  1.654445714E8|  1.782971429E8|        1.832E8|  1.902057143E8|  2.427325714E8|  2.528422857E8|  2.468045714E8|  3.043398396E8|  3.452634921E8|  4.209866667E8|  4.484127536E8|  5.475355556E8|  6.102255556E8|  7.824966667E8|  9.197266667E8|  9.690466667E8|  1.013222222E9|  1.082926304E9|  9.871439312E8|  1.149979286E9|  1.201725497E9|  1.131466494E9|  1.082403219E9|   1.11392413E9|  1.132101253E9|  1.167398478E9|  1.083037671E9|   9.38632612E8|  9.250305902E8|  1.000428394E9|  8.690338563E8|  9.728962679E8|  8.937708061E8|  8.080772234E8|  8.704860659E8|  8.767947231E8|  8.253944902E8|  7.846544236E8|  9.152573234E8|  1.117257279E9|  1.273180597E9|  1.356078278E9|  1.611634332E9|  1.739781489E9|  2.026864469E9|  2.355652126E9|  2.472384907E9|  2.714505635E9|  3.093647227E9|  3.066681387E9|   3.00702903E9|  3.477502178E9|\n",
            "|             Belgium|         BEL|1.1658722591E10|1.2400145222E10|1.3264015675E10|1.4260017387E10|1.5960106681E10|1.7371457608E10|1.8651883472E10|1.9992040788E10|2.1376353113E10|2.3710735895E10|2.6849148286E10|2.9981290025E10| 3.740859133E10|4.7999363072E10| 5.633301046E10|6.6029748931E10|7.1494539498E10|8.3283328419E10|        1.02E11|        1.17E11|        1.28E11|        1.05E11| 9.258889502E10|8.7650915976E10|8.3795680815E10|8.6730038793E10|        1.21E11|         1.5E11|        1.63E11|        1.65E11|        2.06E11|        2.12E11|        2.36E11|        2.26E11|        2.46E11|         2.9E11|        2.81E11|        2.55E11|        2.61E11|         2.6E11|        2.38E11|        2.38E11|        2.59E11|        3.19E11|        3.71E11|        3.87E11|         4.1E11|        4.72E11|        5.19E11|        4.85E11|        4.84E11|        5.27E11|        4.98E11|        5.21E11|        5.31E11|        4.55E11|        4.68E11|        4.93E11|\n",
            "|               Benin|         BEN|  2.261955794E8|  2.356682224E8|  2.364349068E8|  2.539276465E8|  2.698189883E8|  2.899087206E8|  3.029252808E8|  3.062220004E8|  3.263230974E8|  3.307482115E8|  3.336277582E8|  3.350729752E8|   4.10331901E8|  5.043760357E8|   5.54654787E8|  6.768701403E8|  6.984082444E8|  7.500497392E8|  9.288433048E8|  1.186231265E9|  1.405251547E9|  1.291119965E9|  1.267778489E9|  1.095348303E9|  1.051133927E9|  1.045712703E9|  1.336102041E9|   1.56241203E9|  1.620246187E9|  1.502294411E9|  1.959965244E9|   1.98643786E9|  1.695315306E9|  2.274557914E9|  1.598075932E9|  2.169627251E9|  2.361116588E9|  2.268301538E9|  2.455092582E9|  2.689787918E9|  2.569186643E9|  2.680213931E9|  3.054571082E9|  3.905366188E9|  4.521424807E9|  4.803702821E9|  5.142380779E9|  5.969535132E9|  7.132787397E9|  7.097198712E9|  6.970240895E9|  7.814081156E9|  8.152554487E9|   9.15735568E9|  9.707432016E9|  8.291155881E9|  8.573159697E9|  9.273558272E9|\n",
            "|        Burkina Faso|         BFA|  3.304428172E8|  3.502472371E8|  3.795671783E8|  3.940407491E8|  4.103217856E8|  4.229168484E8|  4.338898316E8|  4.507539932E8|  4.604428642E8|  4.782987815E8|  4.584043301E8|   4.82411279E8|   5.78595584E8|  6.747738212E8|  7.511336426E8|  9.399727035E8|  9.765475722E8|  1.131225279E9|  1.475584037E9|  1.748480982E9|   1.92872039E9|   1.77584268E9|  1.754450379E9|  1.600278756E9|  1.459880353E9|  1.552493414E9|  2.036303381E9|  2.369835439E9|  2.616040646E9|  2.615588546E9|  3.101301781E9|  3.135045684E9|  2.240264712E9|  2.332018011E9|  1.895290965E9|  2.379518099E9|  2.586550747E9|  2.447669404E9|  2.804902724E9|  2.993753187E9|  2.628920056E9|  2.812845514E9|   3.20559229E9|  4.205691222E9|    4.8385511E9|  5.462709498E9|  5.816310158E9|  6.771277871E9|  8.369637065E9|  8.369175126E9|  8.979966766E9|1.0724063458E10|1.1166063467E10|1.1947176342E10|1.2377391463E10|1.0419303761E10|1.1448781714E10|  1.28731148E10|\n",
            "|          Bangladesh|         BGD|  4.274893913E9|  4.817580184E9|   5.08141334E9|  5.319458351E9|  5.386054619E9|  5.906636557E9|  6.439687598E9|  7.253575399E9|  7.483685474E9|  8.471006101E9|  8.992721809E9|   8.75184284E9|  6.288245867E9|  8.086725729E9| 1.251246052E10|1.9448348073E10|1.0117113333E10|  9.651149302E9|1.3281767143E10|1.5565480322E10|1.8138049096E10|2.0249694002E10|1.8525399202E10|1.7609048822E10|    1.892084E10|2.2278423077E10|2.1774033333E10|2.4298032258E10| 2.657900576E10|2.8781714764E10|3.1598341234E10| 3.095748395E10|3.1708874594E10|3.3166519418E10|3.3768660883E10|3.7939748769E10|4.6438484108E10|4.8244309133E10|4.9984559471E10|5.1270569884E10|5.3369787319E10|5.3991289844E10|5.4724081491E10|6.0158929188E10| 6.510854425E10|6.9442943089E10|7.1819083684E10|7.9611888213E10|9.1631278239E10|        1.02E11|        1.15E11|        1.29E11|        1.33E11|         1.5E11|        1.73E11|        1.95E11|        2.21E11|         2.5E11|\n",
            "|            Bulgaria|         BGR|           null|           null|           null|           null|           null|           null|           null|           null|           null|           null|           null|           null|           null|           null|           null|           null|           null|           null|           null|           null|1.9839230769E10|       1.987E10|      1.9342E10|1.6563666667E10|1.7594944444E10|1.7155421053E10|2.0249294118E10|      2.8101E10|2.2555941176E10|2.1988444444E10|2.0632090909E10|1.0943548387E10|1.0350515464E10|1.0829710145E10|  9.697416974E9|1.3063422619E10|1.0109612142E10|1.1195612105E10|1.4630992956E10|1.3495075366E10|1.3153016531E10|1.4075616789E10|1.6276456428E10|2.0982685981E10|2.5957970922E10| 2.963661775E10|3.4130122491E10|4.4411476557E10|5.4409138498E10| 5.188448141E10| 5.061005821E10|5.7418414504E10|5.3903022339E10|5.5758754072E10|5.6731990232E10|5.0199104511E10|5.3240893665E10|5.6831518294E10|\n",
            "+--------------------+------------+---------------+---------------+---------------+---------------+---------------+---------------+---------------+---------------+---------------+---------------+---------------+---------------+---------------+---------------+---------------+---------------+---------------+---------------+---------------+---------------+---------------+---------------+---------------+---------------+---------------+---------------+---------------+---------------+---------------+---------------+---------------+---------------+---------------+---------------+---------------+---------------+---------------+---------------+---------------+---------------+---------------+---------------+---------------+---------------+---------------+---------------+---------------+---------------+---------------+---------------+---------------+---------------+---------------+---------------+---------------+---------------+---------------+---------------+\n",
            "only showing top 20 rows\n",
            "\n"
          ]
        }
      ]
    },
    {
      "cell_type": "code",
      "source": [
        "# select the years from the past two decades.\n",
        "Country_GDPdecade_df = Country_GDP_df.select(\"country_name\",\"country_code\",\"2000\",\"2001\",\"2002\",\"2003\",\"2004\",\"2005\",\"2006\",\"2007\",\"2008\",\"2009\",\"2010\",\"2011\",\n",
        "                                          \"2012\",\"2013\",\"2014\",\"2015\",\"2016\",\"2017\")\n",
        "Country_GDPdecade_df.show()\n",
        "\n",
        "# country_demo_gdp_df = Country_GDPdecade_df.toPandas()\n",
        "country_demo_gdp_df = Country_GDPdecade_df.toPandas()\n",
        "\n",
        "country_demo_gdp_df.to_csv('test.csv')\n"
      ],
      "metadata": {
        "id": "b-YBNPXJEz_a",
        "colab": {
          "base_uri": "https://localhost:8080/"
        },
        "outputId": "42093a3e-50bc-460f-b053-6ba33d165d76"
      },
      "execution_count": 11,
      "outputs": [
        {
          "output_type": "stream",
          "name": "stdout",
          "text": [
            "+--------------------+------------+---------------+---------------+---------------+---------------+---------------+---------------+---------------+---------------+---------------+---------------+---------------+---------------+---------------+---------------+---------------+---------------+---------------+---------------+\n",
            "|        country_name|country_code|           2000|           2001|           2002|           2003|           2004|           2005|           2006|           2007|           2008|           2009|           2010|           2011|           2012|           2013|           2014|           2015|           2016|           2017|\n",
            "+--------------------+------------+---------------+---------------+---------------+---------------+---------------+---------------+---------------+---------------+---------------+---------------+---------------+---------------+---------------+---------------+---------------+---------------+---------------+---------------+\n",
            "|               Aruba|         ABW|  1.873452514E9|   1.92026257E9|  1.941094972E9|  2.021301676E9|   2.22827933E9|  2.331005587E9|   2.42147486E9|  2.623726257E9|  2.791960894E9|  2.498932961E9|  2.467703911E9|  2.584463687E9|           null|           null|           null|           null|           null|           null|\n",
            "|         Afghanistan|         AFG|           null|  2.461665938E9|  4.128820723E9|  4.583644246E9|  5.285465686E9|  6.275073572E9|  7.057598407E9|  9.843842455E9|1.0190529882E10|1.2486943506E10|1.5936800636E10|  1.79302394E10|2.0536542737E10|2.0264253974E10|2.0616104298E10|1.9215562179E10|1.9469022208E10| 2.081530022E10|\n",
            "|              Angola|         AGO|  9.129634978E9|  8.936063723E9|1.2497347956E10|1.4188949398E10|1.9640853734E10|2.8233712738E10|4.1789479932E10|6.0448924662E10|8.4178035579E10|7.5492385928E10|8.2526143645E10|        1.04E11|        1.14E11|        1.25E11|        1.27E11|        1.03E11|9.5337203468E10|        1.24E11|\n",
            "|             Albania|         ALB|  3.632043908E9|  4.060758804E9|  4.435078648E9|  5.746945913E9|  7.314865176E9|  8.158548717E9|  8.992642349E9|1.0701011897E10|1.2881352688E10|1.2044212904E10|1.1926953259E10|1.2890867539E10|1.2319784787E10|1.2776277515E10|1.3228244357E10| 1.138693149E10|1.1883682171E10|1.3039352744E10|\n",
            "|             Andorra|         AND|  1.434429703E9|  1.496912752E9|  1.733116883E9|  2.398645598E9|    2.9356593E9|  3.255789081E9|  3.543256806E9|  4.016972351E9|  4.007353157E9|  3.660530703E9|  3.355695364E9|   3.44206283E9|  3.164615187E9|  3.281585236E9|  3.350736367E9|  2.811489409E9|  2.877311947E9|  3.012914131E9|\n",
            "|          Arab World|         ARB|        7.35E11|        7.23E11|        7.29E11|        8.23E11|        9.64E11|        1.18E12|         1.4E12|        1.64E12|        2.08E12|         1.8E12|        2.11E12|         2.5E12|        2.79E12|        2.87E12|        2.91E12|        2.55E12|         2.5E12|        2.59E12|\n",
            "|United Arab Emirates|         ARE|        1.04E11|        1.03E11|         1.1E11|        1.24E11|        1.48E11|        1.81E11|        2.22E11|        2.58E11|        3.15E11|        2.54E11|         2.9E11|        3.51E11|        3.75E11|         3.9E11|        4.03E11|        3.58E11|        3.57E11|        3.83E11|\n",
            "|           Argentina|         ARG|        2.84E11|        2.69E11|9.7724004252E10|        1.28E11|        1.65E11|        1.99E11|        2.33E11|        2.88E11|        3.62E11|        3.33E11|        4.24E11|         5.3E11|        5.46E11|        5.52E11|        5.26E11|        5.95E11|        5.55E11|        6.38E11|\n",
            "|             Armenia|         ARM|  1.911563669E9|  2.118467913E9|  2.376335048E9|  2.807061009E9|   3.57661524E9|   4.90046995E9|  6.384451606E9|    9.2063017E9|1.1662040714E10|  8.647936748E9|  9.260284938E9|1.0142111334E10|1.0619320049E10|1.1121465767E10| 1.160951294E10|1.0553337673E10| 1.054613516E10|1.1536590636E10|\n",
            "|      American Samoa|         ASM|           null|           null|         5.14E8|         5.27E8|         5.12E8|         5.03E8|         4.96E8|          5.2E8|         5.63E8|         6.78E8|         5.76E8|         5.74E8|         6.44E8|         6.41E8|         6.43E8|         6.59E8|         6.58E8|           null|\n",
            "| Antigua and Barbuda|         ATG|  8.301587778E8|  8.007402593E8|  8.146153333E8|  8.556431111E8|  9.195771481E8|  1.022191296E9|  1.157005444E9|  1.311401333E9|  1.368431037E9|     1.224253E9|  1.152469074E9|  1.142042926E9|  1.211411704E9|  1.192925407E9|  1.280133333E9|  1.364863037E9|  1.460144704E9|  1.532397556E9|\n",
            "|           Australia|         AUS|        4.15E11|        3.78E11|        3.94E11|        4.66E11|        6.12E11|        6.93E11|        7.46E11|        8.52E11|        1.05E12|        9.26E11|        1.14E12|        1.39E12|        1.54E12|        1.57E12|        1.46E12|        1.35E12|        1.21E12|        1.32E12|\n",
            "|             Austria|         AUT|        1.97E11|        1.97E11|        2.13E11|        2.62E11|        3.01E11|        3.16E11|        3.36E11|        3.89E11|         4.3E11|         4.0E11|        3.92E11|        4.31E11|        4.09E11|         4.3E11|        4.42E11|        3.82E11|        3.91E11|        4.17E11|\n",
            "|          Azerbaijan|         AZE|  5.272798391E9|  5.707720391E9|  6.235795104E9|  7.276013032E9|  8.680472169E9|1.3245716099E10|2.0982986344E10|3.3050343783E10| 4.885248296E10|4.4291490421E10|5.2902703376E10|  6.59516272E10|6.9683935845E10|7.4164435946E10|7.5244294275E10|5.3074370486E10|3.7867518957E10|4.0747792238E10|\n",
            "|             Burundi|         BDI|  8.704860659E8|  8.767947231E8|  8.253944902E8|  7.846544236E8|  9.152573234E8|  1.117257279E9|  1.273180597E9|  1.356078278E9|  1.611634332E9|  1.739781489E9|  2.026864469E9|  2.355652126E9|  2.472384907E9|  2.714505635E9|  3.093647227E9|  3.066681387E9|   3.00702903E9|  3.477502178E9|\n",
            "|             Belgium|         BEL|        2.38E11|        2.38E11|        2.59E11|        3.19E11|        3.71E11|        3.87E11|         4.1E11|        4.72E11|        5.19E11|        4.85E11|        4.84E11|        5.27E11|        4.98E11|        5.21E11|        5.31E11|        4.55E11|        4.68E11|        4.93E11|\n",
            "|               Benin|         BEN|  2.569186643E9|  2.680213931E9|  3.054571082E9|  3.905366188E9|  4.521424807E9|  4.803702821E9|  5.142380779E9|  5.969535132E9|  7.132787397E9|  7.097198712E9|  6.970240895E9|  7.814081156E9|  8.152554487E9|   9.15735568E9|  9.707432016E9|  8.291155881E9|  8.573159697E9|  9.273558272E9|\n",
            "|        Burkina Faso|         BFA|  2.628920056E9|  2.812845514E9|   3.20559229E9|  4.205691222E9|    4.8385511E9|  5.462709498E9|  5.816310158E9|  6.771277871E9|  8.369637065E9|  8.369175126E9|  8.979966766E9|1.0724063458E10|1.1166063467E10|1.1947176342E10|1.2377391463E10|1.0419303761E10|1.1448781714E10|  1.28731148E10|\n",
            "|          Bangladesh|         BGD|5.3369787319E10|5.3991289844E10|5.4724081491E10|6.0158929188E10| 6.510854425E10|6.9442943089E10|7.1819083684E10|7.9611888213E10|9.1631278239E10|        1.02E11|        1.15E11|        1.29E11|        1.33E11|         1.5E11|        1.73E11|        1.95E11|        2.21E11|         2.5E11|\n",
            "|            Bulgaria|         BGR|1.3153016531E10|1.4075616789E10|1.6276456428E10|2.0982685981E10|2.5957970922E10| 2.963661775E10|3.4130122491E10|4.4411476557E10|5.4409138498E10| 5.188448141E10| 5.061005821E10|5.7418414504E10|5.3903022339E10|5.5758754072E10|5.6731990232E10|5.0199104511E10|5.3240893665E10|5.6831518294E10|\n",
            "+--------------------+------------+---------------+---------------+---------------+---------------+---------------+---------------+---------------+---------------+---------------+---------------+---------------+---------------+---------------+---------------+---------------+---------------+---------------+---------------+\n",
            "only showing top 20 rows\n",
            "\n"
          ]
        }
      ]
    },
    {
      "cell_type": "code",
      "source": [
        "#Perform the aggregation of each country GDP row wise.\n",
        "\n",
        "from pyspark.sql.functions import mean as _mean, stddev as _stddev, col\n",
        "\n",
        "total_cols = len(Country_GDPdecade_df.columns)\n",
        "total_cols = total_cols -2 \n",
        "rowMean  = (sum(col(year) for year in Country_GDPdecade_df.columns[2:]) /total_cols )\n",
        "rowMean\n",
        "Country_GDP_mean_df = Country_GDPdecade_df.select(\n",
        "    [\"country_name\",rowMean.alias(\"GDP\")]\n",
        "    # _stddev(col('columnName')).alias('std')\n",
        ")\n",
        "Country_GDP_mean_df.printSchema()\n",
        "Country_GDP_mean_df.show(20)"
      ],
      "metadata": {
        "id": "TgTGIyi9Flb0",
        "colab": {
          "base_uri": "https://localhost:8080/"
        },
        "outputId": "ebd3d571-1101-41f6-e26c-3fed63da2f14"
      },
      "execution_count": 12,
      "outputs": [
        {
          "output_type": "stream",
          "name": "stdout",
          "text": [
            "root\n",
            " |-- country_name: string (nullable = true)\n",
            " |-- GDP: double (nullable = true)\n",
            "\n",
            "+--------------------+--------------------+\n",
            "|        country_name|                 GDP|\n",
            "+--------------------+--------------------+\n",
            "|               Aruba|                null|\n",
            "|         Afghanistan|                null|\n",
            "|              Angola|6.829992976338888...|\n",
            "|             Albania|       9.856641937E9|\n",
            "|             Andorra|2.9877264891666665E9|\n",
            "|          Arab World|1.827444444444444...|\n",
            "|United Arab Emirates|2.625555555555555...|\n",
            "|           Argentina|    3.73595778014E11|\n",
            "|             Armenia| 7.721111227444445E9|\n",
            "|      American Samoa|                null|\n",
            "| Antigua and Barbuda| 1.146689137811111E9|\n",
            "|           Australia|9.728888888888889E11|\n",
            "|             Austria|3.519444444444444...|\n",
            "|          Azerbaijan|3.684624983427778E10|\n",
            "|             Burundi|1.8658214422333333E9|\n",
            "|             Belgium|4.263888888888889E11|\n",
            "|               Benin| 6.378661420888889E9|\n",
            "|        Burkina Faso|      7.9120317595E9|\n",
            "|          Bangladesh|1.148809902953888...|\n",
            "|            Bulgaria|4.108951884355556E10|\n",
            "+--------------------+--------------------+\n",
            "only showing top 20 rows\n",
            "\n"
          ]
        }
      ]
    },
    {
      "cell_type": "markdown",
      "source": [
        "### Perform inner join between the two dataframes grouping by country_name.\n",
        "### Avoid creating the duplicate columns."
      ],
      "metadata": {
        "id": "OQ50iNLPPYL0"
      }
    },
    {
      "cell_type": "code",
      "source": [
        "\n",
        "\n",
        "CountryDemographics_clean_df =CountryDemographics.join(Country_GDP_mean_df,['country_name'])\n",
        "CountryDemographics_clean_df.printSchema()\n",
        "\n",
        "CountryDemographics_clean_df.show()\n"
      ],
      "metadata": {
        "id": "WwVYKGYaK-nG",
        "colab": {
          "base_uri": "https://localhost:8080/"
        },
        "outputId": "d6a3f3c3-acfd-4fac-cbad-a3240f454c9a"
      },
      "execution_count": 13,
      "outputs": [
        {
          "output_type": "stream",
          "name": "stdout",
          "text": [
            "root\n",
            " |-- country_name: string (nullable = true)\n",
            " |-- country_code: string (nullable = true)\n",
            " |-- latitude: double (nullable = true)\n",
            " |-- longitude: double (nullable = true)\n",
            " |-- GDP: double (nullable = true)\n",
            "\n",
            "+--------------------+------------+----------+-----------+--------------------+\n",
            "|        country_name|country_code|  latitude|  longitude|                 GDP|\n",
            "+--------------------+------------+----------+-----------+--------------------+\n",
            "|             Andorra|          AD| 42.546245|   1.601554|2.9877264891666665E9|\n",
            "|United Arab Emirates|          AE| 23.424076|  53.847818|2.625555555555555...|\n",
            "|         Afghanistan|          AF|  33.93911|  67.709953|                null|\n",
            "| Antigua and Barbuda|          AG| 17.060816| -61.796428| 1.146689137811111E9|\n",
            "|             Albania|          AL| 41.153332|  20.168331|       9.856641937E9|\n",
            "|             Armenia|          AM| 40.069099|  45.038189| 7.721111227444445E9|\n",
            "|              Angola|          AO|-11.202692|  17.873887|6.829992976338888...|\n",
            "|           Argentina|          AR|-38.416097| -63.616672|    3.73595778014E11|\n",
            "|      American Samoa|          AS|-14.270972|-170.132217|                null|\n",
            "|             Austria|          AT| 47.516231|  14.550072|3.519444444444444...|\n",
            "|           Australia|          AU|-25.274398| 133.775136|9.728888888888889E11|\n",
            "|               Aruba|          AW|  12.52111| -69.968338|                null|\n",
            "|          Azerbaijan|          AZ| 40.143105|  47.576927|3.684624983427778E10|\n",
            "|Bosnia and Herzeg...|          BA| 43.915886|  17.679076|1.410934979711111E10|\n",
            "|            Barbados|          BB| 13.193887| -59.543198|4.1564303322777777E9|\n",
            "|          Bangladesh|          BD| 23.684994|  90.356331|1.148809902953888...|\n",
            "|             Belgium|          BE| 50.503887|   4.469936|4.263888888888889E11|\n",
            "|        Burkina Faso|          BF| 12.238333|  -1.561593|      7.9120317595E9|\n",
            "|            Bulgaria|          BG| 42.733883|   25.48583|4.108951884355556E10|\n",
            "|             Bahrain|          BH| 25.930414|  50.637772|2.258340196516666...|\n",
            "+--------------------+------------+----------+-----------+--------------------+\n",
            "only showing top 20 rows\n",
            "\n"
          ]
        }
      ]
    },
    {
      "cell_type": "markdown",
      "source": [
        "### Check the summary of all the dataframes so far created."
      ],
      "metadata": {
        "id": "giQKPaxkPM4x"
      }
    },
    {
      "cell_type": "code",
      "source": [
        "Country_GDP_df.summary().show()\n",
        "CountryDemographics.summary().show()\n",
        "\n",
        "CountryDemographics_clean_df.summary().show()\n",
        "CountryDemographics_clean_df = CountryDemographics_clean_df.dropna()\n",
        "\n",
        "df = CountryDemographics_clean_df.toPandas()\n",
        "df.to_csv(\"CountryDemographics.csv\")"
      ],
      "metadata": {
        "colab": {
          "base_uri": "https://localhost:8080/"
        },
        "id": "2ob7ZLciLqie",
        "outputId": "f016b42f-7e95-4e10-f0ea-d57e83a54d94"
      },
      "execution_count": 14,
      "outputs": [
        {
          "output_type": "stream",
          "name": "stdout",
          "text": [
            "+-------+------------+------------+--------------------+--------------------+--------------------+--------------------+--------------------+--------------------+--------------------+--------------------+--------------------+--------------------+--------------------+--------------------+--------------------+--------------------+--------------------+--------------------+--------------------+--------------------+--------------------+--------------------+--------------------+--------------------+--------------------+--------------------+--------------------+--------------------+--------------------+--------------------+--------------------+--------------------+--------------------+--------------------+--------------------+--------------------+--------------------+--------------------+--------------------+--------------------+--------------------+--------------------+--------------------+--------------------+--------------------+--------------------+--------------------+--------------------+--------------------+--------------------+--------------------+--------------------+--------------------+--------------------+--------------------+--------------------+--------------------+--------------------+--------------------+--------------------+\n",
            "|summary|country_name|country_code|                1960|                1961|                1962|                1963|                1964|                1965|                1966|                1967|                1968|                1969|                1970|                1971|                1972|                1973|                1974|                1975|                1976|                1977|                1978|                1979|                1980|                1981|                1982|                1983|                1984|                1985|                1986|                1987|                1988|                1989|                1990|                1991|                1992|                1993|                1994|                1995|                1996|                1997|                1998|                1999|                2000|                2001|                2002|                2003|                2004|                2005|                2006|                2007|                2008|                2009|                2010|                2011|                2012|                2013|                2014|                2015|                2016|                2017|\n",
            "+-------+------------+------------+--------------------+--------------------+--------------------+--------------------+--------------------+--------------------+--------------------+--------------------+--------------------+--------------------+--------------------+--------------------+--------------------+--------------------+--------------------+--------------------+--------------------+--------------------+--------------------+--------------------+--------------------+--------------------+--------------------+--------------------+--------------------+--------------------+--------------------+--------------------+--------------------+--------------------+--------------------+--------------------+--------------------+--------------------+--------------------+--------------------+--------------------+--------------------+--------------------+--------------------+--------------------+--------------------+--------------------+--------------------+--------------------+--------------------+--------------------+--------------------+--------------------+--------------------+--------------------+--------------------+--------------------+--------------------+--------------------+--------------------+--------------------+--------------------+\n",
            "|  count|         264|         264|                 124|                 124|                 125|                 125|                 125|                 136|                 137|                 141|                 145|                 145|                 153|                 155|                 155|                 155|                 156|                 160|                 161|                 165|                 164|                 165|                 177|                 181|                 187|                 188|                 190|                 192|                 194|                 198|                 200|                 204|                 220|                 214|                 217|                 222|                 227|                 236|                 237|                 236|                 238|                 239|                 245|                 245|                 249|                 249|                 250|                 250|                 251|                 251|                 249|                 249|                 249|                 250|                 247|                 248|                 247|                 246|                 241|                 234|\n",
            "|   mean|        null|        null| 7.07412067373883E10|7.352259259398033E10|7.801655035201018E10|8.452491523422015E10|9.299525801600208E10| 9.74279962240828E10|1.043055269476771E11|1.108074198002735...|1.160375783891633E11|1.277620812492431...|1.348141343904909E11|1.468457555084033...|1.698380216742397E11|2.079481859867528...|2.392229822875758...|2.613912843575160...| 2.80307716929098E11|3.090100320262400...|3.640058397460661...|4.240087239591538E11|4.498656924450055E11|4.476584579528312E11|4.446356397103100...|4.544820775315530...|4.623133713359328E11|4.805707518572038...|5.605218870985415E11|6.234973223717042E11|6.879085128883981E11|7.195736430611178E11|7.568708405930721E11|8.220721460456387E11|8.573140457079364E11|8.523713199705884E11|8.959345535809397E11|9.614484822013643E11|9.871426766049955E11|9.900644645592249E11| 9.79095221849315E11|1.000366915133764...|1.008915312791012...|1.006307184799274...|1.031487682902196...|1.165316257184740...|1.318324998217118...|1.442375911369915...|1.576633411266284...|1.806473953404997...|2.028965344642881...|1.924556598890179E12|2.140275719112341...|2.394449599550597E12|2.489431813651001...|2.568772001516303E12|2.653540751918126E12|2.505532950964263E12|2.586349987511795...|2.847698012785494...|\n",
            "| stddev|        null|        null|2.186629266758900...|2.294491323022712...|2.461077972347330...|2.652890135817339E11|2.902428085130213...|3.050385876040982...|3.313321184414869E11|3.503270808382029...|3.735816999334997E11| 4.09771640064603E11|4.388180249175625E11|4.829698659152474E11|5.593916248772479E11|6.781497508750764E11|7.658638440407777E11|8.468847786169463E11|9.142898527587418E11|1.021255111164780...|1.216831282926778...|1.409563056681977E12|1.527804979619266...|1.533982754137373...|1.492096514105221...|1.540077663226093E12|1.592200173845466...|1.669342257706513E12|1.993941706975258...|2.271858629414041E12|2.533135973125943...|2.626065490876232...|2.859227530658133E12|3.066120164385193...|3.260573419053776...|3.253921224876998...|3.455451177392850...|3.760916187382360...|3.814923223499987...|3.779592051776435...|3.777739283878290...|3.923453197793505...|3.975945848003061...|3.950411101940968...|4.082675476165400...|4.588665299349187...|5.131427390009786E12|5.489476374722526E12|5.874925393783766E12|6.565171526542305E12|7.159463757233407E12|6.764025749039669E12|7.328020583439266E12|8.092282024592933E12| 8.29897805507382E12|8.521827752095883E12|8.765280405030904E12|8.319551572305113E12|8.527210716043028E12| 9.17736953371218E12|\n",
            "|    min| Afghanistan|         ABW|       1.201202525E7|       1.159202436E7|         9122751.453|       1.084009513E7|        1.27124714E7|       1.359393232E7|       1.446907818E7|       1.583517793E7|              1.46E7|             1.585E7|       1.429527954E7|       1.527863248E7|       1.893652695E7|       2.419601838E7|       3.151485631E7|       3.250674172E7|       3.003641696E7|       3.413938789E7|       4.156747167E7|       4.262016544E7|       3.871555454E7|             3.102E7|            3.4918E7|       3.783783784E7|        4.12461606E7|        3.21251484E7|        3.20855615E7|       3.360873827E7|        4.29721072E7|       4.111972165E7|          8824447.74|         9365165.914|         9742949.471|         9630762.954|       1.088682556E7|       1.102594514E7|       1.233484623E7|       1.270090545E7|       1.275763287E7|       1.368714111E7|       1.374205705E7|       1.319654495E7|       1.545099424E7|       1.823107854E7|       2.153493161E7|       2.183909889E7|       2.290286145E7|       2.043274211E7|       3.029021976E7|       2.710107628E7|       3.182351862E7|       3.871182775E7|       3.767173483E7|       3.750912207E7|        3.72905875E7|       3.555603882E7|       3.657261189E7|        3.97313173E7|\n",
            "|    25%|        null|        null|       4.495268726E8|       4.857852317E8|       4.791808243E8|       5.119021368E8|       5.425783672E8|            5.0865E8|            5.4995E8|       4.515241246E8|       4.851608243E8|       5.512373166E8|       4.584043301E8|       4.300967384E8|       5.058925129E8|             6.709E8|       6.525327961E8|       8.646021033E8|       9.392279937E8|        8.27094668E8|       1.005573294E9|       1.215031775E9|            1.3353E9|       1.291119965E9|       1.286462643E9|        1.22318684E9|       1.354407509E9|       1.392195933E9|       1.661948718E9|       1.965274882E9|       2.143484488E9|        2.19109686E9|       2.550185618E9|       2.570833333E9|       2.257121668E9|       2.274557914E9|       2.151295182E9|       2.483809524E9|       2.786045322E9|       2.840182192E9|       2.934578789E9|       3.012081738E9|       2.904732773E9|       2.794259783E9|       3.019993739E9|       3.446442219E9|             3.857E9|             4.439E9|       4.663488363E9|       5.685988395E9|          6.109928E9|       5.832915387E9|       6.959697194E9|       7.627779125E9|       8.152554487E9|       8.506674783E9|       9.707432016E9|       8.724656126E9|       9.412034269E9|     1.1499803807E10|\n",
            "|    50%|        null|        null|       1.939329775E9|        2.06119546E9|       2.174966134E9|       2.510126748E9|       2.766608946E9|        2.68711827E9|       2.876395613E9|       3.046339295E9|       3.271415868E9|       3.651615453E9|       3.281713806E9|       3.880370402E9|       4.451200973E9|       5.134367778E9|       6.657346981E9|       7.731677257E9|            8.9686E9|             8.704E9|       9.275203106E9|       9.929682184E9|     1.0163020116E10|       8.661263764E9|              9.24E9|         8.6220001E9|         9.4700001E9|       9.721652087E9|        9.84860087E9|     1.0527338647E10|      1.025517046E10|     1.0207922517E10|     1.2175166763E10|     1.1341482445E10|      1.139631099E10|     1.3099013836E10|     1.2899156991E10|     1.3350468917E10|     1.3897738375E10|     1.4744603774E10|     1.4988971211E10|     1.5710148244E10|     1.3760374488E10|     1.3182979784E10|     1.4278357284E10|      1.719586754E10|     1.9640853734E10|     2.1287562189E10|     2.5825524821E10|     3.2351184234E10|     3.9136893345E10|     3.7440673478E10|     4.0284481652E10|     4.5810626509E10|     5.0388454861E10|     5.3851058955E10|     5.6731990232E10|     5.3074370486E10|     5.3240893665E10|     5.7057372468E10|\n",
            "|    75%|        null|        null|     1.4842870293E10|     1.5753280997E10|     1.6592539797E10|     1.8954132366E10|     2.1137242561E10|            2.184E10|            2.432E10|            2.656E10|     2.9143383491E10|     3.1649203886E10|            3.552E10|             3.92E10|             4.52E10|            5.528E10|     6.5193099976E10|     6.6029748931E10|     7.3287515056E10|     8.0600122701E10|     8.3214760812E10|             1.12E11|             1.01E11|             1.05E11|             1.28E11|             1.11E11|             1.08E11|             1.08E11|             1.21E11|             1.34E11|             1.33E11|             1.65E11|             1.57E11|             1.85E11|             1.76E11|              1.9E11|             1.77E11|             1.69E11|             1.83E11|             1.81E11|             1.78E11|              1.8E11|              1.9E11|             1.91E11|             1.91E11|             2.18E11|             2.55E11|             3.06E11|             3.45E11|             4.16E11|              5.1E11|             4.29E11|             4.84E11|              5.3E11|             5.64E11|             5.52E11|             5.74E11|             5.95E11|             6.45E11|             7.29E11|\n",
            "|    max|    Zimbabwe|         ZWE|             1.35E12|             1.41E12|             1.51E12|             1.63E12|             1.79E12|             1.95E12|             2.11E12|             2.25E12|             2.43E12|             2.67E12|             2.94E12|             3.25E12|             3.76E12|             4.57E12|             5.25E12|             5.85E12|             6.35E12|             7.18E12|             8.46E12|             9.84E12|             1.11E13|             1.14E13|             1.12E13|             1.16E13|              1.2E13|             1.27E13|              1.5E13|             1.71E13|             1.91E13|             2.01E13|             2.25E13|             2.39E13|             2.54E13|             2.58E13|             2.78E13|             3.08E13|             3.15E13|             3.14E13|             3.13E13|             3.25E13|             3.36E13|             3.34E13|             3.46E13|             3.89E13|             4.38E13|             4.74E13|             5.13E13|             5.78E13|             6.34E13|             6.01E13|              6.6E13|             7.33E13|              7.5E13|             7.71E13|             7.91E13|             7.48E13|             7.59E13|             8.07E13|\n",
            "+-------+------------+------------+--------------------+--------------------+--------------------+--------------------+--------------------+--------------------+--------------------+--------------------+--------------------+--------------------+--------------------+--------------------+--------------------+--------------------+--------------------+--------------------+--------------------+--------------------+--------------------+--------------------+--------------------+--------------------+--------------------+--------------------+--------------------+--------------------+--------------------+--------------------+--------------------+--------------------+--------------------+--------------------+--------------------+--------------------+--------------------+--------------------+--------------------+--------------------+--------------------+--------------------+--------------------+--------------------+--------------------+--------------------+--------------------+--------------------+--------------------+--------------------+--------------------+--------------------+--------------------+--------------------+--------------------+--------------------+--------------------+--------------------+--------------------+--------------------+\n",
            "\n",
            "+-------+------------+------------+------------------+------------------+\n",
            "|summary|country_code|country_name|          latitude|         longitude|\n",
            "+-------+------------+------------+------------------+------------------+\n",
            "|  count|         244|         244|               244|               244|\n",
            "|   mean|        null|        null|  16.2531093647541|13.294813586065576|\n",
            "| stddev|        null|        null|27.031206079229964| 73.97647657765005|\n",
            "|    min|          AD| Afghanistan|        -75.250973|       -177.156097|\n",
            "|    25%|        null|        null|         -0.522778|        -42.604303|\n",
            "|    50%|        null|        null|         16.742498|         17.873887|\n",
            "|    75%|        null|        null|         38.963745|         48.516388|\n",
            "|    max|          ZW|    Zimbabwe|         77.553604|        179.414413|\n",
            "+-------+------------+------------+------------------+------------------+\n",
            "\n",
            "+-------+------------+------------+------------------+-----------------+--------------------+\n",
            "|summary|country_name|country_code|          latitude|        longitude|                 GDP|\n",
            "+-------+------------+------------+------------------+-----------------+--------------------+\n",
            "|  count|         186|         186|               186|              186|                 163|\n",
            "|   mean|        null|        null|18.703080989247304|14.94707628494624|3.376446737587541...|\n",
            "| stddev|        null|        null|24.938770586896375|70.35630619857544|1.339585780574352...|\n",
            "|    min| Afghanistan|          AD|        -40.900557|      -175.198242|2.8121444198888883E7|\n",
            "|    25%|        null|        null|          1.650801|       -10.940835| 6.066945340944445E9|\n",
            "|    50%|        null|        null|          17.33083|         18.49041|2.353946129533333...|\n",
            "|    75%|        null|        null|         40.143105|        45.079162|1.712106389765555...|\n",
            "|    max|    Zimbabwe|          ZW|         71.706936|       179.414413|1.462222222222222...|\n",
            "+-------+------------+------------+------------------+-----------------+--------------------+\n",
            "\n"
          ]
        }
      ]
    },
    {
      "cell_type": "markdown",
      "source": [
        "# Configure the RDS settings to write the cleaned dataframe into the CountryDemographics table."
      ],
      "metadata": {
        "id": "yQAABGbkPvIs"
      }
    },
    {
      "cell_type": "code",
      "source": [
        "# Configure settings for RDS\n",
        "\n",
        "mode = \"overwrite\"\n",
        "jdbc_url=\"jdbc:postgresql://womenwellbeingdatabase.cd7e8xnrkvlm.us-west-1.rds.amazonaws.com:5432/postgres\"\n",
        "config = {\"user\":\"postgres\", \n",
        "          \"password\": \"postgres\", \n",
        "           \"driver\":\"org.postgresql.Driver\"\n",
        "         }\n",
        "# Write country_clean_df to table in RDS\n",
        "CountryDemographics_clean_df.printSchema()\n",
        "\n",
        "CountryDemographics_clean_df.write.jdbc(url=jdbc_url, table='CountryGDPDemographics', mode=mode, properties=config)\n",
        "CountryDemographics_clean_df.show()"
      ],
      "metadata": {
        "id": "Cb7piTp6t9cB",
        "colab": {
          "base_uri": "https://localhost:8080/"
        },
        "outputId": "ad12e9f7-b5d1-45ca-8218-42b030ddade9"
      },
      "execution_count": 15,
      "outputs": [
        {
          "output_type": "stream",
          "name": "stdout",
          "text": [
            "root\n",
            " |-- country_name: string (nullable = true)\n",
            " |-- country_code: string (nullable = true)\n",
            " |-- latitude: double (nullable = true)\n",
            " |-- longitude: double (nullable = true)\n",
            " |-- GDP: double (nullable = true)\n",
            "\n",
            "+--------------------+------------+----------+----------+--------------------+\n",
            "|        country_name|country_code|  latitude| longitude|                 GDP|\n",
            "+--------------------+------------+----------+----------+--------------------+\n",
            "|             Andorra|          AD| 42.546245|  1.601554|2.9877264891666665E9|\n",
            "|United Arab Emirates|          AE| 23.424076| 53.847818|2.625555555555555...|\n",
            "| Antigua and Barbuda|          AG| 17.060816|-61.796428| 1.146689137811111E9|\n",
            "|             Albania|          AL| 41.153332| 20.168331|       9.856641937E9|\n",
            "|             Armenia|          AM| 40.069099| 45.038189| 7.721111227444445E9|\n",
            "|              Angola|          AO|-11.202692| 17.873887|6.829992976338888...|\n",
            "|           Argentina|          AR|-38.416097|-63.616672|    3.73595778014E11|\n",
            "|             Austria|          AT| 47.516231| 14.550072|3.519444444444444...|\n",
            "|           Australia|          AU|-25.274398|133.775136|9.728888888888889E11|\n",
            "|          Azerbaijan|          AZ| 40.143105| 47.576927|3.684624983427778E10|\n",
            "|Bosnia and Herzeg...|          BA| 43.915886| 17.679076|1.410934979711111E10|\n",
            "|            Barbados|          BB| 13.193887|-59.543198|4.1564303322777777E9|\n",
            "|          Bangladesh|          BD| 23.684994| 90.356331|1.148809902953888...|\n",
            "|             Belgium|          BE| 50.503887|  4.469936|4.263888888888889E11|\n",
            "|        Burkina Faso|          BF| 12.238333| -1.561593|      7.9120317595E9|\n",
            "|            Bulgaria|          BG| 42.733883|  25.48583|4.108951884355556E10|\n",
            "|             Bahrain|          BH| 25.930414| 50.637772|2.258340196516666...|\n",
            "|             Burundi|          BI| -3.373056| 29.918886|1.8658214422333333E9|\n",
            "|               Benin|          BJ|   9.30769|  2.315834| 6.378661420888889E9|\n",
            "|             Bolivia|          BO|-16.290154|-63.588653|      1.934660305E10|\n",
            "+--------------------+------------+----------+----------+--------------------+\n",
            "only showing top 20 rows\n",
            "\n"
          ]
        }
      ]
    }
  ]
}