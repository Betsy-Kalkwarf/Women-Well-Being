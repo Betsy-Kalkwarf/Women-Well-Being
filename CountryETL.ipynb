{
  "nbformat": 4,
  "nbformat_minor": 0,
  "metadata": {
    "colab": {
      "provenance": []
    },
    "kernelspec": {
      "name": "python3",
      "display_name": "Python 3"
    },
    "language_info": {
      "name": "python"
    },
    "gpuClass": "standard"
  },
  "cells": [
    {
      "cell_type": "markdown",
      "source": [
        "# Required Installations of Spark & Jave and set up of Environment Variables."
      ],
      "metadata": {
        "id": "MVIYYQM0NI2D"
      }
    },
    {
      "cell_type": "code",
      "execution_count": 1,
      "metadata": {
        "colab": {
          "base_uri": "https://localhost:8080/"
        },
        "id": "KCCChj51W1Zt",
        "outputId": "3ed9a7a8-76e1-4dd1-bf9d-fdb94ecdc142"
      },
      "outputs": [
        {
          "output_type": "stream",
          "name": "stdout",
          "text": [
            "Get:1 https://cloud.r-project.org/bin/linux/ubuntu bionic-cran40/ InRelease [3,626 B]\n",
            "Ign:2 https://developer.download.nvidia.com/compute/machine-learning/repos/ubuntu1804/x86_64  InRelease\n",
            "Hit:3 https://developer.download.nvidia.com/compute/cuda/repos/ubuntu1804/x86_64  InRelease\n",
            "Get:4 http://security.ubuntu.com/ubuntu bionic-security InRelease [88.7 kB]\n",
            "Hit:5 http://ppa.launchpad.net/c2d4u.team/c2d4u4.0+/ubuntu bionic InRelease\n",
            "Hit:6 https://developer.download.nvidia.com/compute/machine-learning/repos/ubuntu1804/x86_64  Release\n",
            "Hit:7 http://ppa.launchpad.net/cran/libgit2/ubuntu bionic InRelease\n",
            "Hit:8 http://archive.ubuntu.com/ubuntu bionic InRelease\n",
            "Get:9 http://archive.ubuntu.com/ubuntu bionic-updates InRelease [88.7 kB]\n",
            "Hit:10 http://ppa.launchpad.net/deadsnakes/ppa/ubuntu bionic InRelease\n",
            "Hit:11 http://ppa.launchpad.net/graphics-drivers/ppa/ubuntu bionic InRelease\n",
            "Get:12 http://archive.ubuntu.com/ubuntu bionic-backports InRelease [83.3 kB]\n",
            "Get:14 http://security.ubuntu.com/ubuntu bionic-security/restricted amd64 Packages [1,369 kB]\n",
            "Get:15 http://security.ubuntu.com/ubuntu bionic-security/main amd64 Packages [3,141 kB]\n",
            "Get:16 http://archive.ubuntu.com/ubuntu bionic-updates/universe amd64 Packages [2,348 kB]\n",
            "Get:17 http://security.ubuntu.com/ubuntu bionic-security/universe amd64 Packages [1,573 kB]\n",
            "Get:18 http://archive.ubuntu.com/ubuntu bionic-updates/restricted amd64 Packages [1,412 kB]\n",
            "Get:19 http://archive.ubuntu.com/ubuntu bionic-updates/main amd64 Packages [3,569 kB]\n",
            "Fetched 13.7 MB in 38s (356 kB/s)\n",
            "Reading package lists... Done\n"
          ]
        }
      ],
      "source": [
        "import os\n",
        "# Find the latest version of spark 3.2 from http://www.apache.org/dist/spark/ and enter as the spark version\n",
        "# For example:\n",
        "# spark_version = 'spark-3.2.3'\n",
        "spark_version = 'spark-3.2.3'\n",
        "os.environ['SPARK_VERSION']=spark_version\n",
        "\n",
        "# Install Spark and Java\n",
        "!apt-get update\n",
        "!apt-get install openjdk-11-jdk-headless -qq > /dev/null\n",
        "!wget -q http://www.apache.org/dist/spark/$SPARK_VERSION/$SPARK_VERSION-bin-hadoop2.7.tgz\n",
        "!tar xf $SPARK_VERSION-bin-hadoop2.7.tgz\n",
        "!pip install -q findspark\n",
        "\n",
        "# Set Environment Variables\n",
        "import os\n",
        "os.environ[\"JAVA_HOME\"] = \"/usr/lib/jvm/java-11-openjdk-amd64\"\n",
        "os.environ[\"SPARK_HOME\"] = f\"/content/{spark_version}-bin-hadoop2.7\"\n",
        "\n",
        "# Start a SparkSession\n",
        "import findspark\n",
        "findspark.init()\n",
        "\n"
      ]
    },
    {
      "cell_type": "code",
      "source": [
        "# Download the Postgres driver that will allow Spark to interact with Postgres.\n",
        "!wget https://jdbc.postgresql.org/download/postgresql-42.5.1.jar"
      ],
      "metadata": {
        "colab": {
          "base_uri": "https://localhost:8080/"
        },
        "id": "XFw4dnCHoPa2",
        "outputId": "5d4fb2f7-514e-45e6-d647-083b834bda7a"
      },
      "execution_count": 2,
      "outputs": [
        {
          "output_type": "stream",
          "name": "stdout",
          "text": [
            "--2023-01-13 00:05:20--  https://jdbc.postgresql.org/download/postgresql-42.5.1.jar\n",
            "Resolving jdbc.postgresql.org (jdbc.postgresql.org)... 72.32.157.228, 2001:4800:3e1:1::228\n",
            "Connecting to jdbc.postgresql.org (jdbc.postgresql.org)|72.32.157.228|:443... connected.\n",
            "HTTP request sent, awaiting response... 200 OK\n",
            "Length: 1046770 (1022K) [application/java-archive]\n",
            "Saving to: ‘postgresql-42.5.1.jar’\n",
            "\n",
            "postgresql-42.5.1.j 100%[===================>]   1022K  6.48MB/s    in 0.2s    \n",
            "\n",
            "2023-01-13 00:05:20 (6.48 MB/s) - ‘postgresql-42.5.1.jar’ saved [1046770/1046770]\n",
            "\n"
          ]
        }
      ]
    },
    {
      "cell_type": "markdown",
      "source": [
        "# Load Amazon Data into Spark DataFrame\n",
        "## Get the Country latitude and longitude details with GDP"
      ],
      "metadata": {
        "id": "gLiAb-d1N0jl"
      }
    },
    {
      "cell_type": "code",
      "source": [
        "from pyspark.sql import SparkSession\n",
        "spark = SparkSession.builder.appName(\"FinalProject-WomenWellBeing\").config(\"spark.driver.extraClassPath\",\"/content/postgresql-42.5.1.jar\").getOrCreate()\n"
      ],
      "metadata": {
        "id": "t996OTiFYemK"
      },
      "execution_count": 3,
      "outputs": []
    },
    {
      "cell_type": "code",
      "source": [
        "from pyspark import SparkFiles\n",
        "url = \"https://womenwellbeing.s3.us-west-1.amazonaws.com/world_country_and_usa_states_latitude_and_longitude_values.csv\"\n",
        "spark.sparkContext.addFile(url)\n",
        "\n",
        "\n",
        "\n",
        "from pyspark.sql.types import StructType,StructField,StringType,IntegerType,DoubleType\n",
        "schema = StructType([\n",
        "  StructField(\"country_code\", StringType(), False),  \n",
        "  StructField(\"latitude\", DoubleType(), True),\n",
        "  StructField(\"longitude\", DoubleType(), True),\n",
        "  StructField(\"country_name\", StringType(), False),\n",
        "  ])\n",
        "\n",
        "country_df = spark.read.option(\"encoding\", \"UTF-8\").schema(schema).csv(SparkFiles.get(\"world_country_and_usa_states_latitude_and_longitude_values.csv\"), sep=\",\", header=True, inferSchema=True)\n",
        "country_df.show()\n"
      ],
      "metadata": {
        "id": "Reda9E2NYwXu",
        "colab": {
          "base_uri": "https://localhost:8080/"
        },
        "outputId": "c542c3e5-fa53-4894-f41e-74b81add434d"
      },
      "execution_count": 4,
      "outputs": [
        {
          "output_type": "stream",
          "name": "stdout",
          "text": [
            "+------------+----------+-----------+--------------------+\n",
            "|country_code|  latitude|  longitude|        country_name|\n",
            "+------------+----------+-----------+--------------------+\n",
            "|          AD| 42.546245|   1.601554|             Andorra|\n",
            "|          AE| 23.424076|  53.847818|United Arab Emirates|\n",
            "|          AF|  33.93911|  67.709953|         Afghanistan|\n",
            "|          AG| 17.060816| -61.796428| Antigua and Barbuda|\n",
            "|          AI| 18.220554| -63.068615|            Anguilla|\n",
            "|          AL| 41.153332|  20.168331|             Albania|\n",
            "|          AM| 40.069099|  45.038189|             Armenia|\n",
            "|          AN| 12.226079| -69.060087|Netherlands Antilles|\n",
            "|          AO|-11.202692|  17.873887|              Angola|\n",
            "|          AQ|-75.250973|  -0.071389|          Antarctica|\n",
            "|          AR|-38.416097| -63.616672|           Argentina|\n",
            "|          AS|-14.270972|-170.132217|      American Samoa|\n",
            "|          AT| 47.516231|  14.550072|             Austria|\n",
            "|          AU|-25.274398| 133.775136|           Australia|\n",
            "|          AW|  12.52111| -69.968338|               Aruba|\n",
            "|          AZ| 40.143105|  47.576927|          Azerbaijan|\n",
            "|          BA| 43.915886|  17.679076|Bosnia and Herzeg...|\n",
            "|          BB| 13.193887| -59.543198|            Barbados|\n",
            "|          BD| 23.684994|  90.356331|          Bangladesh|\n",
            "|          BE| 50.503887|   4.469936|             Belgium|\n",
            "+------------+----------+-----------+--------------------+\n",
            "only showing top 20 rows\n",
            "\n"
          ]
        }
      ]
    },
    {
      "cell_type": "markdown",
      "source": [
        "### Load the dataframe with required columns and clean the data."
      ],
      "metadata": {
        "id": "m7wZE5K7ORMZ"
      }
    },
    {
      "cell_type": "code",
      "source": [
        "country_clean_df  = country_df.select(country_df['country_code'],country_df['country_name'],country_df['latitude'],country_df['longitude'])\n",
        "country_clean_df.summary().show()\n",
        "\n",
        "country_clean_df.dropna().summary().show()\n",
        "\n",
        "CountryDemographics = country_clean_df.dropna()"
      ],
      "metadata": {
        "id": "RM_rbVYlZUvp",
        "colab": {
          "base_uri": "https://localhost:8080/"
        },
        "outputId": "88ae3f98-0c10-408f-9450-e070eccd208f"
      },
      "execution_count": 5,
      "outputs": [
        {
          "output_type": "stream",
          "name": "stdout",
          "text": [
            "+-------+------------+------------+------------------+------------------+\n",
            "|summary|country_code|country_name|          latitude|         longitude|\n",
            "+-------+------------+------------+------------------+------------------+\n",
            "|  count|         245|         245|               244|               244|\n",
            "|   mean|        null|        null|  16.2531093647541|13.294813586065576|\n",
            "| stddev|        null|        null|27.031206079229964| 73.97647657765005|\n",
            "|    min|          AD| Afghanistan|        -75.250973|       -177.156097|\n",
            "|    25%|        null|        null|         -0.522778|        -42.604303|\n",
            "|    50%|        null|        null|         16.742498|         17.873887|\n",
            "|    75%|        null|        null|         38.963745|         48.516388|\n",
            "|    max|          ZW|    Zimbabwe|         77.553604|        179.414413|\n",
            "+-------+------------+------------+------------------+------------------+\n",
            "\n",
            "+-------+------------+------------+------------------+------------------+\n",
            "|summary|country_code|country_name|          latitude|         longitude|\n",
            "+-------+------------+------------+------------------+------------------+\n",
            "|  count|         244|         244|               244|               244|\n",
            "|   mean|        null|        null|  16.2531093647541|13.294813586065576|\n",
            "| stddev|        null|        null|27.031206079229964| 73.97647657765005|\n",
            "|    min|          AD| Afghanistan|        -75.250973|       -177.156097|\n",
            "|    25%|        null|        null|         -0.522778|        -42.604303|\n",
            "|    50%|        null|        null|         16.742498|         17.873887|\n",
            "|    75%|        null|        null|         38.963745|         48.516388|\n",
            "|    max|          ZW|    Zimbabwe|         77.553604|        179.414413|\n",
            "+-------+------------+------------+------------------+------------------+\n",
            "\n"
          ]
        }
      ]
    },
    {
      "cell_type": "code",
      "source": [
        "CountryDemographics.show()"
      ],
      "metadata": {
        "id": "HqxSiEWht1C1",
        "colab": {
          "base_uri": "https://localhost:8080/"
        },
        "outputId": "c27412ae-8bf9-454a-f222-92d98eb98f85"
      },
      "execution_count": 6,
      "outputs": [
        {
          "output_type": "stream",
          "name": "stdout",
          "text": [
            "+------------+--------------------+----------+-----------+\n",
            "|country_code|        country_name|  latitude|  longitude|\n",
            "+------------+--------------------+----------+-----------+\n",
            "|          AD|             Andorra| 42.546245|   1.601554|\n",
            "|          AE|United Arab Emirates| 23.424076|  53.847818|\n",
            "|          AF|         Afghanistan|  33.93911|  67.709953|\n",
            "|          AG| Antigua and Barbuda| 17.060816| -61.796428|\n",
            "|          AI|            Anguilla| 18.220554| -63.068615|\n",
            "|          AL|             Albania| 41.153332|  20.168331|\n",
            "|          AM|             Armenia| 40.069099|  45.038189|\n",
            "|          AN|Netherlands Antilles| 12.226079| -69.060087|\n",
            "|          AO|              Angola|-11.202692|  17.873887|\n",
            "|          AQ|          Antarctica|-75.250973|  -0.071389|\n",
            "|          AR|           Argentina|-38.416097| -63.616672|\n",
            "|          AS|      American Samoa|-14.270972|-170.132217|\n",
            "|          AT|             Austria| 47.516231|  14.550072|\n",
            "|          AU|           Australia|-25.274398| 133.775136|\n",
            "|          AW|               Aruba|  12.52111| -69.968338|\n",
            "|          AZ|          Azerbaijan| 40.143105|  47.576927|\n",
            "|          BA|Bosnia and Herzeg...| 43.915886|  17.679076|\n",
            "|          BB|            Barbados| 13.193887| -59.543198|\n",
            "|          BD|          Bangladesh| 23.684994|  90.356331|\n",
            "|          BE|             Belgium| 50.503887|   4.469936|\n",
            "+------------+--------------------+----------+-----------+\n",
            "only showing top 20 rows\n",
            "\n"
          ]
        }
      ]
    },
    {
      "cell_type": "markdown",
      "source": [
        "### Load the Country GDP csv.\n",
        "### Drop the unnecessary columns and drop the null values and store the clean data into a new dataframe."
      ],
      "metadata": {
        "id": "wbWyOpFWObav"
      }
    },
    {
      "cell_type": "code",
      "source": [
        "\n",
        "from pyspark import SparkFiles\n",
        "url = \"https://womenwellbeing.s3.us-west-1.amazonaws.com/Country_GDP.csv\"\n",
        "spark.sparkContext.addFile(url)\n",
        "\n",
        "\n",
        "from pyspark.sql.types import StructType,StructField,StringType,IntegerType,DoubleType\n",
        "schema = StructType([\n",
        "  StructField(\"country_code\", StringType(), False),\n",
        "  StructField(\"country_name\", StringType(), False),\n",
        "  \n",
        "  StructField(\"2000\", IntegerType(), True),\n",
        "  StructField(\"2001\", IntegerType(), True),\n",
        "  StructField(\"2002\", IntegerType(), True),\n",
        "  StructField(\"2003\", IntegerType(), True),\n",
        "  StructField(\"2004\", IntegerType(), True),\n",
        "  StructField(\"2005\", IntegerType(), True),\n",
        "  StructField(\"2006\", IntegerType(), True),\n",
        "  StructField(\"2007\", IntegerType(), True),\n",
        "  StructField(\"2008\", IntegerType(), True),\n",
        "  StructField(\"2009\", IntegerType(), True),\n",
        "  StructField(\"2010\", IntegerType(), True),\n",
        "  StructField(\"2011\", IntegerType(), True),\n",
        "  StructField(\"2012\", IntegerType(), True),\n",
        "  StructField(\"2013\", IntegerType(), True),\n",
        "  StructField(\"2014\", IntegerType(), True),\n",
        "  StructField(\"2015\", IntegerType(), True),\n",
        "  StructField(\"2016\", IntegerType(), True),\n",
        "  StructField(\"2017\", IntegerType(), True),\n",
        "  StructField(\"2018\", IntegerType(), True),\n",
        "  StructField(\"2019\", IntegerType(), True),\n",
        "  StructField(\"2020\", IntegerType(), True),\n",
        "  StructField(\"2021\", IntegerType(), True),\n",
        "  ])\n",
        "\n",
        "\n",
        "\n",
        "\n"
      ],
      "metadata": {
        "id": "bg2RIsxeXKVb"
      },
      "execution_count": 7,
      "outputs": []
    },
    {
      "cell_type": "code",
      "source": [
        "\n",
        "Country_GDP_df = spark.read.option(\"encoding\", \"UTF-8\").csv(SparkFiles.get(\"Country_GDP.csv\"), sep=\",\", header=True, inferSchema=True)\n",
        "Country_GDP_df.show()\n",
        "\n",
        "Country_GDP_df.dtypes"
      ],
      "metadata": {
        "id": "o2z62UGj_Vij",
        "colab": {
          "base_uri": "https://localhost:8080/"
        },
        "outputId": "6903d5a6-90fc-4f39-8b9d-52ba3842955e"
      },
      "execution_count": 8,
      "outputs": [
        {
          "output_type": "stream",
          "name": "stdout",
          "text": [
            "+--------------------+------------+-----------------+--------------+---------------+---------------+---------------+---------------+---------------+---------------+---------------+---------------+---------------+---------------+---------------+---------------+---------------+---------------+---------------+---------------+---------------+---------------+---------------+---------------+---------------+---------------+---------------+---------------+---------------+---------------+---------------+---------------+---------------+---------------+---------------+---------------+---------------+---------------+---------------+---------------+---------------+---------------+---------------+---------------+-------------+-------------+---------------+---------------+---------------+---------------+---------------+---------------+---------------+---------------+---------------+---------------+---------------+---------------+---------------+---------------+---------------+---------------+---------------+---------------+---------------+---------------+\n",
            "|        Country Name|Country Code|   Indicator Name|Indicator Code|           1960|           1961|           1962|           1963|           1964|           1965|           1966|           1967|           1968|           1969|           1970|           1971|           1972|           1973|           1974|           1975|           1976|           1977|           1978|           1979|           1980|           1981|           1982|           1983|           1984|           1985|           1986|           1987|           1988|           1989|           1990|           1991|           1992|           1993|           1994|           1995|           1996|           1997|           1998|           1999|         2000|         2001|           2002|           2003|           2004|           2005|           2006|           2007|           2008|           2009|           2010|           2011|           2012|           2013|           2014|           2015|           2016|           2017|           2018|           2019|           2020|           2021|\n",
            "+--------------------+------------+-----------------+--------------+---------------+---------------+---------------+---------------+---------------+---------------+---------------+---------------+---------------+---------------+---------------+---------------+---------------+---------------+---------------+---------------+---------------+---------------+---------------+---------------+---------------+---------------+---------------+---------------+---------------+---------------+---------------+---------------+---------------+---------------+---------------+---------------+---------------+---------------+---------------+---------------+---------------+---------------+---------------+---------------+-------------+-------------+---------------+---------------+---------------+---------------+---------------+---------------+---------------+---------------+---------------+---------------+---------------+---------------+---------------+---------------+---------------+---------------+---------------+---------------+---------------+---------------+\n",
            "|               Aruba|         ABW|GDP (current US$)|NY.GDP.MKTP.CD|           null|           null|           null|           null|           null|           null|           null|           null|           null|           null|           null|           null|           null|           null|           null|           null|           null|           null|           null|           null|           null|           null|           null|           null|           null|           null|  4.055865922E8|  4.877094972E8|  5.966480447E8|  6.955307263E8|  7.648044693E8|  8.720670391E8|  9.586592179E8|  1.083240223E9|  1.245810056E9|  1.320670391E9|  1.379888268E9|  1.531843575E9|  1.665363128E9|  1.722905028E9|1.873184358E9|1.896648045E9|  1.962011173E9|  2.044134078E9|  2.254748603E9|  2.359776536E9|  2.469832402E9|  2.677653631E9|   2.84301676E9|  2.553631285E9|  2.453631285E9|  2.637988827E9|  2.615083799E9|  2.727932961E9|  2.791061453E9|  2.963128492E9|  2.983798883E9|  3.092178771E9|  3.202234637E9|  3.368970253E9|  2.610038938E9|  3.126019399E9|\n",
            "|Africa Eastern an...|         AFE|GDP (current US$)|NY.GDP.MKTP.CD|2.1290811194E10|2.1808704493E10|2.3707266143E10|2.8210335256E10|2.6119063726E10|  2.96824867E10|3.2239462541E10|3.3514906532E10|3.6521869225E10|4.1828778632E10|4.4863079905E10|4.9479440038E10|5.3515410561E10| 6.960152428E10|8.6058687786E10|9.1650122062E10|9.1125515752E10|     1.03417E11|     1.15346E11|     1.34673E11|     1.70656E11|     1.74389E11|     1.67268E11|      1.7492E11|     1.60136E11|     1.36299E11|      1.5252E11|     1.86147E11|     2.04142E11|     2.17541E11|     2.53227E11|     2.73406E11|     2.38258E11|     2.36529E11|     2.40123E11|      2.6964E11|     2.68417E11|     2.82188E11|     2.65817E11|     2.62175E11|   2.83928E11|   2.58821E11|     2.64873E11|     3.52662E11|     4.38838E11|     5.12217E11|     5.75703E11|     6.60805E11|     7.08095E11|     7.19071E11|     8.60332E11|     9.64181E11|     9.72573E11|     9.83473E11|     1.00377E12|     9.24523E11|     8.82721E11|     1.02112E12|     1.00724E12|     1.00102E12|     9.27484E11|     1.08071E12|\n",
            "|         Afghanistan|         AFG|GDP (current US$)|NY.GDP.MKTP.CD|  5.377778111E8|  5.488888956E8|  5.466666778E8|  7.511111911E8|  8.000000444E8|  1.006666638E9|  1.399999967E9|  1.673333418E9|  1.373333367E9|  1.408888922E9|  1.748886596E9|  1.831108971E9|  1.595555476E9|  1.733333264E9|  2.155555498E9|  2.366666616E9|  2.555555567E9|  2.953333418E9|  3.300000109E9|   3.69794041E9|  3.641723322E9|  3.478787909E9|           null|           null|           null|           null|           null|           null|           null|           null|           null|           null|           null|           null|           null|           null|           null|           null|           null|           null|         null|         null|  3.854235264E9|  4.539500884E9|  5.220823685E9|  6.226199249E9|  6.971379033E9|   9.71576165E9|1.0249767311E10|1.2154835708E10|1.5633856787E10|1.8190410821E10| 2.020357296E10|2.0564485419E10|2.0550582747E10|1.9998156214E10|1.8019558182E10|1.8896352022E10|  1.84188483E10|1.8904490263E10|2.0143442151E10|1.4786861638E10|\n",
            "|Africa Western an...|         AFW|GDP (current US$)|NY.GDP.MKTP.CD|1.0404135069E10|1.1127894641E10|1.1943187848E10|1.2676330765E10|1.3838369295E10| 1.486222576E10|1.5832591204E10| 1.442603823E10| 1.488034928E10|1.6882092549E10|2.3504605476E10|2.0832817218E10|2.5264953766E10|3.1273819026E10|4.4214484997E10|5.1444731784E10|6.2129390375E10|6.5315008068E10|7.1199708192E10|8.8628401269E10|     1.12031E11|     2.11003E11|     1.87164E11|     1.38115E11|     1.14263E11|     1.16507E11|     1.07498E11|     1.10322E11|     1.08943E11|     1.01769E11|     1.21802E11|     1.17457E11|     1.18282E11|9.8826369836E10|8.6281743753E10|     1.08221E11|     1.25763E11|     1.27064E11|     1.30107E11|     1.37521E11|    1.4041E11|    1.4678E11|     1.76606E11|     2.04471E11|     2.53472E11|     3.10094E11|     3.95656E11|     4.64426E11|     5.66479E11|      5.0703E11|     5.97129E11|     6.80456E11|      7.3604E11|     8.32217E11|     8.92498E11|     7.66958E11|     6.90545E11|     6.83748E11|      7.6636E11|     7.94719E11|       7.848E11|     8.40187E11|\n",
            "|              Angola|         AGO|GDP (current US$)|NY.GDP.MKTP.CD|           null|           null|           null|           null|           null|           null|           null|           null|           null|           null|           null|           null|           null|           null|           null|           null|           null|           null|           null|           null|  5.930503401E9|  5.550483036E9|  5.550483036E9|  5.784341596E9|  6.131475065E9|  7.553560459E9|  7.072063346E9|  8.083872012E9|   8.76925055E9|1.0201099039E10|1.1228764963E10|1.0603784541E10|  8.307810974E9|  5.768720422E9|  4.438321017E9|   5.53874926E9|  7.526446606E9|  7.648377413E9|  6.506229607E9|  6.152922943E9|9.129594819E9|8.936063723E9|1.5285594828E10|1.7812704825E10|2.3552047248E10|3.6970918699E10|5.2381006892E10|6.5266452081E10|8.8538610805E10|7.0307166934E10|8.1699526881E10|     1.09437E11|     1.24998E11|     1.33402E11|     1.37244E11|8.7219300385E10|4.9840491178E10|6.8972769396E10|7.7792944472E10|6.9309110146E10|5.3619073505E10| 6.740428726E10|\n",
            "|             Albania|         ALB|GDP (current US$)|NY.GDP.MKTP.CD|           null|           null|           null|           null|           null|           null|           null|           null|           null|           null|           null|           null|           null|           null|           null|           null|           null|           null|           null|           null|           null|           null|           null|           null|  1.857338012E9|  1.897050133E9|   2.09732625E9|   2.08079625E9|   2.05123625E9|      2.25309E9|   2.02855375E9|  1.099559028E9|  6.521749908E8|  1.185315468E9|   1.88095152E9|  2.392764853E9|  3.199641336E9|  2.258513974E9|  2.545964541E9|  3.212121651E9|3.480355258E9|3.922100794E9|  4.348068242E9|  5.611496257E9|  7.184685782E9|  8.052073539E9|  8.896072919E9|1.0677324144E10|1.2881353508E10|1.2044208086E10|1.1926922829E10|1.2890764531E10|1.2319830437E10|1.2776220507E10|1.3228147516E10| 1.138685013E10|1.1861199831E10|1.3019689337E10| 1.515643231E10|1.5401830754E10|1.5131866271E10|1.8255787479E10|\n",
            "|             Andorra|         AND|GDP (current US$)|NY.GDP.MKTP.CD|           null|           null|           null|           null|           null|           null|           null|           null|           null|           null|  7.861920609E7|  8.940982036E7|  1.134082319E8|  1.508201028E8|  1.865586963E8|  2.201272464E8|  2.272810246E8|  2.540201533E8|  3.080088976E8|  4.115783342E8|  4.464161058E8|  3.889587313E8|  3.758959564E8|  3.278618329E8|  3.300706893E8|  3.467379648E8|   4.82000594E8|  6.113163994E8|  7.214259392E8|  7.954493324E8|  1.029048482E9|  1.106928583E9|  1.210013652E9|  1.007025755E9|  1.017549124E9|  1.178738991E9|  1.223945357E9|  1.180597273E9|  1.211932398E9|  1.239876305E9|1.429049198E9|1.546926174E9|  1.755910032E9|  2.361726862E9|  2.894921778E9|  3.159905484E9|  3.456442103E9|  3.952600602E9|  4.085630584E9|  3.674409558E9|  3.449966857E9|  3.629203786E9|  3.188808943E9|  3.193704343E9|  3.271808157E9|  2.789870188E9|  2.896679212E9|   3.00018075E9|  3.218316013E9|  3.155065488E9|  2.891022273E9|  3.330281524E9|\n",
            "|          Arab World|         ARB|GDP (current US$)|NY.GDP.MKTP.CD|           null|           null|           null|           null|           null|           null|           null|           null| 3.501972748E10|3.8162991696E10|4.3149825508E10|4.9841484048E10|5.9381286567E10|7.5329791104E10|     1.42816E11|     1.57909E11|     1.96559E11|     2.26978E11|      2.4911E11|     3.38625E11|      4.5981E11|     4.74023E11|      4.4413E11|     4.18462E11|     4.25898E11|     4.19499E11|     4.06984E11|     4.40606E11|       4.249E11|     4.55823E11|     6.44066E11|     4.71524E11|     4.73813E11|     4.82767E11|     5.07767E11|     5.56058E11|     6.14193E11|     6.62317E11|     6.44494E11|     7.12837E11|   8.16019E11|   7.98505E11|     8.03123E11|     8.87852E11|     1.05625E12|     1.29789E12|     1.53829E12|     1.79004E12|     2.25373E12|      1.9788E12|       2.327E12|     2.54186E12|     2.78717E12|     2.84353E12|     2.89546E12|     2.53893E12|     2.51649E12|     2.59809E12|     2.80043E12|      2.8185E12|     2.49081E12|     2.86072E12|\n",
            "|United Arab Emirates|         ARE|GDP (current US$)|NY.GDP.MKTP.CD|           null|           null|           null|           null|           null|           null|           null|           null|           null|           null|           null|           null|           null|           null|           null|1.4720672507E10|1.9213022691E10|2.4871775165E10|2.3775831783E10|3.1225463218E10|4.3598748449E10|4.9333424135E10|4.6622718605E10|4.2803323345E10|4.1807954236E10|4.0603650232E10|3.3943612095E10|3.6384908744E10|3.6275674203E10|4.1464995914E10|5.0701443748E10|5.1552165622E10|5.4239171888E10|5.5625170253E10| 5.930509398E10|6.5743666576E10|7.3571233996E10|7.8839008445E10|7.5674336283E10|8.4445473111E10|   1.04337E11|   1.03312E11|     1.09816E11|     1.24346E11|     1.47824E11|     1.80617E11|     2.22117E11|     2.57916E11|     3.15475E11|     2.53547E11|     2.89787E11|     3.50666E11|      3.8461E11|     4.00219E11|     4.14105E11|     3.70275E11|     3.69255E11|     3.90517E11|     4.27049E11|      4.1799E11|     3.49473E11|     4.15022E11|\n",
            "|           Argentina|         ARG|GDP (current US$)|NY.GDP.MKTP.CD|           null|           null|2.4450604878E10|1.8272123664E10|2.5605249382E10|2.8344705967E10|2.8630474728E10|2.4256667553E10|2.6436857247E10|3.1256284544E10|3.1584210366E10|3.3293199095E10|3.4733000536E10|5.2544000117E10|7.2436777342E10|5.2438647922E10|5.1169499892E10|5.6781000101E10|5.8082870156E10|6.9252328952E10|7.6961923741E10|7.8676842367E10|8.4307486837E10|     1.03979E11|7.9092001998E10|  8.84166689E10|     1.10934E11|     1.11106E11|     1.26207E11|7.6636898036E10|     1.41352E11|      1.8972E11|     2.28789E11|     2.36742E11|      2.5744E11|     2.58032E11|      2.7215E11|     2.92859E11|     2.98948E11|     2.83523E11|   2.84204E11|   2.68697E11|9.7724004252E10|     1.27587E11|     1.64658E11|     1.98737E11|     2.32557E11|     2.87531E11|     3.61558E11|     3.32976E11|     4.23627E11|     5.30163E11|     5.45982E11|     5.52025E11|      5.2632E11|     5.94749E11|     5.57531E11|     6.43629E11|      5.2482E11|     4.47755E11|      3.8554E11|     4.87227E11|\n",
            "|             Armenia|         ARM|GDP (current US$)|NY.GDP.MKTP.CD|           null|           null|           null|           null|           null|           null|           null|           null|           null|           null|           null|           null|           null|           null|           null|           null|           null|           null|           null|           null|           null|           null|           null|           null|           null|           null|           null|           null|           null|           null|  2.256838858E9|   2.06987013E9|  1.272835453E9|  1.201312829E9|  1.315158637E9|  1.468317435E9|  1.596968946E9|  1.639492445E9|  1.893726437E9|  1.845482173E9|1.911563669E9|2.118467913E9|  2.376335048E9|  2.807061009E9|   3.57661524E9|   4.90046995E9|  6.384451606E9|    9.2063017E9|1.1662040714E10|  8.647936748E9|  9.260284938E9|1.0142111334E10|1.0619320049E10|1.1121465767E10| 1.160951294E10|1.0553337673E10| 1.054613516E10|1.1527458566E10|1.2457941907E10|1.3619291361E10|1.2641697523E10|1.3861409969E10|\n",
            "|      American Samoa|         ASM|GDP (current US$)|NY.GDP.MKTP.CD|           null|           null|           null|           null|           null|           null|           null|           null|           null|           null|           null|           null|           null|           null|           null|           null|           null|           null|           null|           null|           null|           null|           null|           null|           null|           null|           null|           null|           null|           null|           null|           null|           null|           null|           null|           null|           null|           null|           null|           null|         null|         null|         5.12E8|         5.24E8|         5.09E8|          5.0E8|         4.93E8|         5.18E8|          5.6E8|         6.75E8|         5.73E8|          5.7E8|          6.4E8|         6.38E8|         6.43E8|         6.73E8|         6.71E8|         6.12E8|         6.39E8|         6.47E8|         7.16E8|         7.09E8|\n",
            "| Antigua and Barbuda|         ATG|GDP (current US$)|NY.GDP.MKTP.CD|           null|           null|           null|           null|           null|           null|           null|           null|           null|           null|           null|           null|           null|           null|           null|           null|           null|   7.74967537E7|  8.787934148E7|  1.090799789E8|  1.314310267E8|  1.478417344E8|  1.643692789E8|   1.82144093E8|  2.083728463E8|  2.409239248E8|  2.904401407E8|  3.371748619E8|  3.986377278E8|  4.387947885E8|  4.594703704E8|  4.817074074E8|  4.992814815E8|  5.351740741E8|  5.894296296E8|  5.772814815E8|  6.337296296E8|  6.806185185E8|  7.278592593E8|        7.662E8|8.263703704E8|8.004814815E8|  8.143814815E8|  8.563962963E8|  9.197296296E8|  1.022962963E9|  1.157662963E9|  1.312759259E9|   1.37007037E9|   1.22832963E9|       1.1487E9|  1.137637037E9|  1.199948148E9|  1.181448148E9|  1.249733333E9|  1.336692593E9|  1.436585185E9|  1.467977778E9|  1.605944444E9|  1.687533333E9|  1.370281481E9|  1.471125926E9|\n",
            "|           Australia|         AUS|GDP (current US$)|NY.GDP.MKTP.CD|1.8605666928E10|1.9681935267E10|1.9921603763E10|2.1538806137E10|2.3799977601E10|2.5974913204E10|2.7306529287E10| 3.044125882E10|  3.27125098E10|3.6681599283E10|4.1331616082E10|4.5214469705E10|5.2042056075E10|6.3832158873E10|8.8963890936E10|9.7304383449E10|     1.05066E11|     1.10351E11|     1.18495E11|     1.34898E11|     1.49984E11|     1.76892E11|     1.94037E11|     1.77267E11|     1.93519E11|     1.80634E11|     1.82472E11|     1.89488E11|     2.36154E11|     2.99878E11|     3.11434E11|     3.25987E11|     3.25532E11|     3.12138E11|     3.22809E11|     3.68141E11|     4.01311E11|     4.35614E11|     3.99661E11|      3.8939E11|   4.15851E11|   3.79358E11|     3.95581E11|     4.67498E11|     6.14326E11|     6.95329E11|     7.47907E11|     8.54427E11|     1.05564E12|     9.28627E11|     1.14861E12|     1.39841E12|     1.54689E12|     1.57638E12|     1.46755E12|     1.35062E12|     1.20654E12|     1.32652E12|     1.42829E12|     1.39223E12|      1.3269E12|     1.55267E12|\n",
            "|             Austria|         AUT|GDP (current US$)|NY.GDP.MKTP.CD|  6.592693841E9|  7.311749633E9|   7.75611021E9|  8.374175258E9|  9.169983886E9|  9.994070616E9|1.0887682273E10|1.1579431669E10|1.2440625313E10|1.3582798556E10|1.5373005557E10|1.7858486067E10|2.2059612477E10|2.9515467707E10|3.5189299912E10|4.0059206763E10|4.2959976222E10|5.1545758888E10|6.2052259073E10|7.3937296963E10|8.2058912997E10|7.1034228443E10| 7.127528757E10|7.2121016547E10|6.7985344887E10|6.9386774408E10|9.9036164939E10|     1.24168E11|     1.33339E11|     1.33106E11|     1.66463E11|     1.73794E11|     1.95078E11|      1.9038E11|     2.03535E11|     2.41038E11|     2.37251E11|      2.1279E11|      2.1826E11|     2.17259E11|    1.9729E11|   1.97509E11|     2.14395E11|     2.62274E11|     3.01458E11|     3.16092E11|      3.3628E11|     3.89186E11|     4.32052E11|     4.01759E11|     3.92275E11|     4.31685E11|     4.09402E11|     4.30191E11|     4.42585E11|     3.81971E11|     3.95837E11|     4.17261E11|     4.54991E11|     4.44621E11|     4.35225E11|     4.80368E11|\n",
            "|          Azerbaijan|         AZE|GDP (current US$)|NY.GDP.MKTP.CD|           null|           null|           null|           null|           null|           null|           null|           null|           null|           null|           null|           null|           null|           null|           null|           null|           null|           null|           null|           null|           null|           null|           null|           null|           null|           null|           null|           null|           null|           null|  8.858006036E9|  8.792365811E9|  4.463055556E8|         1.57E9|  1.193312102E9|   2.41735584E9|  3.176333837E9|  3.962238113E9|  4.446368571E9|  4.581432039E9|5.272798391E9|5.707720391E9|   6.23585682E9|  7.276753895E9|  8.680370408E9|1.3245716099E10|2.0982986344E10|3.3050343783E10| 4.885248296E10|4.4291490421E10|5.2909294792E10|  6.59516272E10|6.9683935845E10|7.4164435946E10|7.5244294275E10|5.3074370486E10|3.7867518957E10|4.0865558912E10|4.7112941176E10|4.8174235294E10|      4.2693E10|5.4622176471E10|\n",
            "|             Burundi|         BDI|GDP (current US$)|NY.GDP.MKTP.CD|    1.9599999E8|   2.02999992E8|   2.13500006E8|   2.32749998E8|   2.60750008E8|   1.58994963E8|  1.654445714E8|  1.782971429E8|        1.832E8|  1.902057143E8|  2.427325714E8|  2.528422857E8|  2.468045714E8|  3.043398396E8|  3.452634921E8|  4.209866667E8|  4.484127536E8|  5.475355556E8|  6.102255556E8|  7.824966667E8|  9.197266667E8|  9.690466667E8|  1.013222222E9|  1.082926304E9|  9.871439312E8|  1.149979286E9|  1.201725497E9|  1.131466494E9|  1.082403219E9|   1.11392413E9|  1.132101253E9|  1.167398478E9|  1.083037671E9|   9.38632612E8|  9.250305902E8|  1.000428394E9|  8.690338563E8|  9.728962679E8|  8.937708061E8|  8.080772234E8|8.704860659E8|8.767947231E8|  8.253944902E8|  7.846544236E8|  9.152573234E8|  1.117113046E9|   1.27337502E9|  1.356199365E9|  1.611835902E9|  1.781455092E9|  2.032135247E9|  2.235820868E9|  2.333341375E9|  2.451606684E9|  2.705783272E9|  3.104003611E9|  2.639321161E9|  2.712324134E9|  2.660123598E9|  2.576518846E9|  2.649671999E9|  2.779813489E9|\n",
            "|             Belgium|         BEL|GDP (current US$)|NY.GDP.MKTP.CD|1.1658722591E10|1.2400145222E10|1.3264015675E10|1.4260017387E10|1.5960106681E10|1.7371457608E10|1.8651883472E10|1.9992040788E10|2.1376353113E10|2.3710735895E10|2.6706196047E10| 2.982166187E10|3.7209418019E10| 4.774380149E10|5.6033077879E10|6.5678189097E10|7.1113882968E10|8.2839905459E10|     1.01247E11|     1.16315E11|     1.26829E11|      1.0473E11|9.2095926188E10|8.7184239053E10|8.3349530159E10|8.6268264148E10|     1.20019E11|     1.49394E11|     1.62299E11|     1.64221E11|     2.05332E11|     2.10511E11|     2.34782E11|     2.24722E11|     2.44884E11|     2.88026E11|     2.79201E11|     2.52708E11|     2.58528E11|     2.58246E11|   2.36792E11|   2.36746E11|     2.58384E11|     3.18083E11|     3.69215E11|     3.85715E11|      4.0826E11|     4.70922E11|     5.17328E11|     4.83254E11|     4.81421E11|      5.2333E11|     4.96153E11|     5.21791E11|      5.3539E11|     4.62336E11|     4.76063E11|     5.02765E11|     5.43299E11|     5.35831E11|     5.25212E11|     5.94104E11|\n",
            "|               Benin|         BEN|GDP (current US$)|NY.GDP.MKTP.CD|  2.261955794E8|  2.356682224E8|  2.364349068E8|  2.539276465E8|  2.698189883E8|  2.899087206E8|  3.029252808E8|  3.062220004E8|  3.263230974E8|  3.307482115E8|  3.336277582E8|  3.350729752E8|   4.10331901E8|  5.043760357E8|   5.54654787E8|  6.768701403E8|  6.984082444E8|  7.500497392E8|  9.288433048E8|  1.186231265E9|  1.405251547E9|  1.291119965E9|  1.267778489E9|  1.095348303E9|  1.051133927E9|  1.045712703E9|  1.336102041E9|   1.56241203E9|  1.620246187E9|  1.502294411E9|  1.959965244E9|   1.98643786E9|  1.695315306E9|  2.274557914E9|  1.598075932E9|  2.169627251E9|  2.361116588E9|  2.268301538E9|  2.455092582E9|  3.677394292E9|3.519991326E9|  3.6662226E9|  4.194342849E9|  5.349258334E9|  6.190270756E9|  6.567654494E9|  7.034111651E9|   8.16904869E9|  9.787735426E9|  9.738626993E9|  9.535345011E9| 1.069332137E10|1.1141358106E10|1.2517845128E10| 1.328452785E10|1.1388160997E10|1.1821065852E10|1.2701655846E10| 1.426240808E10|1.4391686309E10|1.5651545209E10|1.7144918952E10|\n",
            "|        Burkina Faso|         BFA|GDP (current US$)|NY.GDP.MKTP.CD|  3.304428172E8|  3.502472371E8|  3.795670233E8|  3.940405883E8|  4.103216182E8|  4.229168484E8|  4.338898316E8|  4.507539932E8|  4.604426782E8|  4.782985976E8|  4.584043301E8|  4.824111038E8|   5.78595584E8|  6.747735184E8|  7.511333306E8|  9.399727035E8|  9.765471635E8|  1.131224818E9|  1.475583383E9|  1.748480982E9|  1.928719477E9|  1.775842026E9|  1.754449845E9|  1.600278756E9|  1.459880019E9|  1.552493068E9|  2.036303381E9|   2.36983465E9|  2.616040646E9|  2.615587726E9|  3.101300642E9|  3.135045684E9|  3.356692518E9|  3.199536228E9|  1.895290623E9|  2.379518099E9|  2.586550747E9|  2.447668985E9|  2.804902248E9|  3.389566983E9|2.968369991E9| 3.19037105E9|  3.622350204E9|  4.740768355E9|  5.451688868E9|  6.146352742E9|  6.547420134E9|  7.625723124E9|  9.451436359E9|  9.450697336E9|1.0109618964E10|1.2080296644E10|1.2561016091E10|1.3444301139E10|1.3943016924E10|1.1832159276E10| 1.283336337E10| 1.410695683E10| 1.589006502E10| 1.617816203E10|1.7933606353E10|1.9737615114E10|\n",
            "+--------------------+------------+-----------------+--------------+---------------+---------------+---------------+---------------+---------------+---------------+---------------+---------------+---------------+---------------+---------------+---------------+---------------+---------------+---------------+---------------+---------------+---------------+---------------+---------------+---------------+---------------+---------------+---------------+---------------+---------------+---------------+---------------+---------------+---------------+---------------+---------------+---------------+---------------+---------------+---------------+---------------+---------------+---------------+---------------+-------------+-------------+---------------+---------------+---------------+---------------+---------------+---------------+---------------+---------------+---------------+---------------+---------------+---------------+---------------+---------------+---------------+---------------+---------------+---------------+---------------+---------------+\n",
            "only showing top 20 rows\n",
            "\n"
          ]
        },
        {
          "output_type": "execute_result",
          "data": {
            "text/plain": [
              "[('Country Name', 'string'),\n",
              " ('Country Code', 'string'),\n",
              " ('Indicator Name', 'string'),\n",
              " ('Indicator Code', 'string'),\n",
              " ('1960', 'double'),\n",
              " ('1961', 'double'),\n",
              " ('1962', 'double'),\n",
              " ('1963', 'double'),\n",
              " ('1964', 'double'),\n",
              " ('1965', 'double'),\n",
              " ('1966', 'double'),\n",
              " ('1967', 'double'),\n",
              " ('1968', 'double'),\n",
              " ('1969', 'double'),\n",
              " ('1970', 'double'),\n",
              " ('1971', 'double'),\n",
              " ('1972', 'double'),\n",
              " ('1973', 'double'),\n",
              " ('1974', 'double'),\n",
              " ('1975', 'double'),\n",
              " ('1976', 'double'),\n",
              " ('1977', 'double'),\n",
              " ('1978', 'double'),\n",
              " ('1979', 'double'),\n",
              " ('1980', 'double'),\n",
              " ('1981', 'double'),\n",
              " ('1982', 'double'),\n",
              " ('1983', 'double'),\n",
              " ('1984', 'double'),\n",
              " ('1985', 'double'),\n",
              " ('1986', 'double'),\n",
              " ('1987', 'double'),\n",
              " ('1988', 'double'),\n",
              " ('1989', 'double'),\n",
              " ('1990', 'double'),\n",
              " ('1991', 'double'),\n",
              " ('1992', 'double'),\n",
              " ('1993', 'double'),\n",
              " ('1994', 'double'),\n",
              " ('1995', 'double'),\n",
              " ('1996', 'double'),\n",
              " ('1997', 'double'),\n",
              " ('1998', 'double'),\n",
              " ('1999', 'double'),\n",
              " ('2000', 'double'),\n",
              " ('2001', 'double'),\n",
              " ('2002', 'double'),\n",
              " ('2003', 'double'),\n",
              " ('2004', 'double'),\n",
              " ('2005', 'double'),\n",
              " ('2006', 'double'),\n",
              " ('2007', 'double'),\n",
              " ('2008', 'double'),\n",
              " ('2009', 'double'),\n",
              " ('2010', 'double'),\n",
              " ('2011', 'double'),\n",
              " ('2012', 'double'),\n",
              " ('2013', 'double'),\n",
              " ('2014', 'double'),\n",
              " ('2015', 'double'),\n",
              " ('2016', 'double'),\n",
              " ('2017', 'double'),\n",
              " ('2018', 'double'),\n",
              " ('2019', 'double'),\n",
              " ('2020', 'double'),\n",
              " ('2021', 'double')]"
            ]
          },
          "metadata": {},
          "execution_count": 8
        }
      ]
    },
    {
      "cell_type": "code",
      "source": [
        "Country_GDP_df = Country_GDP_df.drop(Country_GDP_df[\"Indicator Name\"])\n",
        "Country_GDP_df = Country_GDP_df.drop(Country_GDP_df[\"Indicator Code\"])\n",
        "Country_GDP_df = Country_GDP_df.withColumnRenamed(\"Country Name\",\"country_name\")\n",
        "Country_GDP_df = Country_GDP_df.withColumnRenamed(\"Country Code\",\"country_code\")\n",
        "Country_GDP_df.printSchema()"
      ],
      "metadata": {
        "id": "oJxLOG_F_j4D",
        "colab": {
          "base_uri": "https://localhost:8080/"
        },
        "outputId": "3837aaf9-7414-410b-eaf0-a48b4eb1571c"
      },
      "execution_count": 9,
      "outputs": [
        {
          "output_type": "stream",
          "name": "stdout",
          "text": [
            "root\n",
            " |-- country_name: string (nullable = true)\n",
            " |-- country_code: string (nullable = true)\n",
            " |-- 1960: double (nullable = true)\n",
            " |-- 1961: double (nullable = true)\n",
            " |-- 1962: double (nullable = true)\n",
            " |-- 1963: double (nullable = true)\n",
            " |-- 1964: double (nullable = true)\n",
            " |-- 1965: double (nullable = true)\n",
            " |-- 1966: double (nullable = true)\n",
            " |-- 1967: double (nullable = true)\n",
            " |-- 1968: double (nullable = true)\n",
            " |-- 1969: double (nullable = true)\n",
            " |-- 1970: double (nullable = true)\n",
            " |-- 1971: double (nullable = true)\n",
            " |-- 1972: double (nullable = true)\n",
            " |-- 1973: double (nullable = true)\n",
            " |-- 1974: double (nullable = true)\n",
            " |-- 1975: double (nullable = true)\n",
            " |-- 1976: double (nullable = true)\n",
            " |-- 1977: double (nullable = true)\n",
            " |-- 1978: double (nullable = true)\n",
            " |-- 1979: double (nullable = true)\n",
            " |-- 1980: double (nullable = true)\n",
            " |-- 1981: double (nullable = true)\n",
            " |-- 1982: double (nullable = true)\n",
            " |-- 1983: double (nullable = true)\n",
            " |-- 1984: double (nullable = true)\n",
            " |-- 1985: double (nullable = true)\n",
            " |-- 1986: double (nullable = true)\n",
            " |-- 1987: double (nullable = true)\n",
            " |-- 1988: double (nullable = true)\n",
            " |-- 1989: double (nullable = true)\n",
            " |-- 1990: double (nullable = true)\n",
            " |-- 1991: double (nullable = true)\n",
            " |-- 1992: double (nullable = true)\n",
            " |-- 1993: double (nullable = true)\n",
            " |-- 1994: double (nullable = true)\n",
            " |-- 1995: double (nullable = true)\n",
            " |-- 1996: double (nullable = true)\n",
            " |-- 1997: double (nullable = true)\n",
            " |-- 1998: double (nullable = true)\n",
            " |-- 1999: double (nullable = true)\n",
            " |-- 2000: double (nullable = true)\n",
            " |-- 2001: double (nullable = true)\n",
            " |-- 2002: double (nullable = true)\n",
            " |-- 2003: double (nullable = true)\n",
            " |-- 2004: double (nullable = true)\n",
            " |-- 2005: double (nullable = true)\n",
            " |-- 2006: double (nullable = true)\n",
            " |-- 2007: double (nullable = true)\n",
            " |-- 2008: double (nullable = true)\n",
            " |-- 2009: double (nullable = true)\n",
            " |-- 2010: double (nullable = true)\n",
            " |-- 2011: double (nullable = true)\n",
            " |-- 2012: double (nullable = true)\n",
            " |-- 2013: double (nullable = true)\n",
            " |-- 2014: double (nullable = true)\n",
            " |-- 2015: double (nullable = true)\n",
            " |-- 2016: double (nullable = true)\n",
            " |-- 2017: double (nullable = true)\n",
            " |-- 2018: double (nullable = true)\n",
            " |-- 2019: double (nullable = true)\n",
            " |-- 2020: double (nullable = true)\n",
            " |-- 2021: double (nullable = true)\n",
            "\n"
          ]
        }
      ]
    },
    {
      "cell_type": "code",
      "source": [
        "# Country_GDP_df.count()\n",
        "# Country_GDP_df= Country_GDP_df.dropna()\n"
      ],
      "metadata": {
        "id": "rxvwY2kxCBzS"
      },
      "execution_count": 10,
      "outputs": []
    },
    {
      "cell_type": "code",
      "source": [
        "#select the years from the past two decades.\n",
        "Country_GDPdecade_df = Country_GDP_df.select(\"country_name\",\"country_code\",\"2000\",\"2001\",\"2002\",\"2003\",\"2004\",\"2005\",\"2006\",\"2007\",\"2008\",\"2009\",\"2010\",\"2011\",\n",
        "                                          \"2012\",\"2013\",\"2014\",\"2015\",\"2016\",\"2017\",\"2018\",\"2019\",\"2020\",\"2021\")\n",
        "\n",
        "\n",
        "country_demo_gdp_df = Country_GDPdecade_df.toPandas()\n",
        "\n",
        "country_demo_gdp_df.to_csv('test.csv')\n"
      ],
      "metadata": {
        "id": "b-YBNPXJEz_a"
      },
      "execution_count": 11,
      "outputs": []
    },
    {
      "cell_type": "code",
      "source": [],
      "metadata": {
        "id": "NK0_MJGaM82Y"
      },
      "execution_count": 11,
      "outputs": []
    },
    {
      "cell_type": "code",
      "source": [
        "#Perform the aggregation of each country GDP row wise.\n",
        "\n",
        "from pyspark.sql.functions import mean as _mean, stddev as _stddev, col\n",
        "\n",
        "total_cols = len(Country_GDPdecade_df.columns)\n",
        "total_cols = total_cols -2 \n",
        "rowMean  = (sum(col(year) for year in Country_GDPdecade_df.columns[2:]) /total_cols )\n",
        "rowMean\n",
        "Country_GDP_mean_df = Country_GDPdecade_df.select(\n",
        "    [\"country_name\",rowMean.alias(\"GDP\")]\n",
        "    # _stddev(col('columnName')).alias('std')\n",
        ")\n",
        "Country_GDP_mean_df.printSchema()\n",
        "Country_GDP_mean_df.show(20)"
      ],
      "metadata": {
        "id": "TgTGIyi9Flb0",
        "colab": {
          "base_uri": "https://localhost:8080/"
        },
        "outputId": "10a35efb-3542-4a67-d033-2840c4503d83"
      },
      "execution_count": 12,
      "outputs": [
        {
          "output_type": "stream",
          "name": "stdout",
          "text": [
            "root\n",
            " |-- country_name: string (nullable = true)\n",
            " |-- GDP: double (nullable = true)\n",
            "\n",
            "+--------------------+--------------------+\n",
            "|        country_name|                 GDP|\n",
            "+--------------------+--------------------+\n",
            "|               Aruba|2.6139411167727275E9|\n",
            "|Africa Eastern an...|7.456436363636364E11|\n",
            "|         Afghanistan|                null|\n",
            "|Africa Western an...|5.559582272727273E11|\n",
            "|              Angola|6.586903018531818...|\n",
            "|             Albania|1.092969456640909E10|\n",
            "|             Andorra| 3.015110450409091E9|\n",
            "|          Arab World|2.056340409090909...|\n",
            "|United Arab Emirates|2.908306818181818E11|\n",
            "|           Argentina|3.897998638296363...|\n",
            "|             Armenia| 8.706873217454546E9|\n",
            "|      American Samoa|                null|\n",
            "| Antigua and Barbuda|1.2092159931954546E9|\n",
            "|           Australia|         1.058007E12|\n",
            "|             Austria|3.711230454545455E11|\n",
            "|          Azerbaijan|3.890726858481818...|\n",
            "|             Burundi|1.9224104425090907E9|\n",
            "|             Belgium|4.491997272727273E11|\n",
            "|               Benin| 9.943231901318182E9|\n",
            "|        Burkina Faso|1.044751617809091E10|\n",
            "+--------------------+--------------------+\n",
            "only showing top 20 rows\n",
            "\n"
          ]
        }
      ]
    },
    {
      "cell_type": "markdown",
      "source": [
        "### Perform inner join between the two dataframes grouping by country_name.\n",
        "### Avoid creating the duplicate columns."
      ],
      "metadata": {
        "id": "OQ50iNLPPYL0"
      }
    },
    {
      "cell_type": "code",
      "source": [
        "# \n",
        "\n",
        "CountryDemographics_clean_df =CountryDemographics.join(Country_GDP_mean_df,['country_name'])\n",
        "CountryDemographics_clean_df.printSchema()\n",
        "\n",
        "CountryDemographics_clean_df.show()\n"
      ],
      "metadata": {
        "id": "WwVYKGYaK-nG",
        "colab": {
          "base_uri": "https://localhost:8080/"
        },
        "outputId": "1d526a1a-216c-4c69-9c7f-b3e828a267a4"
      },
      "execution_count": 13,
      "outputs": [
        {
          "output_type": "stream",
          "name": "stdout",
          "text": [
            "root\n",
            " |-- country_name: string (nullable = true)\n",
            " |-- country_code: string (nullable = true)\n",
            " |-- latitude: double (nullable = true)\n",
            " |-- longitude: double (nullable = true)\n",
            " |-- GDP: double (nullable = true)\n",
            "\n",
            "+--------------------+------------+----------+-----------+--------------------+\n",
            "|        country_name|country_code|  latitude|  longitude|                 GDP|\n",
            "+--------------------+------------+----------+-----------+--------------------+\n",
            "|             Andorra|          AD| 42.546245|   1.601554| 3.015110450409091E9|\n",
            "|United Arab Emirates|          AE| 23.424076|  53.847818|2.908306818181818E11|\n",
            "|         Afghanistan|          AF|  33.93911|  67.709953|                null|\n",
            "| Antigua and Barbuda|          AG| 17.060816| -61.796428|1.2092159931954546E9|\n",
            "|             Albania|          AL| 41.153332|  20.168331|1.092969456640909E10|\n",
            "|             Armenia|          AM| 40.069099|  45.038189| 8.706873217454546E9|\n",
            "|              Angola|          AO|-11.202692|  17.873887|6.586903018531818...|\n",
            "|           Argentina|          AR|-38.416097| -63.616672|3.897998638296363...|\n",
            "|      American Samoa|          AS|-14.270972|-170.132217|                null|\n",
            "|             Austria|          AT| 47.516231|  14.550072|3.711230454545455E11|\n",
            "|           Australia|          AU|-25.274398| 133.775136|         1.058007E12|\n",
            "|               Aruba|          AW|  12.52111| -69.968338|2.6139411167727275E9|\n",
            "|          Azerbaijan|          AZ| 40.143105|  47.576927|3.890726858481818...|\n",
            "|Bosnia and Herzeg...|          BA| 43.915886|  17.679076|1.536536314159091E10|\n",
            "|            Barbados|          BB| 13.193887| -59.543198| 4.340162822727273E9|\n",
            "|          Bangladesh|          BD| 23.684994|  90.356331|1.645153556962272...|\n",
            "|             Belgium|          BE| 50.503887|   4.469936|4.491997272727273E11|\n",
            "|        Burkina Faso|          BF| 12.238333|  -1.561593|1.044751617809091E10|\n",
            "|            Bulgaria|          BG| 42.733883|   25.48583|4.706302235709091E10|\n",
            "|             Bahrain|          BH| 25.930414|  50.637772|2.530378521518182E10|\n",
            "+--------------------+------------+----------+-----------+--------------------+\n",
            "only showing top 20 rows\n",
            "\n"
          ]
        }
      ]
    },
    {
      "cell_type": "markdown",
      "source": [
        "### Check the summary of all the dataframes so far created."
      ],
      "metadata": {
        "id": "giQKPaxkPM4x"
      }
    },
    {
      "cell_type": "code",
      "source": [
        "Country_GDP_df.summary().show()\n",
        "CountryDemographics.summary().show()\n",
        "\n",
        "CountryDemographics_clean_df.summary().show()\n",
        "CountryDemographics_clean_df = CountryDemographics_clean_df.dropna()\n",
        "\n",
        "df = CountryDemographics_clean_df.toPandas()\n",
        "df.to_csv(\"CountryDemographics.csv\")"
      ],
      "metadata": {
        "colab": {
          "base_uri": "https://localhost:8080/"
        },
        "id": "2ob7ZLciLqie",
        "outputId": "f33dc826-c378-47cd-be54-2a63c64850a0"
      },
      "execution_count": 18,
      "outputs": [
        {
          "output_type": "stream",
          "name": "stdout",
          "text": [
            "+-------+------------+------------+--------------------+--------------------+--------------------+--------------------+--------------------+--------------------+--------------------+--------------------+--------------------+--------------------+--------------------+--------------------+--------------------+--------------------+--------------------+--------------------+-------------------+--------------------+--------------------+--------------------+--------------------+--------------------+--------------------+--------------------+--------------------+--------------------+--------------------+--------------------+--------------------+--------------------+--------------------+--------------------+--------------------+--------------------+--------------------+--------------------+--------------------+--------------------+--------------------+--------------------+--------------------+--------------------+--------------------+--------------------+--------------------+--------------------+--------------------+--------------------+--------------------+--------------------+--------------------+--------------------+--------------------+--------------------+--------------------+--------------------+--------------------+--------------------+--------------------+--------------------+--------------------+--------------------+\n",
            "|summary|country_name|country_code|                1960|                1961|                1962|                1963|                1964|                1965|                1966|                1967|                1968|                1969|                1970|                1971|                1972|                1973|                1974|                1975|               1976|                1977|                1978|                1979|                1980|                1981|                1982|                1983|                1984|                1985|                1986|                1987|                1988|                1989|                1990|                1991|                1992|                1993|                1994|                1995|                1996|                1997|                1998|                1999|                2000|                2001|                2002|                2003|                2004|                2005|                2006|                2007|                2008|                2009|                2010|                2011|                2012|                2013|                2014|                2015|                2016|                2017|                2018|                2019|                2020|                2021|\n",
            "+-------+------------+------------+--------------------+--------------------+--------------------+--------------------+--------------------+--------------------+--------------------+--------------------+--------------------+--------------------+--------------------+--------------------+--------------------+--------------------+--------------------+--------------------+-------------------+--------------------+--------------------+--------------------+--------------------+--------------------+--------------------+--------------------+--------------------+--------------------+--------------------+--------------------+--------------------+--------------------+--------------------+--------------------+--------------------+--------------------+--------------------+--------------------+--------------------+--------------------+--------------------+--------------------+--------------------+--------------------+--------------------+--------------------+--------------------+--------------------+--------------------+--------------------+--------------------+--------------------+--------------------+--------------------+--------------------+--------------------+--------------------+--------------------+--------------------+--------------------+--------------------+--------------------+--------------------+--------------------+\n",
            "|  count|         266|         266|                 133|                 135|                 137|                 137|                 137|                 148|                 151|                 155|                 160|                 160|                 169|                 172|                 172|                 172|                 173|                 175|                176|                 179|                 178|                 179|                 191|                 194|                 195|                 196|                 197|                 199|                 201|                 205|                 210|                 210|                 226|                 226|                 227|                 229|                 231|                 240|                 240|                 240|                 242|                 243|                 247|                 249|                 254|                 254|                 254|                 254|                 255|                 255|                 256|                 256|                 257|                 260|                 258|                 259|                 260|                 258|                 257|                 257|                 257|                 255|                 252|                 245|\n",
            "|   mean|        null|        null|7.145101147956934E10|7.228293954861623E10|7.592537877166405E10|8.188584732700589E10|8.993946256775008E10|9.132166690987405E10|1.016111704232388...|1.048617732506881...|1.099901141593211...|1.216327016370190...|1.316785895928887...|1.426433108087658...|1.643031670541020...| 2.02736264865579E11|2.358541537421007...|2.602666032708168...|2.80076398069314E11|3.111574555021490...|3.646628578749631...|4.244591219016347E11|4.536789731332731E11|4.638407906177845...|4.549166265184399E11|4.546961849237342E11|4.643466726406946E11|4.802698985692987...|5.561297984281819E11|6.164142801332375E11| 6.78685599396402E11| 7.06889461885564E11|7.521123902522406E11| 7.75254175250899E11|8.228424207382286E11|8.274434750900752E11|8.846318651674927E11|9.529047776991648E11|  9.8190738920045E11|9.808670777103894E11|9.699819362748428E11|9.927689158560557E11|1.009432802500811...|  9.9849864561887E11|1.018048422171771...|1.148749208377185...|1.306047014358973...|1.430882463216524...|1.565258584273062...|1.793535087183235E12|1.996136006922884...|1.894894838293906...|2.096333097402032E12|2.321374143880442...|2.401197215051481E12|2.477301433245497E12|2.538933769610236E12|2.400302685579447...|2.444244661140130...|2.619424174069267...|2.782926650804131...|2.844767166701945...|2.789650771982516E12|3.275719319148521...|\n",
            "| stddev|        null|        null|2.139916412995792...|2.216268475881876...|2.362335864784292...|2.541473693098964...|2.779417726973277E11|2.919047812300237...|3.195950835152966E11|3.369884386625979...|3.589043911989415E11| 3.95028720379492E11| 4.22387552154604E11| 4.63485465920878E11|5.354252652705032E11|6.505154662350577E11|7.372882104991553E11| 8.19889685461532E11|8.86511929854458E11| 9.94085650364413E11|1.182409793649240...|1.368610609958954...| 1.48773994658044E12|1.507150729380594...|1.488893412373673...|1.522733130852300...|1.580334621237172E12|1.652788913096949...|1.968170266024515...|2.240370169293884E12|2.480995541860623E12|2.590851448189532...|2.826864168695017E12|2.967314452567342E12|3.178047521164926...|3.195546879409286...|3.425315709516528E12|3.738222074995058E12|3.794007133515521...|3.750316930897716E12|3.749015246001561...|3.899045371141847E12|3.966407438501139...|3.927051639813007E12|4.053155452622782E12|4.547824250131258E12|  5.0961368071636E12| 5.45539214852256E12|5.840832470033287E12|6.527378947608068E12|7.097862793828432E12|6.707620352417395...|7.252795828345948E12| 7.97992887528322E12|8.162818562116621E12| 8.38547451856767E12|8.597542238446781E12|8.158801908047929E12|8.314028890251997E12|8.847457426331014E12|9.417409683137621E12| 9.58640405960372E12| 9.38692427574824E12|1.079573306227262...|\n",
            "|    min| Afghanistan|         ABW|       1.201201201E7|       1.159201159E7|         9122751.453|       1.084009513E7|        1.27124714E7|       1.359393232E7|       1.446907818E7|       1.583517793E7|              1.46E7|             1.585E7|       1.429527954E7|       1.527863248E7|       1.893652695E7|       2.419601838E7|       3.151485631E7|       3.250674172E7|      3.003641696E7|       3.413938789E7|       4.156747167E7|       4.262016544E7|       4.213163289E7|             3.102E7|            3.4918E7|       3.783783784E7|       4.212373848E7|        3.21251484E7|        3.14171123E7|       3.570928441E7|       4.453472928E7|       4.428277716E7|          8824447.74|         9365165.914|         9742949.471|         9630762.954|       1.088682556E7|       1.102594514E7|       1.233484623E7|       1.270090545E7|       1.275763287E7|       1.368714111E7|        1.50742115E7|       1.396503569E7|       1.684233402E7|       1.945651469E7|       2.279747022E7|       2.290950745E7|       2.409638554E7|       2.844950213E7|       3.187384667E7|        2.80767431E7|       3.210420106E7|       3.919546158E7|       3.934562021E7|       3.861749372E7|       3.875968992E7|       3.681165953E7|       4.162949747E7|       4.521765788E7|        4.78182905E7|       5.422314911E7|       5.505471062E7|       6.310096154E7|\n",
            "|    25%|        null|        null|        5.08334414E8|       4.903251816E8|       5.317364929E8|       5.161477987E8|       5.425783672E8|       5.665428724E8|       6.288933104E8|       6.212259622E8|       6.412142107E8|         6.6800005E8|       5.789926388E8|       5.593783757E8|       5.854275457E8|       7.166941656E8|            1.0345E9|       1.128484859E9|      1.140406137E9|        1.04983855E9|       1.379883415E9|       1.527852636E9|            1.3838E9|            1.4265E9|       1.333754226E9|       1.297765326E9|       1.459880019E9|       1.440581534E9|       1.776842041E9|       1.987609145E9|       2.212536313E9|       2.185082943E9|       2.653480001E9|        2.72413146E9|       2.436849342E9|       2.682456897E9|       2.167564195E9|       2.693768413E9|       3.095047604E9|       3.291130072E9|          3.130748E9|       3.404311977E9|       3.057475335E9|       3.081024212E9|            3.1065E9|       3.503723245E9|         4.1379135E9|          4.868136E9|            5.3483E9|       5.867916781E9|       6.704430279E9|       6.584556512E9|       6.974982393E9|       6.881379762E9|        8.19434498E9|       8.448469838E9|       8.778473615E9|        8.53942491E9|       8.595955581E9|        9.25283412E9|       9.880675786E9|     1.0736233419E10|     1.0099158075E10|      1.226939284E10|\n",
            "|    50%|        null|        null|       2.760747472E9|        2.89965484E9|        2.81462621E9|       3.540403457E9|       3.405333333E9|       2.956356984E9|            3.1705E9|       3.384063372E9|            3.9417E9|       4.485777644E9|       4.395995086E9|       4.476001946E9|        5.71010742E9|            7.0024E9|       9.388663646E9|      1.004802237E10|    1.0117113333E10|     1.1248340431E10|     1.3281767143E10|     1.5912133569E10|          1.44361E10|     1.4890317368E10|     1.6517827317E10|     1.6251460689E10|     1.4824728528E10|     1.4094687821E10|     1.1857056336E10|     1.3049658331E10|     1.3051886552E10|     1.1476584879E10|      1.274738065E10|     1.1840192674E10|     1.2452275683E10|     1.3180953598E10|     1.2983235568E10|     1.3972676841E10|     1.5277763329E10|     1.7790026222E10|     1.7247179006E10|     1.7078465982E10|     1.6577533355E10|     1.5749753805E10|     1.5285594828E10|     1.7827791321E10|     2.1159827992E10|     2.4036917017E10|     2.5825524821E10|     3.2350248411E10|     3.5895153328E10|     3.7125943565E10|     4.0676432029E10|     4.6869457318E10|     4.6577793184E10|     5.0949672206E10|     5.2016408951E10|     4.9406568433E10|     4.9840491178E10|     5.4726595249E10|     5.7003685912E10|     6.1136873692E10|     5.6846622904E10|      6.740428726E10|\n",
            "|    75%|        null|        null|     3.1156300063E10|     3.2412500643E10|       2.90435691E10|     3.3667727526E10|     3.0961142418E10|     2.8344705967E10|     3.1745339262E10|     3.1086389195E10|     3.3930457425E10|     3.7171640819E10|     4.3149825508E10|     4.6619420359E10|     5.3515410561E10|      6.960152428E10|     9.7274006346E10|           1.0025E11|         1.09169E11|          1.27017E11|          1.43157E11|          1.78281E11|          1.70656E11|          1.84292E11|          1.84609E11|          1.56159E11|          1.44656E11|          1.45317E11|           1.5252E11|          1.49394E11|          2.04142E11|          2.17948E11|          2.23362E11|          2.10511E11|          2.28789E11|          2.08645E11|          2.06038E11|          1.85007E11|          1.92578E11|          2.12177E11|           2.1826E11|          1.95907E11|          2.06737E11|          1.97509E11|          1.99072E11|          2.28859E11|          2.64094E11|          3.15901E11|          3.69577E11|          4.32217E11|          5.17328E11|          4.39738E11|          4.95813E11|          5.30163E11|          5.52484E11|          5.52025E11|          5.39088E11|          5.05104E11|          5.15655E11|          5.41019E11|          5.55455E11|          5.96055E11|          5.99449E11|          8.19035E11|\n",
            "|    max|    Zimbabwe|         ZWE|          1.39228E12|          1.44863E12|          1.55055E12|          1.67161E12|          1.83029E12|          1.99391E12|           2.1639E12|          2.30253E12|          2.48522E12|          2.74118E12|          2.99723E12|          3.31078E12|          3.81715E12|          4.65698E12|          5.36759E12|          5.97892E12|         6.49938E12|           7.3508E12|          8.65656E12|          1.00542E13|          1.13366E13|          1.17276E13|          1.16098E13|          1.18401E13|          1.22716E13|          1.28622E13|          1.52078E13|          1.73103E13|          1.93412E13|          2.01975E13|          2.27838E13|          2.37636E13|          2.54103E13|          2.58263E13|          2.78768E13|          3.10485E13|          3.17419E13|          3.16278E13|          3.15466E13|          3.27455E13|          3.38396E13|           3.3624E13|           3.4918E13|          3.91523E13|           4.4124E13|          4.77844E13|          5.17802E13|          5.83495E13|          6.41208E13|          6.08041E13|          6.66058E13|          7.38576E13|          7.55012E13|          7.76072E13|          7.97332E13|          7.51878E13|          7.64615E13|          8.14007E13|          8.64569E13|          8.76453E13|          8.51056E13|          9.65131E13|\n",
            "+-------+------------+------------+--------------------+--------------------+--------------------+--------------------+--------------------+--------------------+--------------------+--------------------+--------------------+--------------------+--------------------+--------------------+--------------------+--------------------+--------------------+--------------------+-------------------+--------------------+--------------------+--------------------+--------------------+--------------------+--------------------+--------------------+--------------------+--------------------+--------------------+--------------------+--------------------+--------------------+--------------------+--------------------+--------------------+--------------------+--------------------+--------------------+--------------------+--------------------+--------------------+--------------------+--------------------+--------------------+--------------------+--------------------+--------------------+--------------------+--------------------+--------------------+--------------------+--------------------+--------------------+--------------------+--------------------+--------------------+--------------------+--------------------+--------------------+--------------------+--------------------+--------------------+--------------------+--------------------+\n",
            "\n",
            "+-------+------------+------------+------------------+------------------+\n",
            "|summary|country_code|country_name|          latitude|         longitude|\n",
            "+-------+------------+------------+------------------+------------------+\n",
            "|  count|         244|         244|               244|               244|\n",
            "|   mean|        null|        null|  16.2531093647541|13.294813586065576|\n",
            "| stddev|        null|        null|27.031206079229964| 73.97647657765005|\n",
            "|    min|          AD| Afghanistan|        -75.250973|       -177.156097|\n",
            "|    25%|        null|        null|         -0.522778|        -42.604303|\n",
            "|    50%|        null|        null|         16.742498|         17.873887|\n",
            "|    75%|        null|        null|         38.963745|         48.516388|\n",
            "|    max|          ZW|    Zimbabwe|         77.553604|        179.414413|\n",
            "+-------+------------+------------+------------------+------------------+\n",
            "\n",
            "+-------+------------+------------+------------------+------------------+--------------------+\n",
            "|summary|country_name|country_code|          latitude|         longitude|                 GDP|\n",
            "+-------+------------+------------+------------------+------------------+--------------------+\n",
            "|  count|         161|         161|               161|               161|                 161|\n",
            "|   mean|        null|        null|17.806873770186332|14.990999583850934|3.690858523381443...|\n",
            "| stddev|        null|        null|25.262038397184398| 69.82055531155882|1.486546667547520...|\n",
            "|    min|     Albania|          AD|        -40.900557|       -175.198242| 3.433727018863636E7|\n",
            "|    25%|        null|        null|          1.352083|        -10.940835| 6.766441612863636E9|\n",
            "|    50%|        null|        null|         15.783471|         18.643501|2.583645883768182E10|\n",
            "|    75%|        null|        null|         40.143105|         45.038189|1.645153556962272...|\n",
            "|    max|    Zimbabwe|          ZW|         64.963051|        179.414413|1.590805454545454...|\n",
            "+-------+------------+------------+------------------+------------------+--------------------+\n",
            "\n"
          ]
        }
      ]
    },
    {
      "cell_type": "markdown",
      "source": [
        "# Configure the RDS settings to write the cleaned dataframe into the CountryDemographics table."
      ],
      "metadata": {
        "id": "yQAABGbkPvIs"
      }
    },
    {
      "cell_type": "code",
      "source": [
        "# Configure settings for RDS\n",
        "\n",
        "mode = \"append\"\n",
        "jdbc_url=\"jdbc:postgresql://database-1.c1bq6ytovfoa.us-west-2.rds.amazonaws.com:5432/postgres\"\n",
        "config = {\"user\":\"postgres\", \n",
        "          \"password\": \"postgres\", \n",
        "           \"driver\":\"org.postgresql.Driver\"\n",
        "         }\n",
        "# Write country_clean_df to table in RDS\n",
        "CountryDemographics_clean_df.printSchema()\n",
        "\n",
        "\n",
        "CountryDemographics_clean_df.write.jdbc(url=jdbc_url, table='CountryGDPDemographics', mode=mode, properties=config)\n",
        "CountryDemographics_clean_df.show()"
      ],
      "metadata": {
        "id": "Cb7piTp6t9cB",
        "colab": {
          "base_uri": "https://localhost:8080/"
        },
        "outputId": "fab1b2cf-0f84-4f10-de72-157df480649a"
      },
      "execution_count": 19,
      "outputs": [
        {
          "output_type": "stream",
          "name": "stdout",
          "text": [
            "root\n",
            " |-- country_name: string (nullable = true)\n",
            " |-- country_code: string (nullable = true)\n",
            " |-- latitude: double (nullable = true)\n",
            " |-- longitude: double (nullable = true)\n",
            " |-- GDP: double (nullable = true)\n",
            "\n",
            "+--------------------+------------+----------+----------+--------------------+\n",
            "|        country_name|country_code|  latitude| longitude|                 GDP|\n",
            "+--------------------+------------+----------+----------+--------------------+\n",
            "|             Andorra|          AD| 42.546245|  1.601554| 3.015110450409091E9|\n",
            "|United Arab Emirates|          AE| 23.424076| 53.847818|2.908306818181818E11|\n",
            "| Antigua and Barbuda|          AG| 17.060816|-61.796428|1.2092159931954546E9|\n",
            "|             Albania|          AL| 41.153332| 20.168331|1.092969456640909E10|\n",
            "|             Armenia|          AM| 40.069099| 45.038189| 8.706873217454546E9|\n",
            "|              Angola|          AO|-11.202692| 17.873887|6.586903018531818...|\n",
            "|           Argentina|          AR|-38.416097|-63.616672|3.897998638296363...|\n",
            "|             Austria|          AT| 47.516231| 14.550072|3.711230454545455E11|\n",
            "|           Australia|          AU|-25.274398|133.775136|         1.058007E12|\n",
            "|               Aruba|          AW|  12.52111|-69.968338|2.6139411167727275E9|\n",
            "|          Azerbaijan|          AZ| 40.143105| 47.576927|3.890726858481818...|\n",
            "|Bosnia and Herzeg...|          BA| 43.915886| 17.679076|1.536536314159091E10|\n",
            "|            Barbados|          BB| 13.193887|-59.543198| 4.340162822727273E9|\n",
            "|          Bangladesh|          BD| 23.684994| 90.356331|1.645153556962272...|\n",
            "|             Belgium|          BE| 50.503887|  4.469936|4.491997272727273E11|\n",
            "|        Burkina Faso|          BF| 12.238333| -1.561593|1.044751617809091E10|\n",
            "|            Bulgaria|          BG| 42.733883|  25.48583|4.706302235709091E10|\n",
            "|             Bahrain|          BH| 25.930414| 50.637772|2.530378521518182E10|\n",
            "|             Burundi|          BI| -3.373056| 29.918886|1.9224104425090907E9|\n",
            "|               Benin|          BJ|   9.30769|  2.315834| 9.943231901318182E9|\n",
            "+--------------------+------------+----------+----------+--------------------+\n",
            "only showing top 20 rows\n",
            "\n"
          ]
        }
      ]
    }
  ]
}